{
 "cells": [
  {
   "cell_type": "raw",
   "metadata": {},
   "source": [
    "---\n",
    "self-contained: true\n",
    "title: \"Lab_5_Insurance_Costs\"\n",
    "author : \"Nirbhay Singh Naruka\"\n",
    "date : \"11/06/2023\"\n",
    "date-format: long\n",
    "format :\n",
    "    html:\n",
    "        mainfront: sans-serif;\n",
    "        theme : cyborg\n",
    "---"
   ]
  },
  {
   "cell_type": "code",
   "execution_count": 285,
   "metadata": {
    "id": "USWTxW10GoeT"
   },
   "outputs": [],
   "source": [
    "import pandas as pd\n",
    "import numpy as np\n",
    "import matplotlib.pyplot as plt\n",
    "import seaborn as sns\n",
    "import statsmodels.api as sm\n",
    "from sklearn.model_selection import train_test_split\n",
    "from sklearn.linear_model import LinearRegression\n",
    "from sklearn.pipeline import Pipeline\n",
    "from sklearn.preprocessing import StandardScaler, OneHotEncoder, PolynomialFeatures\n",
    "from sklearn.compose import ColumnTransformer\n",
    "from sklearn.metrics import r2_score, mean_squared_error"
   ]
  },
  {
   "cell_type": "code",
   "execution_count": 286,
   "metadata": {
    "colab": {
     "base_uri": "https://localhost:8080/",
     "height": 423
    },
    "id": "ZHkQYxEgJp4d",
    "outputId": "2083b576-d2b8-40f0-913d-d772f3776aa5"
   },
   "outputs": [
    {
     "data": {
      "text/html": [
       "\n",
       "  <div id=\"df-b2de8ff6-14b4-4264-a9fc-ef93c113c1aa\" class=\"colab-df-container\">\n",
       "    <div>\n",
       "<style scoped>\n",
       "    .dataframe tbody tr th:only-of-type {\n",
       "        vertical-align: middle;\n",
       "    }\n",
       "\n",
       "    .dataframe tbody tr th {\n",
       "        vertical-align: top;\n",
       "    }\n",
       "\n",
       "    .dataframe thead th {\n",
       "        text-align: right;\n",
       "    }\n",
       "</style>\n",
       "<table border=\"1\" class=\"dataframe\">\n",
       "  <thead>\n",
       "    <tr style=\"text-align: right;\">\n",
       "      <th></th>\n",
       "      <th>age</th>\n",
       "      <th>sex</th>\n",
       "      <th>bmi</th>\n",
       "      <th>smoker</th>\n",
       "      <th>region</th>\n",
       "      <th>charges</th>\n",
       "    </tr>\n",
       "  </thead>\n",
       "  <tbody>\n",
       "    <tr>\n",
       "      <th>0</th>\n",
       "      <td>19</td>\n",
       "      <td>female</td>\n",
       "      <td>27.900</td>\n",
       "      <td>yes</td>\n",
       "      <td>southwest</td>\n",
       "      <td>16884.92400</td>\n",
       "    </tr>\n",
       "    <tr>\n",
       "      <th>1</th>\n",
       "      <td>33</td>\n",
       "      <td>male</td>\n",
       "      <td>22.705</td>\n",
       "      <td>no</td>\n",
       "      <td>northwest</td>\n",
       "      <td>21984.47061</td>\n",
       "    </tr>\n",
       "    <tr>\n",
       "      <th>2</th>\n",
       "      <td>32</td>\n",
       "      <td>male</td>\n",
       "      <td>28.880</td>\n",
       "      <td>no</td>\n",
       "      <td>northwest</td>\n",
       "      <td>3866.85520</td>\n",
       "    </tr>\n",
       "    <tr>\n",
       "      <th>3</th>\n",
       "      <td>31</td>\n",
       "      <td>female</td>\n",
       "      <td>25.740</td>\n",
       "      <td>no</td>\n",
       "      <td>southeast</td>\n",
       "      <td>3756.62160</td>\n",
       "    </tr>\n",
       "    <tr>\n",
       "      <th>4</th>\n",
       "      <td>60</td>\n",
       "      <td>female</td>\n",
       "      <td>25.840</td>\n",
       "      <td>no</td>\n",
       "      <td>northwest</td>\n",
       "      <td>28923.13692</td>\n",
       "    </tr>\n",
       "    <tr>\n",
       "      <th>...</th>\n",
       "      <td>...</td>\n",
       "      <td>...</td>\n",
       "      <td>...</td>\n",
       "      <td>...</td>\n",
       "      <td>...</td>\n",
       "      <td>...</td>\n",
       "    </tr>\n",
       "    <tr>\n",
       "      <th>426</th>\n",
       "      <td>23</td>\n",
       "      <td>female</td>\n",
       "      <td>33.400</td>\n",
       "      <td>no</td>\n",
       "      <td>southwest</td>\n",
       "      <td>10795.93733</td>\n",
       "    </tr>\n",
       "    <tr>\n",
       "      <th>427</th>\n",
       "      <td>18</td>\n",
       "      <td>female</td>\n",
       "      <td>31.920</td>\n",
       "      <td>no</td>\n",
       "      <td>northeast</td>\n",
       "      <td>2205.98080</td>\n",
       "    </tr>\n",
       "    <tr>\n",
       "      <th>428</th>\n",
       "      <td>18</td>\n",
       "      <td>female</td>\n",
       "      <td>36.850</td>\n",
       "      <td>no</td>\n",
       "      <td>southeast</td>\n",
       "      <td>1629.83350</td>\n",
       "    </tr>\n",
       "    <tr>\n",
       "      <th>429</th>\n",
       "      <td>21</td>\n",
       "      <td>female</td>\n",
       "      <td>25.800</td>\n",
       "      <td>no</td>\n",
       "      <td>southwest</td>\n",
       "      <td>2007.94500</td>\n",
       "    </tr>\n",
       "    <tr>\n",
       "      <th>430</th>\n",
       "      <td>61</td>\n",
       "      <td>female</td>\n",
       "      <td>29.070</td>\n",
       "      <td>yes</td>\n",
       "      <td>northwest</td>\n",
       "      <td>29141.36030</td>\n",
       "    </tr>\n",
       "  </tbody>\n",
       "</table>\n",
       "<p>431 rows × 6 columns</p>\n",
       "</div>\n",
       "    <div class=\"colab-df-buttons\">\n",
       "\n",
       "  <div class=\"colab-df-container\">\n",
       "    <button class=\"colab-df-convert\" onclick=\"convertToInteractive('df-b2de8ff6-14b4-4264-a9fc-ef93c113c1aa')\"\n",
       "            title=\"Convert this dataframe to an interactive table.\"\n",
       "            style=\"display:none;\">\n",
       "\n",
       "  <svg xmlns=\"http://www.w3.org/2000/svg\" height=\"24px\" viewBox=\"0 -960 960 960\">\n",
       "    <path d=\"M120-120v-720h720v720H120Zm60-500h600v-160H180v160Zm220 220h160v-160H400v160Zm0 220h160v-160H400v160ZM180-400h160v-160H180v160Zm440 0h160v-160H620v160ZM180-180h160v-160H180v160Zm440 0h160v-160H620v160Z\"/>\n",
       "  </svg>\n",
       "    </button>\n",
       "\n",
       "  <style>\n",
       "    .colab-df-container {\n",
       "      display:flex;\n",
       "      gap: 12px;\n",
       "    }\n",
       "\n",
       "    .colab-df-convert {\n",
       "      background-color: #E8F0FE;\n",
       "      border: none;\n",
       "      border-radius: 50%;\n",
       "      cursor: pointer;\n",
       "      display: none;\n",
       "      fill: #1967D2;\n",
       "      height: 32px;\n",
       "      padding: 0 0 0 0;\n",
       "      width: 32px;\n",
       "    }\n",
       "\n",
       "    .colab-df-convert:hover {\n",
       "      background-color: #E2EBFA;\n",
       "      box-shadow: 0px 1px 2px rgba(60, 64, 67, 0.3), 0px 1px 3px 1px rgba(60, 64, 67, 0.15);\n",
       "      fill: #174EA6;\n",
       "    }\n",
       "\n",
       "    .colab-df-buttons div {\n",
       "      margin-bottom: 4px;\n",
       "    }\n",
       "\n",
       "    [theme=dark] .colab-df-convert {\n",
       "      background-color: #3B4455;\n",
       "      fill: #D2E3FC;\n",
       "    }\n",
       "\n",
       "    [theme=dark] .colab-df-convert:hover {\n",
       "      background-color: #434B5C;\n",
       "      box-shadow: 0px 1px 3px 1px rgba(0, 0, 0, 0.15);\n",
       "      filter: drop-shadow(0px 1px 2px rgba(0, 0, 0, 0.3));\n",
       "      fill: #FFFFFF;\n",
       "    }\n",
       "  </style>\n",
       "\n",
       "    <script>\n",
       "      const buttonEl =\n",
       "        document.querySelector('#df-b2de8ff6-14b4-4264-a9fc-ef93c113c1aa button.colab-df-convert');\n",
       "      buttonEl.style.display =\n",
       "        google.colab.kernel.accessAllowed ? 'block' : 'none';\n",
       "\n",
       "      async function convertToInteractive(key) {\n",
       "        const element = document.querySelector('#df-b2de8ff6-14b4-4264-a9fc-ef93c113c1aa');\n",
       "        const dataTable =\n",
       "          await google.colab.kernel.invokeFunction('convertToInteractive',\n",
       "                                                    [key], {});\n",
       "        if (!dataTable) return;\n",
       "\n",
       "        const docLinkHtml = 'Like what you see? Visit the ' +\n",
       "          '<a target=\"_blank\" href=https://colab.research.google.com/notebooks/data_table.ipynb>data table notebook</a>'\n",
       "          + ' to learn more about interactive tables.';\n",
       "        element.innerHTML = '';\n",
       "        dataTable['output_type'] = 'display_data';\n",
       "        await google.colab.output.renderOutput(dataTable, element);\n",
       "        const docLink = document.createElement('div');\n",
       "        docLink.innerHTML = docLinkHtml;\n",
       "        element.appendChild(docLink);\n",
       "      }\n",
       "    </script>\n",
       "  </div>\n",
       "\n",
       "\n",
       "<div id=\"df-38d407d5-06e8-4ecf-a6d6-4fa62b22cb9d\">\n",
       "  <button class=\"colab-df-quickchart\" onclick=\"quickchart('df-38d407d5-06e8-4ecf-a6d6-4fa62b22cb9d')\"\n",
       "            title=\"Suggest charts.\"\n",
       "            style=\"display:none;\">\n",
       "\n",
       "<svg xmlns=\"http://www.w3.org/2000/svg\" height=\"24px\"viewBox=\"0 0 24 24\"\n",
       "     width=\"24px\">\n",
       "    <g>\n",
       "        <path d=\"M19 3H5c-1.1 0-2 .9-2 2v14c0 1.1.9 2 2 2h14c1.1 0 2-.9 2-2V5c0-1.1-.9-2-2-2zM9 17H7v-7h2v7zm4 0h-2V7h2v10zm4 0h-2v-4h2v4z\"/>\n",
       "    </g>\n",
       "</svg>\n",
       "  </button>\n",
       "\n",
       "<style>\n",
       "  .colab-df-quickchart {\n",
       "      --bg-color: #E8F0FE;\n",
       "      --fill-color: #1967D2;\n",
       "      --hover-bg-color: #E2EBFA;\n",
       "      --hover-fill-color: #174EA6;\n",
       "      --disabled-fill-color: #AAA;\n",
       "      --disabled-bg-color: #DDD;\n",
       "  }\n",
       "\n",
       "  [theme=dark] .colab-df-quickchart {\n",
       "      --bg-color: #3B4455;\n",
       "      --fill-color: #D2E3FC;\n",
       "      --hover-bg-color: #434B5C;\n",
       "      --hover-fill-color: #FFFFFF;\n",
       "      --disabled-bg-color: #3B4455;\n",
       "      --disabled-fill-color: #666;\n",
       "  }\n",
       "\n",
       "  .colab-df-quickchart {\n",
       "    background-color: var(--bg-color);\n",
       "    border: none;\n",
       "    border-radius: 50%;\n",
       "    cursor: pointer;\n",
       "    display: none;\n",
       "    fill: var(--fill-color);\n",
       "    height: 32px;\n",
       "    padding: 0;\n",
       "    width: 32px;\n",
       "  }\n",
       "\n",
       "  .colab-df-quickchart:hover {\n",
       "    background-color: var(--hover-bg-color);\n",
       "    box-shadow: 0 1px 2px rgba(60, 64, 67, 0.3), 0 1px 3px 1px rgba(60, 64, 67, 0.15);\n",
       "    fill: var(--button-hover-fill-color);\n",
       "  }\n",
       "\n",
       "  .colab-df-quickchart-complete:disabled,\n",
       "  .colab-df-quickchart-complete:disabled:hover {\n",
       "    background-color: var(--disabled-bg-color);\n",
       "    fill: var(--disabled-fill-color);\n",
       "    box-shadow: none;\n",
       "  }\n",
       "\n",
       "  .colab-df-spinner {\n",
       "    border: 2px solid var(--fill-color);\n",
       "    border-color: transparent;\n",
       "    border-bottom-color: var(--fill-color);\n",
       "    animation:\n",
       "      spin 1s steps(1) infinite;\n",
       "  }\n",
       "\n",
       "  @keyframes spin {\n",
       "    0% {\n",
       "      border-color: transparent;\n",
       "      border-bottom-color: var(--fill-color);\n",
       "      border-left-color: var(--fill-color);\n",
       "    }\n",
       "    20% {\n",
       "      border-color: transparent;\n",
       "      border-left-color: var(--fill-color);\n",
       "      border-top-color: var(--fill-color);\n",
       "    }\n",
       "    30% {\n",
       "      border-color: transparent;\n",
       "      border-left-color: var(--fill-color);\n",
       "      border-top-color: var(--fill-color);\n",
       "      border-right-color: var(--fill-color);\n",
       "    }\n",
       "    40% {\n",
       "      border-color: transparent;\n",
       "      border-right-color: var(--fill-color);\n",
       "      border-top-color: var(--fill-color);\n",
       "    }\n",
       "    60% {\n",
       "      border-color: transparent;\n",
       "      border-right-color: var(--fill-color);\n",
       "    }\n",
       "    80% {\n",
       "      border-color: transparent;\n",
       "      border-right-color: var(--fill-color);\n",
       "      border-bottom-color: var(--fill-color);\n",
       "    }\n",
       "    90% {\n",
       "      border-color: transparent;\n",
       "      border-bottom-color: var(--fill-color);\n",
       "    }\n",
       "  }\n",
       "</style>\n",
       "\n",
       "  <script>\n",
       "    async function quickchart(key) {\n",
       "      const quickchartButtonEl =\n",
       "        document.querySelector('#' + key + ' button');\n",
       "      quickchartButtonEl.disabled = true;  // To prevent multiple clicks.\n",
       "      quickchartButtonEl.classList.add('colab-df-spinner');\n",
       "      try {\n",
       "        const charts = await google.colab.kernel.invokeFunction(\n",
       "            'suggestCharts', [key], {});\n",
       "      } catch (error) {\n",
       "        console.error('Error during call to suggestCharts:', error);\n",
       "      }\n",
       "      quickchartButtonEl.classList.remove('colab-df-spinner');\n",
       "      quickchartButtonEl.classList.add('colab-df-quickchart-complete');\n",
       "    }\n",
       "    (() => {\n",
       "      let quickchartButtonEl =\n",
       "        document.querySelector('#df-38d407d5-06e8-4ecf-a6d6-4fa62b22cb9d button');\n",
       "      quickchartButtonEl.style.display =\n",
       "        google.colab.kernel.accessAllowed ? 'block' : 'none';\n",
       "    })();\n",
       "  </script>\n",
       "</div>\n",
       "    </div>\n",
       "  </div>\n"
      ],
      "text/plain": [
       "     age     sex     bmi smoker     region      charges\n",
       "0     19  female  27.900    yes  southwest  16884.92400\n",
       "1     33    male  22.705     no  northwest  21984.47061\n",
       "2     32    male  28.880     no  northwest   3866.85520\n",
       "3     31  female  25.740     no  southeast   3756.62160\n",
       "4     60  female  25.840     no  northwest  28923.13692\n",
       "..   ...     ...     ...    ...        ...          ...\n",
       "426   23  female  33.400     no  southwest  10795.93733\n",
       "427   18  female  31.920     no  northeast   2205.98080\n",
       "428   18  female  36.850     no  southeast   1629.83350\n",
       "429   21  female  25.800     no  southwest   2007.94500\n",
       "430   61  female  29.070    yes  northwest  29141.36030\n",
       "\n",
       "[431 rows x 6 columns]"
      ]
     },
     "execution_count": 286,
     "metadata": {},
     "output_type": "execute_result"
    }
   ],
   "source": [
    "data = pd.read_csv(\"insurance_costs_1.csv\")\n",
    "data"
   ]
  },
  {
   "cell_type": "code",
   "execution_count": 287,
   "metadata": {
    "colab": {
     "base_uri": "https://localhost:8080/"
    },
    "id": "DAcEXqFoJ_JO",
    "outputId": "ed187393-fb92-4271-aa26-5b7bc81d2fcc"
   },
   "outputs": [
    {
     "name": "stdout",
     "output_type": "stream",
     "text": [
      "\n",
      " First few rows of columns :\n",
      "   age     sex     bmi smoker     region      charges\n",
      "0   19  female  27.900    yes  southwest  16884.92400\n",
      "1   33    male  22.705     no  northwest  21984.47061\n",
      "2   32    male  28.880     no  northwest   3866.85520\n",
      "3   31  female  25.740     no  southeast   3756.62160\n",
      "4   60  female  25.840     no  northwest  28923.13692\n",
      "\n",
      " Total number of values in each columns :\n",
      "age        431\n",
      "sex        431\n",
      "bmi        431\n",
      "smoker     431\n",
      "region     431\n",
      "charges    431\n",
      "dtype: int64\n",
      "\n",
      " Summary of the datasets :\n",
      "<class 'pandas.core.frame.DataFrame'>\n",
      "RangeIndex: 431 entries, 0 to 430\n",
      "Data columns (total 6 columns):\n",
      " #   Column   Non-Null Count  Dtype  \n",
      "---  ------   --------------  -----  \n",
      " 0   age      431 non-null    int64  \n",
      " 1   sex      431 non-null    object \n",
      " 2   bmi      431 non-null    float64\n",
      " 3   smoker   431 non-null    object \n",
      " 4   region   431 non-null    object \n",
      " 5   charges  431 non-null    float64\n",
      "dtypes: float64(2), int64(1), object(3)\n",
      "memory usage: 20.3+ KB\n",
      "None\n",
      "\n",
      " Statistical summary of each variable : \n",
      "              age         bmi       charges\n",
      "count  431.000000  431.000000    431.000000\n",
      "mean    37.960557   30.768898  12297.098118\n",
      "std     16.363909    6.111362  11876.527128\n",
      "min     18.000000   15.960000   1131.506600\n",
      "25%     22.000000   26.357500   2710.444575\n",
      "50%     34.000000   30.590000   9866.304850\n",
      "75%     55.000000   35.272500  14510.872600\n",
      "max     64.000000   49.060000  55135.402090\n"
     ]
    }
   ],
   "source": [
    "print(\"\\n First few rows of columns :\")\n",
    "print(data.head())\n",
    "print(\"\\n Total number of values in each columns :\")\n",
    "print(data.count())\n",
    "print(\"\\n Summary of the datasets :\")\n",
    "print(data.info())\n",
    "print(\"\\n Statistical summary of each variable : \")\n",
    "print(data.describe())"
   ]
  },
  {
   "cell_type": "code",
   "execution_count": 288,
   "metadata": {
    "colab": {
     "base_uri": "https://localhost:8080/",
     "height": 1000
    },
    "id": "M3DhdIPOLCEg",
    "outputId": "95f2069f-60e7-4af2-af4f-5eef5b57a104"
   },
   "outputs": [
    {
     "data": {
      "image/png": "[encoded data removed]",
      "text/plain": [
       "<Figure size 800x500 with 1 Axes>"
      ]
     },
     "metadata": {},
     "output_type": "display_data"
    },
    {
     "data": {
      "image/png": "[encoded data removed]",
      "text/plain": [
       "<Figure size 800x500 with 1 Axes>"
      ]
     },
     "metadata": {},
     "output_type": "display_data"
    },
    {
     "data": {
      "image/png": "[encoded data removed]",
      "text/plain": [
       "<Figure size 800x500 with 1 Axes>"
      ]
     },
     "metadata": {},
     "output_type": "display_data"
    }
   ],
   "source": [
    "#Average Charges by Smoker Status\n",
    "plt.figure(figsize=(8, 5))\n",
    "sns.barplot(x='smoker', y='charges', data=data)\n",
    "plt.title('Average Charges by Smoker Status')\n",
    "plt.show()\n",
    "\n",
    "#Average Charges by Region\n",
    "plt.figure(figsize=(8, 5))\n",
    "sns.barplot(x='region', y='charges', data=data)\n",
    "plt.title('Average Charges by Region')\n",
    "plt.show()\n",
    "\n",
    "#Average Charges by sex\n",
    "plt.figure(figsize=(8, 5))\n",
    "sns.barplot(x='sex', y='charges', data=data)\n",
    "plt.title('Average Charges by Sex')\n",
    "plt.show()\n"
   ]
  },
  {
   "cell_type": "markdown",
   "metadata": {
    "id": "8dlrj2MVQJhU"
   },
   "source": [
    "Average Charges by Smoker Status:\n",
    "The bar plot shows sthe difference in the charges between smokers and non smokers, we can say that smoking is associated with higher health risk and by that increasing the charges, as smoker have higher average charges comapring to non smokers.\n",
    "\n",
    "Average Charges by Region: The average charges seems to vary by region, even though there is not much difference in the average charges by the region, but we can say that southeast have the higher average charges.\n",
    "\n",
    "Average Charges by Sex: The bar plot shows a difference in average charges between males and females. males have slightly higher average charges comapring to females , this can be because of the multiple factors like lifestyle or smoking.\n"
   ]
  },
  {
   "cell_type": "markdown",
   "metadata": {
    "id": "6oX4xu02UjF0"
   },
   "source": [
    "Part Two: Simple Linear Models\n",
    "\n",
    "1. Construct a simple linear model to predict the insurance charges from the beneficiary’s age. Discuss the model fit, and interpret the coefficient estimates."
   ]
  },
  {
   "cell_type": "code",
   "execution_count": 289,
   "metadata": {
    "colab": {
     "base_uri": "https://localhost:8080/"
    },
    "id": "XZiBxuxVRY5D",
    "outputId": "6894ef77-8aa2-4bdf-da68-acbdec2590b4"
   },
   "outputs": [
    {
     "data": {
      "text/plain": [
       "array([202.45606082])"
      ]
     },
     "execution_count": 289,
     "metadata": {},
     "output_type": "execute_result"
    }
   ],
   "source": [
    "lr = LinearRegression()\n",
    "X = data[['age']]\n",
    "y = data['charges']\n",
    "\n",
    "X_train, X_test, y_train, y_test = train_test_split(X, y, test_size=0.25, random_state=0)\n",
    "\n",
    "lr_fit = lr.fit(X_train, y_train)\n",
    "lr_fit.coef_"
   ]
  },
  {
   "cell_type": "code",
   "execution_count": 290,
   "metadata": {
    "colab": {
     "base_uri": "https://localhost:8080/"
    },
    "id": "2XMptCSQVsb6",
    "outputId": "01fc4ab8-e63f-490f-8e86-be9f432fce51"
   },
   "outputs": [
    {
     "name": "stdout",
     "output_type": "stream",
     "text": [
      "R-squared: 0.16027712717096088\n",
      "Mean Squared Error: 103394159.41425982\n"
     ]
    }
   ],
   "source": [
    "y_preds = lr_fit.predict(X_test)\n",
    "r2 = r2_score(y_test, y_preds)\n",
    "mse = mean_squared_error(y_test, y_preds)\n",
    "\n",
    "print(f\"R-squared: {r2}\")\n",
    "print(f\"Mean Squared Error: {mse}\")"
   ]
  },
  {
   "cell_type": "markdown",
   "metadata": {
    "id": "RrszMWhCWAJi"
   },
   "source": [
    "The lr_fit.coef_ value means that, on average, each additional year of age is associated with an increase of about 235.57 dollar in insurance charges, while everything else is constant, as we are only taking one variable that is age as a predictive variable.\n",
    "\n",
    "Coming to R^2 value, the model does not fit the data well, as it's a low R^2 value. means, other variable play a significant role in the charges along with the age  "
   ]
  },
  {
   "cell_type": "markdown",
   "metadata": {
    "id": "AQkcMF3_XVQQ"
   },
   "source": [
    "2. Make a model that also incorporates the variable sex. Report your results.\n",
    "\n"
   ]
  },
  {
   "cell_type": "code",
   "execution_count": 291,
   "metadata": {
    "colab": {
     "base_uri": "https://localhost:8080/",
     "height": 191
    },
    "id": "GI05mY1gW-8O",
    "outputId": "19a13982-b682-4e43-9026-82801102ac6b"
   },
   "outputs": [
    {
     "data": {
      "text/html": [
       "<style>#sk-container-id-30 {color: black;background-color: white;}#sk-container-id-30 pre{padding: 0;}#sk-container-id-30 div.sk-toggleable {background-color: white;}#sk-container-id-30 label.sk-toggleable__label {cursor: pointer;display: block;width: 100%;margin-bottom: 0;padding: 0.3em;box-sizing: border-box;text-align: center;}#sk-container-id-30 label.sk-toggleable__label-arrow:before {content: \"▸\";float: left;margin-right: 0.25em;color: #696969;}#sk-container-id-30 label.sk-toggleable__label-arrow:hover:before {color: black;}#sk-container-id-30 div.sk-estimator:hover label.sk-toggleable__label-arrow:before {color: black;}#sk-container-id-30 div.sk-toggleable__content {max-height: 0;max-width: 0;overflow: hidden;text-align: left;background-color: #f0f8ff;}#sk-container-id-30 div.sk-toggleable__content pre {margin: 0.2em;color: black;border-radius: 0.25em;background-color: #f0f8ff;}#sk-container-id-30 input.sk-toggleable__control:checked~div.sk-toggleable__content {max-height: 200px;max-width: 100%;overflow: auto;}#sk-container-id-30 input.sk-toggleable__control:checked~label.sk-toggleable__label-arrow:before {content: \"▾\";}#sk-container-id-30 div.sk-estimator input.sk-toggleable__control:checked~label.sk-toggleable__label {background-color: #d4ebff;}#sk-container-id-30 div.sk-label input.sk-toggleable__control:checked~label.sk-toggleable__label {background-color: #d4ebff;}#sk-container-id-30 input.sk-hidden--visually {border: 0;clip: rect(1px 1px 1px 1px);clip: rect(1px, 1px, 1px, 1px);height: 1px;margin: -1px;overflow: hidden;padding: 0;position: absolute;width: 1px;}#sk-container-id-30 div.sk-estimator {font-family: monospace;background-color: #f0f8ff;border: 1px dotted black;border-radius: 0.25em;box-sizing: border-box;margin-bottom: 0.5em;}#sk-container-id-30 div.sk-estimator:hover {background-color: #d4ebff;}#sk-container-id-30 div.sk-parallel-item::after {content: \"\";width: 100%;border-bottom: 1px solid gray;flex-grow: 1;}#sk-container-id-30 div.sk-label:hover label.sk-toggleable__label {background-color: #d4ebff;}#sk-container-id-30 div.sk-serial::before {content: \"\";position: absolute;border-left: 1px solid gray;box-sizing: border-box;top: 0;bottom: 0;left: 50%;z-index: 0;}#sk-container-id-30 div.sk-serial {display: flex;flex-direction: column;align-items: center;background-color: white;padding-right: 0.2em;padding-left: 0.2em;position: relative;}#sk-container-id-30 div.sk-item {position: relative;z-index: 1;}#sk-container-id-30 div.sk-parallel {display: flex;align-items: stretch;justify-content: center;background-color: white;position: relative;}#sk-container-id-30 div.sk-item::before, #sk-container-id-30 div.sk-parallel-item::before {content: \"\";position: absolute;border-left: 1px solid gray;box-sizing: border-box;top: 0;bottom: 0;left: 50%;z-index: -1;}#sk-container-id-30 div.sk-parallel-item {display: flex;flex-direction: column;z-index: 1;position: relative;background-color: white;}#sk-container-id-30 div.sk-parallel-item:first-child::after {align-self: flex-end;width: 50%;}#sk-container-id-30 div.sk-parallel-item:last-child::after {align-self: flex-start;width: 50%;}#sk-container-id-30 div.sk-parallel-item:only-child::after {width: 0;}#sk-container-id-30 div.sk-dashed-wrapped {border: 1px dashed gray;margin: 0 0.4em 0.5em 0.4em;box-sizing: border-box;padding-bottom: 0.4em;background-color: white;}#sk-container-id-30 div.sk-label label {font-family: monospace;font-weight: bold;display: inline-block;line-height: 1.2em;}#sk-container-id-30 div.sk-label-container {text-align: center;}#sk-container-id-30 div.sk-container {/* jupyter's `normalize.less` sets `[hidden] { display: none; }` but bootstrap.min.css set `[hidden] { display: none !important; }` so we also need the `!important` here to be able to override the default hidden behavior on the sphinx rendered scikit-learn.org. See: https://github.com/scikit-learn/scikit-learn/issues/21755 */display: inline-block !important;position: relative;}#sk-container-id-30 div.sk-text-repr-fallback {display: none;}</style><div id=\"sk-container-id-30\" class=\"sk-top-container\"><div class=\"sk-text-repr-fallback\"><pre>Pipeline(steps=[(&#x27;preprocessor&#x27;,\n",
       "                 ColumnTransformer(remainder=&#x27;passthrough&#x27;,\n",
       "                                   transformers=[(&#x27;dummify&#x27;,\n",
       "                                                  OneHotEncoder(sparse_output=False),\n",
       "                                                  [&#x27;sex&#x27;])])),\n",
       "                (&#x27;model&#x27;, LinearRegression())])</pre><b>In a Jupyter environment, please rerun this cell to show the HTML representation or trust the notebook. <br />On GitHub, the HTML representation is unable to render, please try loading this page with nbviewer.org.</b></div><div class=\"sk-container\" hidden><div class=\"sk-item sk-dashed-wrapped\"><div class=\"sk-label-container\"><div class=\"sk-label sk-toggleable\"><input class=\"sk-toggleable__control sk-hidden--visually\" id=\"sk-estimator-id-214\" type=\"checkbox\" ><label for=\"sk-estimator-id-214\" class=\"sk-toggleable__label sk-toggleable__label-arrow\">Pipeline</label><div class=\"sk-toggleable__content\"><pre>Pipeline(steps=[(&#x27;preprocessor&#x27;,\n",
       "                 ColumnTransformer(remainder=&#x27;passthrough&#x27;,\n",
       "                                   transformers=[(&#x27;dummify&#x27;,\n",
       "                                                  OneHotEncoder(sparse_output=False),\n",
       "                                                  [&#x27;sex&#x27;])])),\n",
       "                (&#x27;model&#x27;, LinearRegression())])</pre></div></div></div><div class=\"sk-serial\"><div class=\"sk-item sk-dashed-wrapped\"><div class=\"sk-label-container\"><div class=\"sk-label sk-toggleable\"><input class=\"sk-toggleable__control sk-hidden--visually\" id=\"sk-estimator-id-215\" type=\"checkbox\" ><label for=\"sk-estimator-id-215\" class=\"sk-toggleable__label sk-toggleable__label-arrow\">preprocessor: ColumnTransformer</label><div class=\"sk-toggleable__content\"><pre>ColumnTransformer(remainder=&#x27;passthrough&#x27;,\n",
       "                  transformers=[(&#x27;dummify&#x27;, OneHotEncoder(sparse_output=False),\n",
       "                                 [&#x27;sex&#x27;])])</pre></div></div></div><div class=\"sk-parallel\"><div class=\"sk-parallel-item\"><div class=\"sk-item\"><div class=\"sk-label-container\"><div class=\"sk-label sk-toggleable\"><input class=\"sk-toggleable__control sk-hidden--visually\" id=\"sk-estimator-id-216\" type=\"checkbox\" ><label for=\"sk-estimator-id-216\" class=\"sk-toggleable__label sk-toggleable__label-arrow\">dummify</label><div class=\"sk-toggleable__content\"><pre>[&#x27;sex&#x27;]</pre></div></div></div><div class=\"sk-serial\"><div class=\"sk-item\"><div class=\"sk-estimator sk-toggleable\"><input class=\"sk-toggleable__control sk-hidden--visually\" id=\"sk-estimator-id-217\" type=\"checkbox\" ><label for=\"sk-estimator-id-217\" class=\"sk-toggleable__label sk-toggleable__label-arrow\">OneHotEncoder</label><div class=\"sk-toggleable__content\"><pre>OneHotEncoder(sparse_output=False)</pre></div></div></div></div></div></div><div class=\"sk-parallel-item\"><div class=\"sk-item\"><div class=\"sk-label-container\"><div class=\"sk-label sk-toggleable\"><input class=\"sk-toggleable__control sk-hidden--visually\" id=\"sk-estimator-id-218\" type=\"checkbox\" ><label for=\"sk-estimator-id-218\" class=\"sk-toggleable__label sk-toggleable__label-arrow\">remainder</label><div class=\"sk-toggleable__content\"><pre></pre></div></div></div><div class=\"sk-serial\"><div class=\"sk-item\"><div class=\"sk-estimator sk-toggleable\"><input class=\"sk-toggleable__control sk-hidden--visually\" id=\"sk-estimator-id-219\" type=\"checkbox\" ><label for=\"sk-estimator-id-219\" class=\"sk-toggleable__label sk-toggleable__label-arrow\">passthrough</label><div class=\"sk-toggleable__content\"><pre>passthrough</pre></div></div></div></div></div></div></div></div><div class=\"sk-item\"><div class=\"sk-estimator sk-toggleable\"><input class=\"sk-toggleable__control sk-hidden--visually\" id=\"sk-estimator-id-220\" type=\"checkbox\" ><label for=\"sk-estimator-id-220\" class=\"sk-toggleable__label sk-toggleable__label-arrow\">LinearRegression</label><div class=\"sk-toggleable__content\"><pre>LinearRegression()</pre></div></div></div></div></div></div></div>"
      ],
      "text/plain": [
       "Pipeline(steps=[('preprocessor',\n",
       "                 ColumnTransformer(remainder='passthrough',\n",
       "                                   transformers=[('dummify',\n",
       "                                                  OneHotEncoder(sparse_output=False),\n",
       "                                                  ['sex'])])),\n",
       "                ('model', LinearRegression())])"
      ]
     },
     "execution_count": 291,
     "metadata": {},
     "output_type": "execute_result"
    }
   ],
   "source": [
    "X = data[['age', 'sex']]\n",
    "y = data['charges']\n",
    "\n",
    "X_train, X_test, y_train, y_test = train_test_split(X, y, test_size=0.25, random_state=0)\n",
    "\n",
    "ct = ColumnTransformer(\n",
    "    transformers=[\n",
    "        (\"dummify\", OneHotEncoder(sparse_output = False), [\"sex\"])\n",
    "    ],\n",
    "    remainder='passthrough'\n",
    ")\n",
    "\n",
    "pipeline = Pipeline(steps=[\n",
    "    ('preprocessor', ct),\n",
    "    ('model', LinearRegression())\n",
    "])\n",
    "pipeline\n"
   ]
  },
  {
   "cell_type": "code",
   "execution_count": 292,
   "metadata": {
    "colab": {
     "base_uri": "https://localhost:8080/"
    },
    "id": "e15XbkZEaGsV",
    "outputId": "b72fa6c5-2e45-41cd-84be-3bd44ae34b60"
   },
   "outputs": [
    {
     "name": "stdout",
     "output_type": "stream",
     "text": [
      "Coefficients for sex: -906.2607885400965\n",
      "Coefficient for age: 906.2607885400989\n",
      "Intercept: 5252.312995188782\n",
      "R-squared: 0.1302105862496845\n",
      "Mean Squared Error: 107096219.73158397\n"
     ]
    }
   ],
   "source": [
    "pipeline.fit(X_train, y_train)\n",
    "y_pred = pipeline.predict(X_test)\n",
    "r2 = r2_score(y_test, y_pred)\n",
    "mse = mean_squared_error(y_test, y_pred)\n",
    "\n",
    "model = pipeline.named_steps['model']\n",
    "age_coef = model.coef_[1]\n",
    "sex_coef = model.coef_[0]\n",
    "intercept = model.intercept_\n",
    "\n",
    "print(f\"Coefficients for sex: {sex_coef}\")\n",
    "print(f\"Coefficient for age: {age_coef}\")\n",
    "print(f\"Intercept: {intercept}\")\n",
    "print(f\"R-squared: {r2}\")\n",
    "print(f\"Mean Squared Error: {mse}\")"
   ]
  },
  {
   "cell_type": "markdown",
   "metadata": {
    "id": "FeK7bLUCesKt"
   },
   "source": [
    "3. Now make a model that does not include sex, but does include smoker. Report your results."
   ]
  },
  {
   "cell_type": "code",
   "execution_count": 293,
   "metadata": {
    "colab": {
     "base_uri": "https://localhost:8080/",
     "height": 191
    },
    "id": "srwAkmMUeyp7",
    "outputId": "0759e23b-ee04-4c82-803c-3445e7cfd4fb"
   },
   "outputs": [
    {
     "data": {
      "text/html": [
       "<style>#sk-container-id-31 {color: black;background-color: white;}#sk-container-id-31 pre{padding: 0;}#sk-container-id-31 div.sk-toggleable {background-color: white;}#sk-container-id-31 label.sk-toggleable__label {cursor: pointer;display: block;width: 100%;margin-bottom: 0;padding: 0.3em;box-sizing: border-box;text-align: center;}#sk-container-id-31 label.sk-toggleable__label-arrow:before {content: \"▸\";float: left;margin-right: 0.25em;color: #696969;}#sk-container-id-31 label.sk-toggleable__label-arrow:hover:before {color: black;}#sk-container-id-31 div.sk-estimator:hover label.sk-toggleable__label-arrow:before {color: black;}#sk-container-id-31 div.sk-toggleable__content {max-height: 0;max-width: 0;overflow: hidden;text-align: left;background-color: #f0f8ff;}#sk-container-id-31 div.sk-toggleable__content pre {margin: 0.2em;color: black;border-radius: 0.25em;background-color: #f0f8ff;}#sk-container-id-31 input.sk-toggleable__control:checked~div.sk-toggleable__content {max-height: 200px;max-width: 100%;overflow: auto;}#sk-container-id-31 input.sk-toggleable__control:checked~label.sk-toggleable__label-arrow:before {content: \"▾\";}#sk-container-id-31 div.sk-estimator input.sk-toggleable__control:checked~label.sk-toggleable__label {background-color: #d4ebff;}#sk-container-id-31 div.sk-label input.sk-toggleable__control:checked~label.sk-toggleable__label {background-color: #d4ebff;}#sk-container-id-31 input.sk-hidden--visually {border: 0;clip: rect(1px 1px 1px 1px);clip: rect(1px, 1px, 1px, 1px);height: 1px;margin: -1px;overflow: hidden;padding: 0;position: absolute;width: 1px;}#sk-container-id-31 div.sk-estimator {font-family: monospace;background-color: #f0f8ff;border: 1px dotted black;border-radius: 0.25em;box-sizing: border-box;margin-bottom: 0.5em;}#sk-container-id-31 div.sk-estimator:hover {background-color: #d4ebff;}#sk-container-id-31 div.sk-parallel-item::after {content: \"\";width: 100%;border-bottom: 1px solid gray;flex-grow: 1;}#sk-container-id-31 div.sk-label:hover label.sk-toggleable__label {background-color: #d4ebff;}#sk-container-id-31 div.sk-serial::before {content: \"\";position: absolute;border-left: 1px solid gray;box-sizing: border-box;top: 0;bottom: 0;left: 50%;z-index: 0;}#sk-container-id-31 div.sk-serial {display: flex;flex-direction: column;align-items: center;background-color: white;padding-right: 0.2em;padding-left: 0.2em;position: relative;}#sk-container-id-31 div.sk-item {position: relative;z-index: 1;}#sk-container-id-31 div.sk-parallel {display: flex;align-items: stretch;justify-content: center;background-color: white;position: relative;}#sk-container-id-31 div.sk-item::before, #sk-container-id-31 div.sk-parallel-item::before {content: \"\";position: absolute;border-left: 1px solid gray;box-sizing: border-box;top: 0;bottom: 0;left: 50%;z-index: -1;}#sk-container-id-31 div.sk-parallel-item {display: flex;flex-direction: column;z-index: 1;position: relative;background-color: white;}#sk-container-id-31 div.sk-parallel-item:first-child::after {align-self: flex-end;width: 50%;}#sk-container-id-31 div.sk-parallel-item:last-child::after {align-self: flex-start;width: 50%;}#sk-container-id-31 div.sk-parallel-item:only-child::after {width: 0;}#sk-container-id-31 div.sk-dashed-wrapped {border: 1px dashed gray;margin: 0 0.4em 0.5em 0.4em;box-sizing: border-box;padding-bottom: 0.4em;background-color: white;}#sk-container-id-31 div.sk-label label {font-family: monospace;font-weight: bold;display: inline-block;line-height: 1.2em;}#sk-container-id-31 div.sk-label-container {text-align: center;}#sk-container-id-31 div.sk-container {/* jupyter's `normalize.less` sets `[hidden] { display: none; }` but bootstrap.min.css set `[hidden] { display: none !important; }` so we also need the `!important` here to be able to override the default hidden behavior on the sphinx rendered scikit-learn.org. See: https://github.com/scikit-learn/scikit-learn/issues/21755 */display: inline-block !important;position: relative;}#sk-container-id-31 div.sk-text-repr-fallback {display: none;}</style><div id=\"sk-container-id-31\" class=\"sk-top-container\"><div class=\"sk-text-repr-fallback\"><pre>Pipeline(steps=[(&#x27;preprocessor&#x27;,\n",
       "                 ColumnTransformer(remainder=&#x27;passthrough&#x27;,\n",
       "                                   transformers=[(&#x27;dummify&#x27;,\n",
       "                                                  OneHotEncoder(sparse_output=False),\n",
       "                                                  [&#x27;smoker&#x27;])])),\n",
       "                (&#x27;model&#x27;, LinearRegression())])</pre><b>In a Jupyter environment, please rerun this cell to show the HTML representation or trust the notebook. <br />On GitHub, the HTML representation is unable to render, please try loading this page with nbviewer.org.</b></div><div class=\"sk-container\" hidden><div class=\"sk-item sk-dashed-wrapped\"><div class=\"sk-label-container\"><div class=\"sk-label sk-toggleable\"><input class=\"sk-toggleable__control sk-hidden--visually\" id=\"sk-estimator-id-221\" type=\"checkbox\" ><label for=\"sk-estimator-id-221\" class=\"sk-toggleable__label sk-toggleable__label-arrow\">Pipeline</label><div class=\"sk-toggleable__content\"><pre>Pipeline(steps=[(&#x27;preprocessor&#x27;,\n",
       "                 ColumnTransformer(remainder=&#x27;passthrough&#x27;,\n",
       "                                   transformers=[(&#x27;dummify&#x27;,\n",
       "                                                  OneHotEncoder(sparse_output=False),\n",
       "                                                  [&#x27;smoker&#x27;])])),\n",
       "                (&#x27;model&#x27;, LinearRegression())])</pre></div></div></div><div class=\"sk-serial\"><div class=\"sk-item sk-dashed-wrapped\"><div class=\"sk-label-container\"><div class=\"sk-label sk-toggleable\"><input class=\"sk-toggleable__control sk-hidden--visually\" id=\"sk-estimator-id-222\" type=\"checkbox\" ><label for=\"sk-estimator-id-222\" class=\"sk-toggleable__label sk-toggleable__label-arrow\">preprocessor: ColumnTransformer</label><div class=\"sk-toggleable__content\"><pre>ColumnTransformer(remainder=&#x27;passthrough&#x27;,\n",
       "                  transformers=[(&#x27;dummify&#x27;, OneHotEncoder(sparse_output=False),\n",
       "                                 [&#x27;smoker&#x27;])])</pre></div></div></div><div class=\"sk-parallel\"><div class=\"sk-parallel-item\"><div class=\"sk-item\"><div class=\"sk-label-container\"><div class=\"sk-label sk-toggleable\"><input class=\"sk-toggleable__control sk-hidden--visually\" id=\"sk-estimator-id-223\" type=\"checkbox\" ><label for=\"sk-estimator-id-223\" class=\"sk-toggleable__label sk-toggleable__label-arrow\">dummify</label><div class=\"sk-toggleable__content\"><pre>[&#x27;smoker&#x27;]</pre></div></div></div><div class=\"sk-serial\"><div class=\"sk-item\"><div class=\"sk-estimator sk-toggleable\"><input class=\"sk-toggleable__control sk-hidden--visually\" id=\"sk-estimator-id-224\" type=\"checkbox\" ><label for=\"sk-estimator-id-224\" class=\"sk-toggleable__label sk-toggleable__label-arrow\">OneHotEncoder</label><div class=\"sk-toggleable__content\"><pre>OneHotEncoder(sparse_output=False)</pre></div></div></div></div></div></div><div class=\"sk-parallel-item\"><div class=\"sk-item\"><div class=\"sk-label-container\"><div class=\"sk-label sk-toggleable\"><input class=\"sk-toggleable__control sk-hidden--visually\" id=\"sk-estimator-id-225\" type=\"checkbox\" ><label for=\"sk-estimator-id-225\" class=\"sk-toggleable__label sk-toggleable__label-arrow\">remainder</label><div class=\"sk-toggleable__content\"><pre></pre></div></div></div><div class=\"sk-serial\"><div class=\"sk-item\"><div class=\"sk-estimator sk-toggleable\"><input class=\"sk-toggleable__control sk-hidden--visually\" id=\"sk-estimator-id-226\" type=\"checkbox\" ><label for=\"sk-estimator-id-226\" class=\"sk-toggleable__label sk-toggleable__label-arrow\">passthrough</label><div class=\"sk-toggleable__content\"><pre>passthrough</pre></div></div></div></div></div></div></div></div><div class=\"sk-item\"><div class=\"sk-estimator sk-toggleable\"><input class=\"sk-toggleable__control sk-hidden--visually\" id=\"sk-estimator-id-227\" type=\"checkbox\" ><label for=\"sk-estimator-id-227\" class=\"sk-toggleable__label sk-toggleable__label-arrow\">LinearRegression</label><div class=\"sk-toggleable__content\"><pre>LinearRegression()</pre></div></div></div></div></div></div></div>"
      ],
      "text/plain": [
       "Pipeline(steps=[('preprocessor',\n",
       "                 ColumnTransformer(remainder='passthrough',\n",
       "                                   transformers=[('dummify',\n",
       "                                                  OneHotEncoder(sparse_output=False),\n",
       "                                                  ['smoker'])])),\n",
       "                ('model', LinearRegression())])"
      ]
     },
     "execution_count": 293,
     "metadata": {},
     "output_type": "execute_result"
    }
   ],
   "source": [
    "X = data[['age', 'smoker']]\n",
    "y = data['charges']\n",
    "X_train, X_test, y_train, y_test = train_test_split(X, y, test_size=0.25, random_state=0)\n",
    "\n",
    "ct = ColumnTransformer(\n",
    "    transformers=[\n",
    "        (\"dummify\", OneHotEncoder(sparse_output = False), [\"smoker\"])\n",
    "    ],\n",
    "    remainder='passthrough'\n",
    ")\n",
    "\n",
    "pipeline = Pipeline(steps=[\n",
    "    ('preprocessor', ct),\n",
    "    ('model', LinearRegression())\n",
    "])\n",
    "pipeline"
   ]
  },
  {
   "cell_type": "code",
   "execution_count": 294,
   "metadata": {
    "colab": {
     "base_uri": "https://localhost:8080/"
    },
    "id": "aWajaMh6fCQ-",
    "outputId": "68169071-a60d-4a73-92c1-16d4b93e41ef"
   },
   "outputs": [
    {
     "name": "stdout",
     "output_type": "stream",
     "text": [
      "[-12184.08882588  12184.08882588    260.21186592]\n",
      "Coefficients for smoker: -12184.088825884426\n",
      "Coefficient for age: 12184.088825884388\n",
      "Intercept: 9610.747385811932\n",
      "R-squared: 0.732598767838633\n",
      "Mean Squared Error: 32924821.41461298\n"
     ]
    }
   ],
   "source": [
    "pipeline.fit(X_train, y_train)\n",
    "y_pred = pipeline.predict(X_test)\n",
    "r2 = r2_score(y_test, y_pred)\n",
    "mse = mean_squared_error(y_test, y_pred)\n",
    "\n",
    "model = pipeline.named_steps['model']\n",
    "age_coef = model.coef_[1]\n",
    "smoker_coef = model.coef_[0]\n",
    "intercept = model.intercept_\n",
    "print(model.coef_)\n",
    "print(f\"Coefficients for smoker: {smoker_coef}\")\n",
    "print(f\"Coefficient for age: {age_coef}\")\n",
    "print(f\"Intercept: {intercept}\")\n",
    "print(f\"R-squared: {r2}\")\n",
    "print(f\"Mean Squared Error: {mse}\")"
   ]
  },
  {
   "cell_type": "markdown",
   "metadata": {
    "id": "PfhRuTl9lQSR"
   },
   "source": [
    "4. Which model (Q2 or Q3) do you think better fits the data? Justify your answer by calculating the MSE for each model, and also by comparing R-squared values.\n",
    "\n",
    "\n",
    "The model Q3 that is age and smoker is better fit for the dataset, than Q2 model.\n",
    "as the value of MSE is lower for Q3 and R^2 value is higher comparing to Q2.\n",
    "it means the variable smoker is better predictore variable of model than sex for predicting the charges"
   ]
  },
  {
   "cell_type": "markdown",
   "metadata": {
    "id": "Y8ApCVK-mfLu"
   },
   "source": [
    "**Part Three: Multiple Linear Models**\n",
    "\n",
    "Now let’s consider including multiple quantitative predictors.\n",
    "\n",
    "1. Fit a model that uses age and bmi as predictors. (Do not include an interaction term, age*bmi, between these two.) Report your results. How does the MSE compare to the model in Part Two Q1? How does the R-squared compare?"
   ]
  },
  {
   "cell_type": "code",
   "execution_count": 295,
   "metadata": {
    "colab": {
     "base_uri": "https://localhost:8080/"
    },
    "id": "BMx9mlgzlLt2",
    "outputId": "db0f72c9-418d-4876-817f-8cbaebf92976"
   },
   "outputs": [
    {
     "data": {
      "text/plain": [
       "array([192.95019421, 274.85679501])"
      ]
     },
     "execution_count": 295,
     "metadata": {},
     "output_type": "execute_result"
    }
   ],
   "source": [
    "X = data[['age', 'bmi']]\n",
    "y = data['charges']\n",
    "X_train, X_test, y_train, y_test = train_test_split(X, y, test_size=0.25, random_state=0)\n",
    "\n",
    "lr = LinearRegression()\n",
    "lr_fit = lr.fit(X_train, y_train)\n",
    "y_pred = lr.predict(X_test)\n",
    "lr_fit.coef_"
   ]
  },
  {
   "cell_type": "code",
   "execution_count": 296,
   "metadata": {
    "colab": {
     "base_uri": "https://localhost:8080/"
    },
    "id": "GnQk52TZnVow",
    "outputId": "2a47ce9d-feb2-46de-c5ee-500b26824b0a"
   },
   "outputs": [
    {
     "name": "stdout",
     "output_type": "stream",
     "text": [
      "R-squared: 0.19093570425126283\n",
      "Mean Squared Error: 99619202.33184093\n"
     ]
    }
   ],
   "source": [
    "r2 = r2_score(y_test, y_pred)\n",
    "mse = mean_squared_error(y_test, y_pred)\n",
    "\n",
    "print(f\"R-squared: {r2}\")\n",
    "print(f\"Mean Squared Error: {mse}\")\n"
   ]
  },
  {
   "cell_type": "markdown",
   "metadata": {
    "id": "GiPfaZitn0qj"
   },
   "source": [
    "The R^2 value of the current model is higher than Q1, indicating this model is better, also the MSE of Q1 is higher than the current model , means the current model is better than Q1\n"
   ]
  },
  {
   "cell_type": "markdown",
   "metadata": {
    "id": "vIEjQrwJpDRL"
   },
   "source": [
    "2. Perhaps the relationships are not linear. Fit a model that uses age and age^2 as predictors. How do the MSE and R-squared compare to the model in P2 Q1?"
   ]
  },
  {
   "cell_type": "code",
   "execution_count": 297,
   "metadata": {
    "colab": {
     "base_uri": "https://localhost:8080/"
    },
    "id": "tSZvuolUpFjt",
    "outputId": "2731d8dc-0be9-4e3d-f46c-de783273827e"
   },
   "outputs": [
    {
     "data": {
      "text/plain": [
       "array([235.71702762,  -0.41734452])"
      ]
     },
     "execution_count": 297,
     "metadata": {},
     "output_type": "execute_result"
    }
   ],
   "source": [
    "data['age_squared'] = data['age'] ** 2\n",
    "X = data[['age', 'age_squared']]\n",
    "y = data['charges']\n",
    "\n",
    "X_train, X_test, y_train, y_test = train_test_split(X, y, test_size=0.25, random_state=0)\n",
    "\n",
    "lr_fit = lr.fit(X_train, y_train)\n",
    "y_pred = lr.predict(X_test)\n",
    "lr_fit.coef_"
   ]
  },
  {
   "cell_type": "code",
   "execution_count": 298,
   "metadata": {
    "colab": {
     "base_uri": "https://localhost:8080/"
    },
    "id": "54X8XB6Jt6uh",
    "outputId": "641c7fb5-6e0b-42ca-e843-e6a2934615ef"
   },
   "outputs": [
    {
     "name": "stdout",
     "output_type": "stream",
     "text": [
      "Age coefficient : 235.71702761642115\n",
      "Age Squared coefficient : -0.417344516169896\n",
      "Intercept for model : 4445.785608273771\n",
      "R-squared: 0.16087206884635963\n",
      "Mean Squared Error: 103320904.89611013\n"
     ]
    }
   ],
   "source": [
    "age_coef = lr.coef_[0]\n",
    "age_squared_coef = lr.coef_[1]\n",
    "intercept = lr.intercept_\n",
    "\n",
    "r2 = r2_score(y_test, y_pred)\n",
    "mse = mean_squared_error(y_test, y_pred)\n",
    "print(f\"Age coefficient : {age_coef}\")\n",
    "print(f\"Age Squared coefficient : {age_squared_coef}\")\n",
    "print(f\"Intercept for model : {intercept}\")\n",
    "print(f\"R-squared: {r2}\")\n",
    "print(f\"Mean Squared Error: {mse}\")\n"
   ]
  },
  {
   "cell_type": "markdown",
   "metadata": {
    "id": "j8313y0-wFAc"
   },
   "source": [
    "The R^2 value is higher in the model with age and age squared as predictors. it means this model explains more of the variance in the response variable, charges, than the model with age and sex.\n",
    "The MSE is lower in the model with age and age squared. This means that, on average, the squared differences between the predicted charges and the actual charges are smaller, indicating a better fit.\n",
    "\n",
    "we will prefer the model with age and age squared as a better fit model.\n"
   ]
  },
  {
   "cell_type": "markdown",
   "metadata": {
    "id": "agCRBv8VznQR"
   },
   "source": [
    "3. Fit a polynomial model of degree 4. How do the MSE and R-squared compare to the model in P2 Q1?"
   ]
  },
  {
   "cell_type": "code",
   "execution_count": 299,
   "metadata": {
    "colab": {
     "base_uri": "https://localhost:8080/"
    },
    "id": "nBXp2gPfu5Cd",
    "outputId": "f553fd21-6991-445c-b06c-679baaf41e6f"
   },
   "outputs": [
    {
     "data": {
      "text/plain": [
       "array([ 0.00000000e+00, -8.49361611e+03,  3.76711927e+02, -6.76432680e+00,\n",
       "        4.28963793e-02])"
      ]
     },
     "execution_count": 299,
     "metadata": {},
     "output_type": "execute_result"
    }
   ],
   "source": [
    "X = data[['age']]\n",
    "y = data['charges']\n",
    "X_train, X_test, y_train, y_test = train_test_split(X, y, test_size=0.25, random_state=0)\n",
    "\n",
    "poly = PolynomialFeatures(degree=4)\n",
    "\n",
    "X_train_poly = poly.fit_transform(X_train)\n",
    "X_test_poly = poly.transform(X_test)\n",
    "\n",
    "lr_fit = lr.fit(X_train_poly, y_train)\n",
    "y_pred = lr.predict(X_test_poly)\n",
    "lr_fit.coef_"
   ]
  },
  {
   "cell_type": "code",
   "execution_count": 300,
   "metadata": {
    "colab": {
     "base_uri": "https://localhost:8080/"
    },
    "id": "LUQi1rAFx-Uc",
    "outputId": "1f9d125d-d8c4-49e4-ae88-5abb4c8e318c"
   },
   "outputs": [
    {
     "name": "stdout",
     "output_type": "stream",
     "text": [
      "R-squared: 0.16831787792598774\n",
      "Mean Squared Error: 102404110.56329225\n"
     ]
    }
   ],
   "source": [
    "r2 = r2_score(y_test, y_pred)\n",
    "mse = mean_squared_error(y_test, y_pred)\n",
    "\n",
    "print(f\"R-squared: {r2}\")\n",
    "print(f\"Mean Squared Error: {mse}\")"
   ]
  },
  {
   "cell_type": "markdown",
   "metadata": {
    "id": "AQWffxMDz7gt"
   },
   "source": [
    "Comparing MSE and R^2 values, we will say model with degree 4 is better fit becasue of higher R^2 and less MSE values"
   ]
  },
  {
   "cell_type": "markdown",
   "metadata": {
    "id": "PCSI3yU70eO-"
   },
   "source": [
    "4. Fit a polynomial model of degree 12. How do the MSE and R-squared compare to the model in P2 Q1?"
   ]
  },
  {
   "cell_type": "code",
   "execution_count": 301,
   "metadata": {
    "colab": {
     "base_uri": "https://localhost:8080/"
    },
    "id": "eb62QESw0i4Y",
    "outputId": "4f04b2f8-9f68-4f45-9cb2-ff972401d6a4"
   },
   "outputs": [
    {
     "data": {
      "text/plain": [
       "array([ 0.00000000e+00,  1.75128077e-06, -3.04805911e-09, -3.74500429e-08,\n",
       "       -6.20117675e-07, -7.38511859e-06, -4.87996151e-05,  1.54392772e-05,\n",
       "       -1.22341176e-06,  4.42242527e-08, -8.29783366e-10,  7.88310129e-12,\n",
       "       -3.00352324e-14])"
      ]
     },
     "execution_count": 301,
     "metadata": {},
     "output_type": "execute_result"
    }
   ],
   "source": [
    "X = data[['age']]\n",
    "y = data['charges']\n",
    "X_train, X_test, y_train, y_test = train_test_split(X, y, test_size=0.25, random_state=0)\n",
    "\n",
    "poly = PolynomialFeatures(degree=12)\n",
    "\n",
    "X_train_poly = poly.fit_transform(X_train)\n",
    "X_test_poly = poly.transform(X_test)\n",
    "\n",
    "lr_fit = lr.fit(X_train_poly, y_train)\n",
    "y_pred = lr.predict(X_test_poly)\n",
    "lr_fit.coef_"
   ]
  },
  {
   "cell_type": "code",
   "execution_count": 302,
   "metadata": {
    "colab": {
     "base_uri": "https://localhost:8080/"
    },
    "id": "qPyNHviL0mMQ",
    "outputId": "7edf5e4b-75db-46a4-c1ff-6b6ea7524252"
   },
   "outputs": [
    {
     "name": "stdout",
     "output_type": "stream",
     "text": [
      "R-squared: 0.14560391279680274\n",
      "Mean Squared Error: 105200856.26057781\n"
     ]
    }
   ],
   "source": [
    "r2 = r2_score(y_test, y_pred)\n",
    "mse = mean_squared_error(y_test, y_pred)\n",
    "\n",
    "print(f\"R-squared: {r2}\")\n",
    "print(f\"Mean Squared Error: {mse}\")"
   ]
  },
  {
   "cell_type": "markdown",
   "metadata": {
    "id": "v-0LoB_-08-V"
   },
   "source": [
    "Due to higher value of degree, model is facing overfitting issue and giving higher MSE and lower R^2 value comparing to the linear model in P2 Q1.\n",
    "\n",
    "In this case we will prefer model P2 Q1.\n"
   ]
  },
  {
   "cell_type": "markdown",
   "metadata": {
    "id": "gItqbPhY1Pxa"
   },
   "source": [
    "5. According to the MSE and R-squared, which is the best model? Do you agree that this is indeed the “best” model? Why or why not?\n",
    "\n",
    "P2 Q3 model, simple linear model with age and smoker.\n",
    "\n",
    "with highest R^2 and lowest MSE.\n"
   ]
  },
  {
   "cell_type": "code",
   "execution_count": 303,
   "metadata": {
    "colab": {
     "base_uri": "https://localhost:8080/"
    },
    "id": "p36UVxRPJ9JI",
    "outputId": "097094fc-6e4b-4741-caf5-4914fb7249cd"
   },
   "outputs": [
    {
     "name": "stdout",
     "output_type": "stream",
     "text": [
      "                                 OLS Regression Results                                \n",
      "=======================================================================================\n",
      "Dep. Variable:                charges   R-squared (uncentered):                   0.884\n",
      "Model:                            OLS   Adj. R-squared (uncentered):              0.882\n",
      "Method:                 Least Squares   F-statistic:                              462.3\n",
      "Date:                Tue, 07 Nov 2023   Prob (F-statistic):                   5.18e-194\n",
      "Time:                        07:13:32   Log-Likelihood:                         -4347.6\n",
      "No. Observations:                 431   AIC:                                      8709.\n",
      "Df Residuals:                     424   BIC:                                      8738.\n",
      "Df Model:                           7                                                  \n",
      "Covariance Type:            nonrobust                                                  \n",
      "====================================================================================\n",
      "                       coef    std err          t      P>|t|      [0.025      0.975]\n",
      "------------------------------------------------------------------------------------\n",
      "age                208.5892     16.716     12.478      0.000     175.732     241.447\n",
      "bmi                 40.3112     27.459      1.468      0.143     -13.661      94.284\n",
      "sex_male          -943.5833    557.073     -1.694      0.091   -2038.552     151.385\n",
      "smoker_yes        2.364e+04    703.852     33.589      0.000    2.23e+04     2.5e+04\n",
      "region_northwest -1367.4663    792.270     -1.726      0.085   -2924.733     189.800\n",
      "region_southeast  -806.6174    798.681     -1.010      0.313   -2376.485     763.251\n",
      "region_southwest -1462.4658    786.767     -1.859      0.064   -3008.915      83.984\n",
      "==============================================================================\n",
      "Omnibus:                       69.454   Durbin-Watson:                   2.045\n",
      "Prob(Omnibus):                  0.000   Jarque-Bera (JB):              140.936\n",
      "Skew:                           0.879   Prob(JB):                     2.49e-31\n",
      "Kurtosis:                       5.181   Cond. No.                         199.\n",
      "==============================================================================\n",
      "\n",
      "Notes:\n",
      "[1] R² is computed without centering (uncentered) since the model does not contain a constant.\n",
      "[2] Standard Errors assume that the covariance matrix of the errors is correctly specified.\n"
     ]
    }
   ],
   "source": [
    "\n",
    "X = data[['age', 'bmi', 'sex', 'smoker', 'region']]\n",
    "y = data['charges']\n",
    "X = pd.get_dummies(X, drop_first=True)\n",
    "full_model = sm.OLS(y, X).fit()\n",
    "full_model_summary = full_model.summary()\n",
    "print(full_model_summary)\n"
   ]
  },
  {
   "cell_type": "markdown",
   "metadata": {
    "id": "E64Sms3hKSgf"
   },
   "source": [
    "\n",
    "Commparing only for part 3, better fit model is P3 Q1, with highest R^2 and lowest MSE.\n",
    "\n",
    "\n",
    "we can say it is the best model, as age and smoking habit does depends upon the charges, and by using the model summary we can say age and smoker are the most significant variable among others and can be used to predict and analyze the dataset.\n"
   ]
  },
  {
   "cell_type": "markdown",
   "metadata": {
    "id": "X6V668hu3C4L"
   },
   "source": [
    "6. Plot the predictions from your model in Q4 as a line plot on top of the scatterplot of your original data."
   ]
  },
  {
   "cell_type": "code",
   "execution_count": 304,
   "metadata": {
    "colab": {
     "base_uri": "https://localhost:8080/",
     "height": 507
    },
    "id": "Wq2cgpzc1GqT",
    "outputId": "f49ce1ae-7e58-4510-fc6b-dffd86eac33e"
   },
   "outputs": [
    {
     "name": "stderr",
     "output_type": "stream",
     "text": [
      "/usr/local/lib/python3.10/dist-packages/sklearn/base.py:439: UserWarning: X does not have valid feature names, but PolynomialFeatures was fitted with feature names\n",
      "  warnings.warn(\n"
     ]
    },
    {
     "data": {
      "image/png": "[encoded data removed]",
      "text/plain": [
       "<Figure size 640x480 with 1 Axes>"
      ]
     },
     "metadata": {},
     "output_type": "display_data"
    }
   ],
   "source": [
    "X = data[['age']]\n",
    "y = data['charges']\n",
    "X_train, X_test, y_train, y_test = train_test_split(X, y, test_size=0.25, random_state=0)\n",
    "\n",
    "poly = PolynomialFeatures(degree=12)\n",
    "X_train_poly = poly.fit_transform(X_train)\n",
    "X_test_poly = poly.transform(X_test)\n",
    "\n",
    "lr = LinearRegression()\n",
    "lr_fit = lr.fit(X_train_poly, y_train)\n",
    "y_pred = lr.predict(X_test_poly)\n",
    "\n",
    "r2 = r2_score(y_test, y_pred)\n",
    "mse = mean_squared_error(y_test, y_pred)\n",
    "age_range = np.linspace(data['age'].min(), data['age'].max(), 100).reshape(-1, 1)\n",
    "age_range_poly = poly.transform(age_range)\n",
    "predicted_charges = lr.predict(age_range_poly)\n",
    "\n",
    "plt.scatter(X, y, color='blue', label='Original data')\n",
    "\n",
    "\n",
    "plt.plot(age_range, predicted_charges, color='red', label='Model predictions')\n",
    "plt.xlabel('Age')\n",
    "plt.ylabel('Charges')\n",
    "plt.title('Polynomial Regression Model Predictions')\n",
    "plt.legend()\n",
    "plt.show()"
   ]
  },
  {
   "cell_type": "markdown",
   "metadata": {
    "id": "WGZ9R858ObZz"
   },
   "source": [
    "**Part Four: New data**\n",
    "\n",
    "Great news! We’ve managed to collect data about the insurance costs for a few more individuals. You can find the new dataset here: https://www.dropbox.com/s/sky86agc4s8c6qe/insurance_costs_2.csv?dl=1\n",
    "\n",
    "Consider the following possible models:\n",
    "\n",
    "Only age as a predictor.\n",
    "\n",
    "age and bmi as a predictor.\n",
    "\n",
    "age, bmi, and smoker as predictors (no interaction terms)\n",
    "\n",
    "age, and bmi, with both quantitative variables having an interaction term with smoker (i.e. the formula ~ (age + bmi):smoker)\n",
    "\n",
    "age, bmi, and smokeras predictors, with both quantitative variables having an interaction term with smoker (i.e. the formula ~ (age + bmi)*smoker)"
   ]
  },
  {
   "cell_type": "code",
   "execution_count": 305,
   "metadata": {
    "id": "_0pxuqC9oOR4"
   },
   "outputs": [],
   "source": [
    "data2 = pd.read_csv(\"insurance_costs_2.csv\")"
   ]
  },
  {
   "cell_type": "code",
   "execution_count": 306,
   "metadata": {
    "colab": {
     "base_uri": "https://localhost:8080/"
    },
    "id": "2XXCu4525Zod",
    "outputId": "b543c294-101e-4547-9a92-b3bd51b95bd7"
   },
   "outputs": [
    {
     "name": "stdout",
     "output_type": "stream",
     "text": [
      "Model 1 R-squared: 0.12236515675533055\n",
      "Model 1 MSE on new data: 136077136.50195494\n"
     ]
    }
   ],
   "source": [
    "# Model 1: Only age as a predictor\n",
    "X_o = data[['age']]\n",
    "y_o = data['charges']\n",
    "lr.fit(X_o, y_o)\n",
    "\n",
    "X_n = data2[['age']]\n",
    "y_n = data2['charges']\n",
    "y_pred_n = lr.predict(X_n)\n",
    "\n",
    "mse = mean_squared_error(y_n, y_pred_n)\n",
    "r2 = r2_score(y_n, y_pred_n)\n",
    "print(f'Model 1 R-squared: {r2}')\n",
    "print(f'Model 1 MSE on new data: {mse}')\n"
   ]
  },
  {
   "cell_type": "code",
   "execution_count": 307,
   "metadata": {
    "colab": {
     "base_uri": "https://localhost:8080/"
    },
    "id": "t9o93IhK8pYF",
    "outputId": "a873fbb7-e0ce-4065-d038-a442d0f1cf4e"
   },
   "outputs": [
    {
     "name": "stdout",
     "output_type": "stream",
     "text": [
      "Model 2 R-squared: 0.14455628272331222\n",
      "Model 2 MSE on new data: 132636406.1108129\n"
     ]
    }
   ],
   "source": [
    "# Model 2: Only age as a predictor\n",
    "X_o = data[['age','bmi']]\n",
    "y_o = data['charges']\n",
    "lr.fit(X_o, y_o)\n",
    "\n",
    "X_n = data2[['age','bmi']]\n",
    "y_n = data2['charges']\n",
    "y_pred_n = lr.predict(X_n)\n",
    "\n",
    "mse = mean_squared_error(y_n, y_pred_n)\n",
    "r2 = r2_score(y_n, y_pred_n)\n",
    "print(f'Model 2 R-squared: {r2}')\n",
    "print(f'Model 2 MSE on new data: {mse}')\n"
   ]
  },
  {
   "cell_type": "code",
   "execution_count": 308,
   "metadata": {
    "colab": {
     "base_uri": "https://localhost:8080/"
    },
    "id": "sQQIuCei8-6t",
    "outputId": "7f430afa-ce40-4a3d-85af-61c0b0602f42"
   },
   "outputs": [
    {
     "name": "stdout",
     "output_type": "stream",
     "text": [
      "Model 3 R-squared: 0.7718311565047792\n",
      "Model 3 MSE on new data: 35377541.241416454\n"
     ]
    }
   ],
   "source": [
    "# Model age, bmi, and smoker as predictors (no interaction terms)\n",
    "X_o = data[['age', 'bmi', 'smoker']]\n",
    "y_o = data['charges']\n",
    "\n",
    "ct = ColumnTransformer(\n",
    "    transformers=[\n",
    "        (\"dummify\", OneHotEncoder(handle_unknown='ignore'), [\"smoker\"])\n",
    "    ],\n",
    "    remainder='passthrough'\n",
    ")\n",
    "\n",
    "model3 = Pipeline(steps=[\n",
    "    ('preprocessor', ct),\n",
    "    ('model', LinearRegression())\n",
    "])\n",
    "\n",
    "model3.fit(X_o, y_o)\n",
    "\n",
    "X_n = data2[['age', 'bmi', 'smoker']]\n",
    "y_n = data2['charges']\n",
    "y_pred_n = model3.predict(X_n)\n",
    "mse = mean_squared_error(y_n, y_pred_n)\n",
    "r2 = r2_score(y_n, y_pred_n)\n",
    "print(f'Model 3 R-squared: {r2}')\n",
    "print(f'Model 3 MSE on new data: {mse}')"
   ]
  },
  {
   "cell_type": "code",
   "execution_count": 309,
   "metadata": {
    "colab": {
     "base_uri": "https://localhost:8080/"
    },
    "id": "N8GfaQH6JB5f",
    "outputId": "0c647e91-4e7b-47c3-dc72-ab5d2c57c67b"
   },
   "outputs": [
    {
     "name": "stdout",
     "output_type": "stream",
     "text": [
      "Model 4 R-squared: 0.8594950969902747\n",
      "Model 4 Mean Squared Error: 21785261.846900187\n"
     ]
    }
   ],
   "source": [
    "# Model 4 ~ (age + bmi):smoker)\n",
    "\n",
    "X_o = data[['age', 'bmi', 'smoker']]\n",
    "y_o = data['charges']\n",
    "ct = ColumnTransformer(\n",
    "    transformers=[\n",
    "        ('smoker', OneHotEncoder(handle_unknown='ignore'), ['smoker'])\n",
    "    ],\n",
    "    remainder='passthrough'\n",
    ")\n",
    "\n",
    "model4 = Pipeline([\n",
    "    ('preprocessor', ct),\n",
    "    ('interactions', PolynomialFeatures(interaction_only=True, include_bias=False)),\n",
    "    ('regressor', LinearRegression())\n",
    "])\n",
    "\n",
    "model4.fit(X_o, y_o)\n",
    "X_n = data2[['age', 'bmi', 'smoker']]\n",
    "y_n = data2['charges']\n",
    "\n",
    "y_pred_n = model4.predict(X_n)\n",
    "r2 = r2_score(y_n, y_pred_n)\n",
    "mse = mean_squared_error(y_n, y_pred_n)\n",
    "\n",
    "print(f\"Model 4 R-squared: {r2}\")\n",
    "print(f\"Model 4 Mean Squared Error: {mse}\")\n"
   ]
  },
  {
   "cell_type": "code",
   "execution_count": 310,
   "metadata": {
    "colab": {
     "base_uri": "https://localhost:8080/"
    },
    "id": "TLJhOa4ScAll",
    "outputId": "f089096c-0c50-4571-8b1f-cd7e25bf6de8"
   },
   "outputs": [
    {
     "name": "stdout",
     "output_type": "stream",
     "text": [
      "Model 5 R-squared: 0.859488679569962\n",
      "Model 5 Mean Squared Error: 21786256.86685251\n"
     ]
    }
   ],
   "source": [
    "X = data[['age', 'bmi', 'smoker']]\n",
    "y = data['charges']\n",
    "\n",
    "ct = ColumnTransformer(\n",
    "    transformers=[\n",
    "        ('smoker_encoder', OneHotEncoder(drop='first'), ['smoker'])\n",
    "    ],\n",
    "    remainder='passthrough'\n",
    ")\n",
    "\n",
    "X_transformed = ct.fit_transform(X)\n",
    "X_transformed_df = pd.DataFrame(\n",
    "    X_transformed,\n",
    "    columns=['smoker_yes', 'age', 'bmi']\n",
    ")\n",
    "X_transformed_df['age_smoker'] = X_transformed_df['age'] * X_transformed_df['smoker_yes']\n",
    "X_transformed_df['bmi_smoker'] = X_transformed_df['bmi'] * X_transformed_df['smoker_yes']\n",
    "# print(X_transformed_df['bmi_smoker'])\n",
    "\n",
    "lr.fit(X_transformed_df, y)\n",
    "\n",
    "X_new = data2[['age', 'bmi', 'smoker']]\n",
    "y_new = data2['charges']\n",
    "X_new_transformed = ct.transform(X_new)\n",
    "X_new_transformed_df = pd.DataFrame(\n",
    "    X_new_transformed,\n",
    "    columns=['smoker_yes', 'age', 'bmi']\n",
    ")\n",
    "X_new_transformed_df['age_smoker'] = X_new_transformed_df['smoker_yes'] * X_new_transformed_df['age']\n",
    "X_new_transformed_df['bmi_smoker'] = X_new_transformed_df['smoker_yes'] * X_new_transformed_df['bmi']\n",
    "\n",
    "y_pred_new = lr.predict(X_new_transformed_df)\n",
    "\n",
    "r2 = r2_score(y_new, y_pred_new)\n",
    "mse = mean_squared_error(y_new, y_pred_new)\n",
    "print(f\"Model 5 R-squared: {r2}\")\n",
    "print(f\"Model 5 Mean Squared Error: {mse}\")\n"
   ]
  },
  {
   "cell_type": "markdown",
   "metadata": {
    "id": "ir3HyFaseYKW"
   },
   "source": [
    "Between Model 4 and Model 5, there's a negligible difference in MSE and R-squared. Since both Model 4 and Model 5 have similar statistics, either could be considered the best based on this data alone. Given that Model 4 has an interaction term that could provide more insight into the relationship between the predictors and the outcome, best model can be model 4.\n",
    "\n",
    "\n"
   ]
  },
  {
   "cell_type": "code",
   "execution_count": 311,
   "metadata": {
    "colab": {
     "base_uri": "https://localhost:8080/",
     "height": 564
    },
    "id": "e6o84-Xodt9B",
    "outputId": "a8b75edf-2545-4a55-df5f-bc8cd7e4c600"
   },
   "outputs": [
    {
     "data": {
      "image/png": "[encoded data removed]",
      "text/plain": [
       "<Figure size 1000x600 with 1 Axes>"
      ]
     },
     "metadata": {},
     "output_type": "display_data"
    }
   ],
   "source": [
    "residuals = y_n - y_pred_n\n",
    "\n",
    "plt.figure(figsize=(10, 6))\n",
    "sns.scatterplot(x=y_pred_n, y=residuals)\n",
    "plt.title('Residuals of Model 4 Predictions')\n",
    "plt.xlabel('Predicted Charges')\n",
    "plt.ylabel('Residuals')\n",
    "plt.axhline(y=0, color='r', linestyle='--')\n",
    "plt.show()"
   ]
  },
  {
   "cell_type": "markdown",
   "metadata": {
    "id": "c4fpw8t5gQs4"
   },
   "source": [
    "**Part Five: Full Exploration**\n",
    "\n",
    "\n",
    "Using any variables in this dataset, and any polynomial of those variables, find the model that best predicts on the new data after being fit on the original data.\n",
    "\n",
    "Make a plot showing the residuals of your final chosen model.\n",
    "\n",
    "\n",
    "I'll create 2 more models, along with model 4 that is best fit in the above questions.\n",
    "these 2 models have age as a polynomial variables, and a single pipeline can be used for both the models.\n",
    "best fit among these 3 can be determined based on R^2 and MSE."
   ]
  },
  {
   "cell_type": "code",
   "execution_count": 312,
   "metadata": {
    "colab": {
     "base_uri": "https://localhost:8080/"
    },
    "id": "6aJ_R0S-hD8w",
    "outputId": "48cd1b20-6c75-4609-e36f-aec45ba45540"
   },
   "outputs": [
    {
     "name": "stdout",
     "output_type": "stream",
     "text": [
      "Model 2 R-squared: 0.861382341204594\n",
      "Model 2 Mean Squared Error: 21492644.945302486\n"
     ]
    }
   ],
   "source": [
    "X = data[['age', 'bmi', 'smoker']]\n",
    "y = data['charges']\n",
    "\n",
    "poly = PolynomialFeatures(degree=2, include_bias=False)\n",
    "X_poly = poly.fit_transform(X[['age']])\n",
    "X_poly_df = pd.DataFrame(X_poly, columns=['age', 'age_squared'])\n",
    "X = pd.concat([X_poly_df, X[['bmi', 'smoker']]], axis=1)\n",
    "ct = ColumnTransformer(\n",
    "    transformers=[\n",
    "        ('smoker_encoder', OneHotEncoder(drop='first'), ['smoker'])\n",
    "    ],\n",
    "    remainder='passthrough'\n",
    ")\n",
    "model2 = Pipeline([\n",
    "    ('preprocessor', ct),\n",
    "    ('interactions', PolynomialFeatures(interaction_only=True, include_bias=False)),\n",
    "    ('regressor', LinearRegression())\n",
    "])\n",
    "\n",
    "model2.fit(X, y)\n",
    "X_new = data2[['age', 'bmi', 'smoker']]\n",
    "X_new_poly = poly.transform(X_new[['age']])\n",
    "X_new_poly_df = pd.DataFrame(X_new_poly, columns=['age', 'age_squared'])\n",
    "X_new = pd.concat([X_new_poly_df, X_new[['bmi', 'smoker']]], axis=1)\n",
    "y_new_2 = data2['charges']\n",
    "y_pred_new_2 = model2.predict(X_new)\n",
    "\n",
    "mse_new = mean_squared_error(y_new_2, y_pred_new_2)\n",
    "r2_new = r2_score(y_new_2, y_pred_new_2)\n",
    "print(f\"Model 2 R-squared: {r2_new}\")\n",
    "print(f\"Model 2 Mean Squared Error: {mse_new}\")\n"
   ]
  },
  {
   "cell_type": "code",
   "execution_count": 313,
   "metadata": {
    "colab": {
     "base_uri": "https://localhost:8080/"
    },
    "id": "dRIkyUc1lhpy",
    "outputId": "9e716179-913b-4429-9a71-b2c8a9fa39c8"
   },
   "outputs": [
    {
     "name": "stdout",
     "output_type": "stream",
     "text": [
      "Model 3 R-squared: 0.8579735223847373\n",
      "Model 3 Mean Squared Error: 22021181.736463986\n"
     ]
    }
   ],
   "source": [
    "poly = PolynomialFeatures(degree=4, include_bias=False)\n",
    "X_poly = poly.fit_transform(X[['age']])\n",
    "X_poly_df = pd.DataFrame(X_poly, columns=['age', 'age_squared', 'age_cubed', 'age^4'])\n",
    "X = pd.concat([X_poly_df, X[['bmi', 'smoker']]], axis=1)\n",
    "\n",
    "model2.fit(X, y)\n",
    "X_new_poly = poly.transform(X_new[['age']])\n",
    "X_new_poly_df = pd.DataFrame(X_new_poly, columns=['age', 'age_squared', 'age_cubed', 'age^4'])\n",
    "X_new = pd.concat([X_new_poly_df, X_new[['bmi', 'smoker']]], axis=1)\n",
    "y_pred_new = model2.predict(X_new)\n",
    "mse_new = mean_squared_error(y_new, y_pred_new)\n",
    "r2_new = r2_score(y_new, y_pred_new)\n",
    "print(f\"Model 3 R-squared: {r2_new}\")\n",
    "print(f\"Model 3 Mean Squared Error: {mse_new}\")"
   ]
  },
  {
   "cell_type": "markdown",
   "metadata": {
    "id": "W-NAFzjZnai8"
   },
   "source": [
    "Based on the R-squared and Mean Squared Error (MSE) values, Model 2 is the best because it has the highest R-squared and the lowest MSE among the three models:\n",
    "\n",
    "Model 2 R-squared: 0.861382341204594\n",
    "Model 2 Mean Squared Error: 21492644.945302486\n",
    "\n"
   ]
  },
  {
   "cell_type": "code",
   "execution_count": 314,
   "metadata": {
    "colab": {
     "base_uri": "https://localhost:8080/",
     "height": 564
    },
    "id": "nrRDmkaqnhQ7",
    "outputId": "f2bcc6d6-a9ea-47ba-e021-d84d05e6a96a"
   },
   "outputs": [
    {
     "data": {
      "image/png": "[encoded data removed]",
      "text/plain": [
       "<Figure size 1000x600 with 1 Axes>"
      ]
     },
     "metadata": {},
     "output_type": "display_data"
    }
   ],
   "source": [
    "residuals = y_new_2 - y_pred_new_2\n",
    "\n",
    "plt.figure(figsize=(10,6))\n",
    "plt.scatter(y_pred_new, residuals, alpha=0.5)\n",
    "plt.title('Residuals Plot for Model 2')\n",
    "plt.xlabel('Predicted Charges')\n",
    "plt.ylabel('Residuals')\n",
    "plt.axhline(y=0, color='r', linestyle='--')\n",
    "plt.show()\n"
   ]
  }
 ],
 "metadata": {
  "colab": {
   "provenance": []
  },
  "kernelspec": {
   "display_name": "Python 3 (ipykernel)",
   "language": "python",
   "name": "python3"
  },
  "language_info": {
   "codemirror_mode": {
    "name": "ipython",
    "version": 3
   },
   "file_extension": ".py",
   "mimetype": "text/x-python",
   "name": "python",
   "nbconvert_exporter": "python",
   "pygments_lexer": "ipython3",
   "version": "3.11.4"
  }
 },
 "nbformat": 4,
 "nbformat_minor": 1
}
