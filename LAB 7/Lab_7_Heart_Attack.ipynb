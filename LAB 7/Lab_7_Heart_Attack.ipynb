{
 "cells": [
  {
   "cell_type": "raw",
   "metadata": {},
   "source": [
    "---\n",
    "self-contained: true\n",
    "title: \"Lab_7_Heart_Attack\"\n",
    "author : \"Nirbhay Singh Naruka\"\n",
    "date : \"11/29/2023\"\n",
    "date-format: long\n",
    "format :\n",
    "    html:\n",
    "        mainfront: sans-serif;\n",
    "        theme : cyborg\n",
    "---"
   ]
  },
  {
   "cell_type": "markdown",
   "metadata": {
    "id": "bshtAkwKR89B"
   },
   "source": [
    "Part One: Fitting Models\n",
    "\n",
    "This section asks you to create a final best model for each of the model types studied this week. For each, you should:\n",
    "\n",
    "  Find the best model based on ROC AUC for predicting the target variable.\n",
    "\n",
    "  Report the (cross-validated!) ROC AUC metric.\n",
    "\n",
    "  Fit the final model.\n",
    "\n",
    "  Output a confusion matrix; that is, the counts of how many observations fell into each predicted class for each true class.\n",
    "\n",
    "  (Where applicable) Interpret the coefficients and/or estimates produced by the model fit.\n",
    "\n",
    "\n",
    "You should certainly try multiple model pipelines to find the best model. You do not need to include the output for every attempted model, but you should describe all of the models explored. You should include any hyperparameter tuning steps in your writeup as well.\n",
    "\n",
    "Q1: KNN\n",
    "\n",
    "Q2: Logistic Regression\n",
    "\n",
    "Q3: Decision Tree\n",
    "\n",
    "Q4: Interpretation\n",
    "\n",
    "Which predictors were most important to predicting heart attack risk?\n",
    "\n",
    "Q5: ROC Curve\n",
    "\n",
    "Plot the ROC Curve for your three models above.\n",
    "\n"
   ]
  },
  {
   "cell_type": "code",
   "execution_count": 77,
   "metadata": {
    "id": "UELD2EPgRg27"
   },
   "outputs": [],
   "source": [
    "import pandas as pd\n",
    "import numpy as np\n",
    "import matplotlib.pyplot as plt\n",
    "import seaborn as sns\n",
    "from sklearn.pipeline import Pipeline\n",
    "from sklearn.model_selection import train_test_split\n",
    "from sklearn.preprocessing import StandardScaler, OneHotEncoder\n",
    "from sklearn.compose import ColumnTransformer, make_column_selector\n",
    "from sklearn.neighbors import KNeighborsClassifier\n",
    "from sklearn.metrics import confusion_matrix, accuracy_score, classification_report, roc_auc_score\n",
    "from sklearn.model_selection import GridSearchCV\n",
    "from sklearn.model_selection import cross_val_score\n",
    "from sklearn.linear_model import LogisticRegression\n",
    "from sklearn.model_selection import GridSearchCV\n",
    "from sklearn.tree import DecisionTreeClassifier\n",
    "from sklearn.model_selection import cross_val_predict\n",
    "from sklearn.metrics import accuracy_score, confusion_matrix, f1_score, precision_score, recall_score, classification_report, cohen_kappa_score\n",
    "from sklearn.metrics import roc_curve, auc\n",
    "from sklearn.metrics import cohen_kappa_score\n"
   ]
  },
  {
   "cell_type": "code",
   "execution_count": 78,
   "metadata": {
    "id": "Ps1VAVtf5IMq"
   },
   "outputs": [],
   "source": [
    "import joblib\n"
   ]
  },
  {
   "cell_type": "code",
   "execution_count": 79,
   "metadata": {
    "colab": {
     "base_uri": "https://localhost:8080/",
     "height": 423
    },
    "id": "VU9VbwYbTTb5",
    "outputId": "2c98ebb1-5d21-44fb-851a-db29d5dd74ab"
   },
   "outputs": [
    {
     "data": {
      "text/html": [
       "\n",
       "  <div id=\"df-a6a4341f-363f-4ae2-b6ed-0375a3f7932b\" class=\"colab-df-container\">\n",
       "    <div>\n",
       "<style scoped>\n",
       "    .dataframe tbody tr th:only-of-type {\n",
       "        vertical-align: middle;\n",
       "    }\n",
       "\n",
       "    .dataframe tbody tr th {\n",
       "        vertical-align: top;\n",
       "    }\n",
       "\n",
       "    .dataframe thead th {\n",
       "        text-align: right;\n",
       "    }\n",
       "</style>\n",
       "<table border=\"1\" class=\"dataframe\">\n",
       "  <thead>\n",
       "    <tr style=\"text-align: right;\">\n",
       "      <th></th>\n",
       "      <th>age</th>\n",
       "      <th>sex</th>\n",
       "      <th>cp</th>\n",
       "      <th>trtbps</th>\n",
       "      <th>chol</th>\n",
       "      <th>restecg</th>\n",
       "      <th>thalach</th>\n",
       "      <th>output</th>\n",
       "    </tr>\n",
       "  </thead>\n",
       "  <tbody>\n",
       "    <tr>\n",
       "      <th>0</th>\n",
       "      <td>63</td>\n",
       "      <td>1</td>\n",
       "      <td>3</td>\n",
       "      <td>145</td>\n",
       "      <td>233</td>\n",
       "      <td>0</td>\n",
       "      <td>150</td>\n",
       "      <td>1</td>\n",
       "    </tr>\n",
       "    <tr>\n",
       "      <th>1</th>\n",
       "      <td>37</td>\n",
       "      <td>1</td>\n",
       "      <td>2</td>\n",
       "      <td>130</td>\n",
       "      <td>250</td>\n",
       "      <td>1</td>\n",
       "      <td>187</td>\n",
       "      <td>1</td>\n",
       "    </tr>\n",
       "    <tr>\n",
       "      <th>2</th>\n",
       "      <td>56</td>\n",
       "      <td>1</td>\n",
       "      <td>1</td>\n",
       "      <td>120</td>\n",
       "      <td>236</td>\n",
       "      <td>1</td>\n",
       "      <td>178</td>\n",
       "      <td>1</td>\n",
       "    </tr>\n",
       "    <tr>\n",
       "      <th>3</th>\n",
       "      <td>57</td>\n",
       "      <td>0</td>\n",
       "      <td>0</td>\n",
       "      <td>120</td>\n",
       "      <td>354</td>\n",
       "      <td>1</td>\n",
       "      <td>163</td>\n",
       "      <td>1</td>\n",
       "    </tr>\n",
       "    <tr>\n",
       "      <th>4</th>\n",
       "      <td>57</td>\n",
       "      <td>1</td>\n",
       "      <td>0</td>\n",
       "      <td>140</td>\n",
       "      <td>192</td>\n",
       "      <td>1</td>\n",
       "      <td>148</td>\n",
       "      <td>1</td>\n",
       "    </tr>\n",
       "    <tr>\n",
       "      <th>...</th>\n",
       "      <td>...</td>\n",
       "      <td>...</td>\n",
       "      <td>...</td>\n",
       "      <td>...</td>\n",
       "      <td>...</td>\n",
       "      <td>...</td>\n",
       "      <td>...</td>\n",
       "      <td>...</td>\n",
       "    </tr>\n",
       "    <tr>\n",
       "      <th>268</th>\n",
       "      <td>59</td>\n",
       "      <td>1</td>\n",
       "      <td>0</td>\n",
       "      <td>164</td>\n",
       "      <td>176</td>\n",
       "      <td>0</td>\n",
       "      <td>90</td>\n",
       "      <td>0</td>\n",
       "    </tr>\n",
       "    <tr>\n",
       "      <th>269</th>\n",
       "      <td>57</td>\n",
       "      <td>0</td>\n",
       "      <td>0</td>\n",
       "      <td>140</td>\n",
       "      <td>241</td>\n",
       "      <td>1</td>\n",
       "      <td>123</td>\n",
       "      <td>0</td>\n",
       "    </tr>\n",
       "    <tr>\n",
       "      <th>270</th>\n",
       "      <td>45</td>\n",
       "      <td>1</td>\n",
       "      <td>3</td>\n",
       "      <td>110</td>\n",
       "      <td>264</td>\n",
       "      <td>1</td>\n",
       "      <td>132</td>\n",
       "      <td>0</td>\n",
       "    </tr>\n",
       "    <tr>\n",
       "      <th>271</th>\n",
       "      <td>68</td>\n",
       "      <td>1</td>\n",
       "      <td>0</td>\n",
       "      <td>144</td>\n",
       "      <td>193</td>\n",
       "      <td>1</td>\n",
       "      <td>141</td>\n",
       "      <td>0</td>\n",
       "    </tr>\n",
       "    <tr>\n",
       "      <th>272</th>\n",
       "      <td>57</td>\n",
       "      <td>0</td>\n",
       "      <td>1</td>\n",
       "      <td>130</td>\n",
       "      <td>236</td>\n",
       "      <td>0</td>\n",
       "      <td>174</td>\n",
       "      <td>0</td>\n",
       "    </tr>\n",
       "  </tbody>\n",
       "</table>\n",
       "<p>273 rows × 8 columns</p>\n",
       "</div>\n",
       "    <div class=\"colab-df-buttons\">\n",
       "\n",
       "  <div class=\"colab-df-container\">\n",
       "    <button class=\"colab-df-convert\" onclick=\"convertToInteractive('df-a6a4341f-363f-4ae2-b6ed-0375a3f7932b')\"\n",
       "            title=\"Convert this dataframe to an interactive table.\"\n",
       "            style=\"display:none;\">\n",
       "\n",
       "  <svg xmlns=\"http://www.w3.org/2000/svg\" height=\"24px\" viewBox=\"0 -960 960 960\">\n",
       "    <path d=\"M120-120v-720h720v720H120Zm60-500h600v-160H180v160Zm220 220h160v-160H400v160Zm0 220h160v-160H400v160ZM180-400h160v-160H180v160Zm440 0h160v-160H620v160ZM180-180h160v-160H180v160Zm440 0h160v-160H620v160Z\"/>\n",
       "  </svg>\n",
       "    </button>\n",
       "\n",
       "  <style>\n",
       "    .colab-df-container {\n",
       "      display:flex;\n",
       "      gap: 12px;\n",
       "    }\n",
       "\n",
       "    .colab-df-convert {\n",
       "      background-color: #E8F0FE;\n",
       "      border: none;\n",
       "      border-radius: 50%;\n",
       "      cursor: pointer;\n",
       "      display: none;\n",
       "      fill: #1967D2;\n",
       "      height: 32px;\n",
       "      padding: 0 0 0 0;\n",
       "      width: 32px;\n",
       "    }\n",
       "\n",
       "    .colab-df-convert:hover {\n",
       "      background-color: #E2EBFA;\n",
       "      box-shadow: 0px 1px 2px rgba(60, 64, 67, 0.3), 0px 1px 3px 1px rgba(60, 64, 67, 0.15);\n",
       "      fill: #174EA6;\n",
       "    }\n",
       "\n",
       "    .colab-df-buttons div {\n",
       "      margin-bottom: 4px;\n",
       "    }\n",
       "\n",
       "    [theme=dark] .colab-df-convert {\n",
       "      background-color: #3B4455;\n",
       "      fill: #D2E3FC;\n",
       "    }\n",
       "\n",
       "    [theme=dark] .colab-df-convert:hover {\n",
       "      background-color: #434B5C;\n",
       "      box-shadow: 0px 1px 3px 1px rgba(0, 0, 0, 0.15);\n",
       "      filter: drop-shadow(0px 1px 2px rgba(0, 0, 0, 0.3));\n",
       "      fill: #FFFFFF;\n",
       "    }\n",
       "  </style>\n",
       "\n",
       "    <script>\n",
       "      const buttonEl =\n",
       "        document.querySelector('#df-a6a4341f-363f-4ae2-b6ed-0375a3f7932b button.colab-df-convert');\n",
       "      buttonEl.style.display =\n",
       "        google.colab.kernel.accessAllowed ? 'block' : 'none';\n",
       "\n",
       "      async function convertToInteractive(key) {\n",
       "        const element = document.querySelector('#df-a6a4341f-363f-4ae2-b6ed-0375a3f7932b');\n",
       "        const dataTable =\n",
       "          await google.colab.kernel.invokeFunction('convertToInteractive',\n",
       "                                                    [key], {});\n",
       "        if (!dataTable) return;\n",
       "\n",
       "        const docLinkHtml = 'Like what you see? Visit the ' +\n",
       "          '<a target=\"_blank\" href=https://colab.research.google.com/notebooks/data_table.ipynb>data table notebook</a>'\n",
       "          + ' to learn more about interactive tables.';\n",
       "        element.innerHTML = '';\n",
       "        dataTable['output_type'] = 'display_data';\n",
       "        await google.colab.output.renderOutput(dataTable, element);\n",
       "        const docLink = document.createElement('div');\n",
       "        docLink.innerHTML = docLinkHtml;\n",
       "        element.appendChild(docLink);\n",
       "      }\n",
       "    </script>\n",
       "  </div>\n",
       "\n",
       "\n",
       "<div id=\"df-a892da6b-ce03-4c77-8231-5de5ffd9bf67\">\n",
       "  <button class=\"colab-df-quickchart\" onclick=\"quickchart('df-a892da6b-ce03-4c77-8231-5de5ffd9bf67')\"\n",
       "            title=\"Suggest charts\"\n",
       "            style=\"display:none;\">\n",
       "\n",
       "<svg xmlns=\"http://www.w3.org/2000/svg\" height=\"24px\"viewBox=\"0 0 24 24\"\n",
       "     width=\"24px\">\n",
       "    <g>\n",
       "        <path d=\"M19 3H5c-1.1 0-2 .9-2 2v14c0 1.1.9 2 2 2h14c1.1 0 2-.9 2-2V5c0-1.1-.9-2-2-2zM9 17H7v-7h2v7zm4 0h-2V7h2v10zm4 0h-2v-4h2v4z\"/>\n",
       "    </g>\n",
       "</svg>\n",
       "  </button>\n",
       "\n",
       "<style>\n",
       "  .colab-df-quickchart {\n",
       "      --bg-color: #E8F0FE;\n",
       "      --fill-color: #1967D2;\n",
       "      --hover-bg-color: #E2EBFA;\n",
       "      --hover-fill-color: #174EA6;\n",
       "      --disabled-fill-color: #AAA;\n",
       "      --disabled-bg-color: #DDD;\n",
       "  }\n",
       "\n",
       "  [theme=dark] .colab-df-quickchart {\n",
       "      --bg-color: #3B4455;\n",
       "      --fill-color: #D2E3FC;\n",
       "      --hover-bg-color: #434B5C;\n",
       "      --hover-fill-color: #FFFFFF;\n",
       "      --disabled-bg-color: #3B4455;\n",
       "      --disabled-fill-color: #666;\n",
       "  }\n",
       "\n",
       "  .colab-df-quickchart {\n",
       "    background-color: var(--bg-color);\n",
       "    border: none;\n",
       "    border-radius: 50%;\n",
       "    cursor: pointer;\n",
       "    display: none;\n",
       "    fill: var(--fill-color);\n",
       "    height: 32px;\n",
       "    padding: 0;\n",
       "    width: 32px;\n",
       "  }\n",
       "\n",
       "  .colab-df-quickchart:hover {\n",
       "    background-color: var(--hover-bg-color);\n",
       "    box-shadow: 0 1px 2px rgba(60, 64, 67, 0.3), 0 1px 3px 1px rgba(60, 64, 67, 0.15);\n",
       "    fill: var(--button-hover-fill-color);\n",
       "  }\n",
       "\n",
       "  .colab-df-quickchart-complete:disabled,\n",
       "  .colab-df-quickchart-complete:disabled:hover {\n",
       "    background-color: var(--disabled-bg-color);\n",
       "    fill: var(--disabled-fill-color);\n",
       "    box-shadow: none;\n",
       "  }\n",
       "\n",
       "  .colab-df-spinner {\n",
       "    border: 2px solid var(--fill-color);\n",
       "    border-color: transparent;\n",
       "    border-bottom-color: var(--fill-color);\n",
       "    animation:\n",
       "      spin 1s steps(1) infinite;\n",
       "  }\n",
       "\n",
       "  @keyframes spin {\n",
       "    0% {\n",
       "      border-color: transparent;\n",
       "      border-bottom-color: var(--fill-color);\n",
       "      border-left-color: var(--fill-color);\n",
       "    }\n",
       "    20% {\n",
       "      border-color: transparent;\n",
       "      border-left-color: var(--fill-color);\n",
       "      border-top-color: var(--fill-color);\n",
       "    }\n",
       "    30% {\n",
       "      border-color: transparent;\n",
       "      border-left-color: var(--fill-color);\n",
       "      border-top-color: var(--fill-color);\n",
       "      border-right-color: var(--fill-color);\n",
       "    }\n",
       "    40% {\n",
       "      border-color: transparent;\n",
       "      border-right-color: var(--fill-color);\n",
       "      border-top-color: var(--fill-color);\n",
       "    }\n",
       "    60% {\n",
       "      border-color: transparent;\n",
       "      border-right-color: var(--fill-color);\n",
       "    }\n",
       "    80% {\n",
       "      border-color: transparent;\n",
       "      border-right-color: var(--fill-color);\n",
       "      border-bottom-color: var(--fill-color);\n",
       "    }\n",
       "    90% {\n",
       "      border-color: transparent;\n",
       "      border-bottom-color: var(--fill-color);\n",
       "    }\n",
       "  }\n",
       "</style>\n",
       "\n",
       "  <script>\n",
       "    async function quickchart(key) {\n",
       "      const quickchartButtonEl =\n",
       "        document.querySelector('#' + key + ' button');\n",
       "      quickchartButtonEl.disabled = true;  // To prevent multiple clicks.\n",
       "      quickchartButtonEl.classList.add('colab-df-spinner');\n",
       "      try {\n",
       "        const charts = await google.colab.kernel.invokeFunction(\n",
       "            'suggestCharts', [key], {});\n",
       "      } catch (error) {\n",
       "        console.error('Error during call to suggestCharts:', error);\n",
       "      }\n",
       "      quickchartButtonEl.classList.remove('colab-df-spinner');\n",
       "      quickchartButtonEl.classList.add('colab-df-quickchart-complete');\n",
       "    }\n",
       "    (() => {\n",
       "      let quickchartButtonEl =\n",
       "        document.querySelector('#df-a892da6b-ce03-4c77-8231-5de5ffd9bf67 button');\n",
       "      quickchartButtonEl.style.display =\n",
       "        google.colab.kernel.accessAllowed ? 'block' : 'none';\n",
       "    })();\n",
       "  </script>\n",
       "</div>\n",
       "    </div>\n",
       "  </div>\n"
      ],
      "text/plain": [
       "     age  sex  cp  trtbps  chol  restecg  thalach  output\n",
       "0     63    1   3     145   233        0      150       1\n",
       "1     37    1   2     130   250        1      187       1\n",
       "2     56    1   1     120   236        1      178       1\n",
       "3     57    0   0     120   354        1      163       1\n",
       "4     57    1   0     140   192        1      148       1\n",
       "..   ...  ...  ..     ...   ...      ...      ...     ...\n",
       "268   59    1   0     164   176        0       90       0\n",
       "269   57    0   0     140   241        1      123       0\n",
       "270   45    1   3     110   264        1      132       0\n",
       "271   68    1   0     144   193        1      141       0\n",
       "272   57    0   1     130   236        0      174       0\n",
       "\n",
       "[273 rows x 8 columns]"
      ]
     },
     "execution_count": 79,
     "metadata": {},
     "output_type": "execute_result"
    }
   ],
   "source": [
    "ha = pd.read_csv(\"https://www.dropbox.com/s/aohbr6yb9ifmc8w/heart_attack.csv?dl=1\")\n",
    "ha"
   ]
  },
  {
   "cell_type": "code",
   "execution_count": 80,
   "metadata": {
    "id": "N-c4j4Y3Tl9e"
   },
   "outputs": [],
   "source": [
    "X = ha.drop('output', axis=1)\n",
    "y = ha['output']\n",
    "X_train, X_test, y_train, y_test = train_test_split(X, y, test_size=0.25, random_state=0)\n"
   ]
  },
  {
   "cell_type": "code",
   "execution_count": 81,
   "metadata": {
    "colab": {
     "base_uri": "https://localhost:8080/"
    },
    "id": "UxtbibmaUbCb",
    "outputId": "faac7352-58d8-40d2-9d58-aa5c2bec5de7"
   },
   "outputs": [
    {
     "name": "stdout",
     "output_type": "stream",
     "text": [
      "Fitting 5 folds for each of 18 candidates, totalling 90 fits\n",
      "Best KNN Parameters: {'knn__metric': 'manhattan', 'knn__n_neighbors': 10, 'knn__weights': 'distance'}\n",
      "Best KNN ROC AUC Score: 0.8264983935464485\n"
     ]
    }
   ],
   "source": [
    "ct = ColumnTransformer(\n",
    "    [\n",
    "        (\"dummify\", OneHotEncoder(sparse_output=False, handle_unknown='ignore', drop='first'), make_column_selector(dtype_include=object)),\n",
    "        (\"standardize\", StandardScaler(), ['age', 'trtbps', 'chol', 'thalach'])\n",
    "    ],\n",
    "    remainder=\"passthrough\"\n",
    ")\n",
    "\n",
    "knn_pipeline = Pipeline([\n",
    "    ('transform', ct),\n",
    "    ('knn', KNeighborsClassifier())\n",
    "])\n",
    "\n",
    "param_grid_knn = {\n",
    "    'knn__n_neighbors': [1,5,10],\n",
    "    'knn__weights': ['uniform', 'distance'],\n",
    "    'knn__metric': ['euclidean', 'manhattan', 'minkowski']\n",
    "}\n",
    "\n",
    "knn_grid_search = GridSearchCV(knn_pipeline, param_grid_knn, cv=5, scoring='roc_auc', verbose=1)\n",
    "knn_grid_search.fit(X_train, y_train)\n",
    "\n",
    "best_knn = knn_grid_search.best_estimator_\n",
    "best_knn_params = knn_grid_search.best_params_\n",
    "best_knn_score = knn_grid_search.best_score_\n",
    "\n",
    "print(\"Best KNN Parameters:\", best_knn_params)\n",
    "print(\"Best KNN ROC AUC Score:\", best_knn_score)"
   ]
  },
  {
   "cell_type": "code",
   "execution_count": 82,
   "metadata": {
    "colab": {
     "base_uri": "https://localhost:8080/",
     "height": 616
    },
    "id": "2teUsp02XrTr",
    "outputId": "bf66494c-51e6-4fe9-cb85-f97e61fafcf8"
   },
   "outputs": [
    {
     "name": "stdout",
     "output_type": "stream",
     "text": [
      "Confusion Matrix for KNN:\n",
      "[[23 11]\n",
      " [ 9 26]]\n"
     ]
    },
    {
     "data": {
      "image/png": "[encoded data removed]",
      "text/plain": [
       "<Figure size 800x600 with 2 Axes>"
      ]
     },
     "metadata": {},
     "output_type": "display_data"
    }
   ],
   "source": [
    "best_knn.fit(X_train, y_train)\n",
    "\n",
    "y_pred_knn = best_knn.predict(X_test)\n",
    "\n",
    "cm_knn = confusion_matrix(y_test, y_pred_knn)\n",
    "print(\"Confusion Matrix for KNN:\")\n",
    "print(cm_knn)\n",
    "\n",
    "plt.figure(figsize=(8, 6))\n",
    "sns.heatmap(cm_knn, annot=True, fmt='g', cmap='Blues', xticklabels=['Predicted 0', 'Predicted 1'], yticklabels=['Actual 0', 'Actual 1'])\n",
    "plt.title('Confusion Matrix for KNN Model')\n",
    "plt.ylabel('Actual Label')\n",
    "plt.xlabel('Predicted Label')\n",
    "plt.show()"
   ]
  },
  {
   "cell_type": "markdown",
   "metadata": {
    "id": "sUASUg9meqCU"
   },
   "source": [
    "True Negative (TN): 23 - The model correctly predicted 'not at risk' for 23 instances.\n",
    "\n",
    "False Positive (FP): 11 - The model incorrectly predicted 'at risk' for 11 instances that are actually 'not at risk'.\n",
    "\n",
    "False Negative (FN): 9 - The model incorrectly predicted 'not at risk' for 9 instances that are actually 'at risk'.\n",
    "\n",
    "True Positive (TP): 26 - The model correctly predicted 'at risk' for 26 instances.\n"
   ]
  },
  {
   "cell_type": "code",
   "execution_count": 83,
   "metadata": {
    "colab": {
     "base_uri": "https://localhost:8080/"
    },
    "id": "mz2oiOdZcQlg",
    "outputId": "8564f6eb-136c-4239-c529-70555fba27db"
   },
   "outputs": [
    {
     "name": "stdout",
     "output_type": "stream",
     "text": [
      "Best Logistic Regression Parameters: {'logreg__C': 1, 'logreg__penalty': 'l2'}\n",
      "Best Logistic Regression ROC AUC Score: 0.8489506044425953\n"
     ]
    }
   ],
   "source": [
    "lr_pipeline = Pipeline([\n",
    "    ('transform', ct),\n",
    "    ('logreg', LogisticRegression(solver='liblinear'))\n",
    "])\n",
    "param_grid_lr = {\n",
    "    'logreg__C': [0.001, 0.01, 0.1, 1, 10, 100],\n",
    "    'logreg__penalty': ['l1', 'l2']\n",
    "}\n",
    "lr_grid_search = GridSearchCV(lr_pipeline, param_grid_lr, cv=5, scoring='roc_auc')\n",
    "lr_grid_search.fit(X_train, y_train)\n",
    "best_lr = lr_grid_search.best_estimator_\n",
    "best_lr_params = lr_grid_search.best_params_\n",
    "best_lr_score = lr_grid_search.best_score_\n",
    "print(\"Best Logistic Regression Parameters:\", best_lr_params)\n",
    "print(\"Best Logistic Regression ROC AUC Score:\", best_lr_score)\n"
   ]
  },
  {
   "cell_type": "code",
   "execution_count": 84,
   "metadata": {
    "colab": {
     "base_uri": "https://localhost:8080/",
     "height": 504
    },
    "id": "hJ1mwJI3cdzw",
    "outputId": "dc7d9c11-ed85-4bcc-ac5b-9fb16db2dd98"
   },
   "outputs": [
    {
     "name": "stdout",
     "output_type": "stream",
     "text": [
      "Confusion Matrix for Logistic Regression:\n",
      "[[28  6]\n",
      " [ 6 29]]\n"
     ]
    },
    {
     "data": {
      "image/png": "[encoded data removed]",
      "text/plain": [
       "<Figure size 640x480 with 2 Axes>"
      ]
     },
     "metadata": {},
     "output_type": "display_data"
    }
   ],
   "source": [
    "# Generate predictions\n",
    "y_pred_lr = best_lr.predict(X_test)\n",
    "\n",
    "# Confusion matrix\n",
    "cm_lr = confusion_matrix(y_test, y_pred_lr)\n",
    "print(\"Confusion Matrix for Logistic Regression:\")\n",
    "print(cm_lr)\n",
    "\n",
    "# Visualizing confusion matrix\n",
    "sns.heatmap(cm_lr, annot=True, fmt='g', cmap='Blues', xticklabels=['Predicted 0', 'Predicted 1'], yticklabels=['Actual 0', 'Actual 1'])\n",
    "plt.title('Confusion Matrix for Logistic Regression Model')\n",
    "plt.show()\n"
   ]
  },
  {
   "cell_type": "markdown",
   "metadata": {
    "id": "DpUU_X_mezoq"
   },
   "source": [
    "True Negative (TN): 28 - The model correctly predicted 'not at risk' for 28 instances.\n",
    "\n",
    "False Positive (FP): 6 - The model incorrectly predicted 'at risk' for 6 instances that are actually 'not at risk'.\n",
    "\n",
    "False Negative (FN): 6 - The model incorrectly predicted 'not at risk' for 6 instances that are actually 'at risk'.\n",
    "\n",
    "True Positive (TP): 29 - The model correctly predicted 'at risk' for 29 instances."
   ]
  },
  {
   "cell_type": "code",
   "execution_count": 85,
   "metadata": {
    "id": "hN3R6a6ufEu3"
   },
   "outputs": [],
   "source": [
    "dt_pipeline = Pipeline([\n",
    "    ('transform', ct),\n",
    "    ('decision_tree', DecisionTreeClassifier(random_state=0))\n",
    "])\n"
   ]
  },
  {
   "cell_type": "code",
   "execution_count": 86,
   "metadata": {
    "colab": {
     "base_uri": "https://localhost:8080/"
    },
    "id": "uysF3Xv4fhdg",
    "outputId": "5dcef47c-6b0b-4a5e-d3b6-b74df84bdfc1"
   },
   "outputs": [
    {
     "name": "stdout",
     "output_type": "stream",
     "text": [
      "Fitting 5 folds for each of 216 candidates, totalling 1080 fits\n",
      "Best Decision Tree Parameters: {'decision_tree__criterion': 'gini', 'decision_tree__max_depth': 3, 'decision_tree__max_features': 'sqrt', 'decision_tree__min_samples_leaf': 1, 'decision_tree__min_samples_split': 2}\n",
      "Best Decision Tree ROC AUC Score: 0.8222210665002427\n"
     ]
    }
   ],
   "source": [
    "param_grid_dt = {\n",
    "    'decision_tree__max_depth': [3, 5, 10, None],\n",
    "    'decision_tree__min_samples_split': [2, 5, 10],\n",
    "    'decision_tree__min_samples_leaf': [1, 2, 4],\n",
    "    'decision_tree__max_features': ['sqrt', 'log2', None],\n",
    "    'decision_tree__criterion': ['gini', 'entropy']\n",
    "}\n",
    "dt_grid_search = GridSearchCV(dt_pipeline, param_grid_dt, cv=5, scoring='roc_auc', verbose=1)\n",
    "dt_grid_search.fit(X_train, y_train)\n",
    "best_dt = dt_grid_search.best_estimator_\n",
    "best_dt_params = dt_grid_search.best_params_\n",
    "best_dt_score = dt_grid_search.best_score_\n",
    "print(\"Best Decision Tree Parameters:\", best_dt_params)\n",
    "print(\"Best Decision Tree ROC AUC Score:\", best_dt_score)\n"
   ]
  },
  {
   "cell_type": "code",
   "execution_count": 87,
   "metadata": {
    "colab": {
     "base_uri": "https://localhost:8080/",
     "height": 504
    },
    "id": "Q9_aAM2afnM6",
    "outputId": "f6c41638-0d91-43ad-9ceb-889bad6633ca"
   },
   "outputs": [
    {
     "name": "stdout",
     "output_type": "stream",
     "text": [
      "Confusion Matrix for Decision Tree:\n",
      "[[29  5]\n",
      " [ 9 26]]\n"
     ]
    },
    {
     "data": {
      "image/png": "[encoded data removed]",
      "text/plain": [
       "<Figure size 640x480 with 2 Axes>"
      ]
     },
     "metadata": {},
     "output_type": "display_data"
    }
   ],
   "source": [
    "y_pred_dt = best_dt.predict(X_test)\n",
    "\n",
    "cm_dt = confusion_matrix(y_test, y_pred_dt)\n",
    "print(\"Confusion Matrix for Decision Tree:\")\n",
    "print(cm_dt)\n",
    "\n",
    "sns.heatmap(cm_dt, annot=True, fmt='g', cmap='Blues', xticklabels=['Predicted 0', 'Predicted 1'], yticklabels=['Actual 0', 'Actual 1'])\n",
    "plt.title('Confusion Matrix for Decision Tree Model')\n",
    "plt.show()\n"
   ]
  },
  {
   "cell_type": "code",
   "execution_count": 88,
   "metadata": {
    "id": "fBEAPJ46h7xi"
   },
   "outputs": [],
   "source": [
    "# from sklearn.tree import plot_tree\n",
    "\n",
    "# # Assuming your final Decision Tree model is stored in 'best_dt'\n",
    "# final_decision_tree_model = best_dt.named_steps['decision_tree']\n",
    "\n",
    "# # Plotting the decision tree\n",
    "# plt.figure(figsize=(20,10))\n",
    "# plot_tree(final_decision_tree_model, filled=True, feature_names=X.columns, class_names=['Not at Risk', 'At Risk'], proportion=True)\n",
    "# plt.show()\n"
   ]
  },
  {
   "cell_type": "markdown",
   "metadata": {
    "id": "x87X8tFLhLnt"
   },
   "source": [
    "True Negative (TN): 29 - The model correctly predicted 'not at risk' for 29 instances.\n",
    "\n",
    "False Positive (FP): 5 - The model incorrectly predicted 'at risk' for 5 instances that are actually 'not at risk'.\n",
    "\n",
    "False Negative (FN): 9 - The model incorrectly predicted 'not at risk' for 9 instances that are actually 'at risk'.\n",
    "\n",
    "True Positive (TP): 26 - The model correctly predicted 'at risk' for 26 instances."
   ]
  },
  {
   "cell_type": "code",
   "execution_count": 89,
   "metadata": {
    "colab": {
     "base_uri": "https://localhost:8080/"
    },
    "id": "MMlPGoNKjtoG",
    "outputId": "474e4eb9-dee0-441c-8122-046036a1f8d0"
   },
   "outputs": [
    {
     "name": "stdout",
     "output_type": "stream",
     "text": [
      "   Feature  Coefficient\n",
      "3   trtbps     0.979123\n",
      "5  restecg     0.776280\n",
      "6  thalach     0.404210\n",
      "0      age    -0.186007\n",
      "2       cp    -0.286378\n",
      "1      sex    -0.413999\n",
      "4     chol    -1.711085\n"
     ]
    }
   ],
   "source": [
    "feature_names = X.columns\n",
    "coefficients = best_lr.named_steps['logreg'].coef_[0]\n",
    "\n",
    "coef_df = pd.DataFrame({'Feature': feature_names, 'Coefficient': coefficients})\n",
    "print(coef_df.sort_values(by='Coefficient', ascending=False))\n"
   ]
  },
  {
   "cell_type": "code",
   "execution_count": 90,
   "metadata": {
    "colab": {
     "base_uri": "https://localhost:8080/"
    },
    "id": "IbN23BivjwLM",
    "outputId": "a995a7c2-17bb-42be-afa8-4ef63419bab8"
   },
   "outputs": [
    {
     "name": "stdout",
     "output_type": "stream",
     "text": [
      "   Feature  Importance\n",
      "5  restecg    0.572731\n",
      "4     chol    0.209647\n",
      "0      age    0.128198\n",
      "3   trtbps    0.062217\n",
      "6  thalach    0.027207\n",
      "1      sex    0.000000\n",
      "2       cp    0.000000\n"
     ]
    }
   ],
   "source": [
    "importances = best_dt.named_steps['decision_tree'].feature_importances_\n",
    "\n",
    "importances_df = pd.DataFrame({'Feature': feature_names, 'Importance': importances})\n",
    "print(importances_df.sort_values(by='Importance', ascending=False))\n"
   ]
  },
  {
   "cell_type": "code",
   "execution_count": 91,
   "metadata": {
    "colab": {
     "base_uri": "https://localhost:8080/",
     "height": 718
    },
    "id": "Yt1jgaf6j1g4",
    "outputId": "5cc151c4-8bc6-4e81-c15c-7e62f6ae4a72"
   },
   "outputs": [
    {
     "data": {
      "image/png": "[encoded data removed]",
      "text/plain": [
       "<Figure size 1000x800 with 1 Axes>"
      ]
     },
     "metadata": {},
     "output_type": "display_data"
    }
   ],
   "source": [
    "def plot_roc_curve(model, X_test, y_test, model_name):\n",
    "    probabilities = model.predict_proba(X_test)[:,1]\n",
    "    fpr, tpr, _ = roc_curve(y_test, probabilities)\n",
    "    auc_score = auc(fpr, tpr)\n",
    "    plt.plot(fpr, tpr, label=f'{model_name} (auc = {auc_score:.2f})')\n",
    "\n",
    "plt.figure(figsize=(10, 8))\n",
    "plot_roc_curve(best_knn, X_test, y_test, 'KNN')\n",
    "plot_roc_curve(best_lr, X_test, y_test, 'Logistic Regression')\n",
    "plot_roc_curve(best_dt, X_test, y_test, 'Decision Tree')\n",
    "\n",
    "plt.plot([0, 1], [0, 1], 'k--')\n",
    "plt.xlabel('False Positive Rate')\n",
    "plt.ylabel('True Positive Rate')\n",
    "plt.title('ROC Curves')\n",
    "plt.legend(loc='best')\n",
    "plt.show()\n"
   ]
  },
  {
   "cell_type": "markdown",
   "metadata": {
    "id": "zO757hqDxQT5"
   },
   "source": [
    "Part Two: Metrics\n",
    "Consider the following metrics:\n",
    "\n",
    "    True Positive Rate or Recall or Sensitivity = Of the observations that are truly Class A, how many were predicted to be Class A?\n",
    "\n",
    "    Precision or Positive Predictive Value = Of all the observations classified as Class A, how many of them were truly from Class A?\n",
    "\n",
    "    True Negative Rate or Specificity or Negative Predictive Value = Of all the observations classified as NOT Class A, how many were truly NOT Class A?\n",
    "\n",
    "Compute each of these metrics (cross-validated) for your three models (KNN, Logistic Regression, and Decision Tree) in Part One."
   ]
  },
  {
   "cell_type": "code",
   "execution_count": 92,
   "metadata": {
    "colab": {
     "base_uri": "https://localhost:8080/"
    },
    "id": "gKhT7ya4wn86",
    "outputId": "c62809c0-f4c3-48c0-febc-9acc804a4dc4"
   },
   "outputs": [
    {
     "name": "stdout",
     "output_type": "stream",
     "text": [
      "KNN - TPR (Recall/Sensitivity): 0.76, Precision: 0.77, TNR (Specificity): 0.73\n",
      "Logistic Regression - TPR (Recall/Sensitivity): 0.82, Precision: 0.78, TNR (Specificity): 0.73\n",
      "Decision Tree - TPR (Recall/Sensitivity): 0.75, Precision: 0.79, TNR (Specificity): 0.77\n"
     ]
    }
   ],
   "source": [
    "def calculate_metrics(model, X, y, cv):\n",
    "    y_pred = cross_val_predict(model, X, y, cv=cv)\n",
    "\n",
    "    tpr = recall_score(y, y_pred)\n",
    "    precision = precision_score(y, y_pred)\n",
    "    tn, fp, fn, tp = confusion_matrix(y, y_pred).ravel()\n",
    "    tnr = tn / (tn + fp)\n",
    "\n",
    "    return tpr, precision, tnr\n",
    "\n",
    "# Calculate metrics for KNN\n",
    "tpr_knn, precision_knn, tnr_knn = calculate_metrics(best_knn, X, y, cv=5)\n",
    "print(f\"KNN - TPR (Recall/Sensitivity): {tpr_knn:.2f}, Precision: {precision_knn:.2f}, TNR (Specificity): {tnr_knn:.2f}\")\n",
    "\n",
    "# Calculate metrics for Logistic Regression\n",
    "tpr_lr, precision_lr, tnr_lr = calculate_metrics(best_lr, X, y, cv=5)\n",
    "print(f\"Logistic Regression - TPR (Recall/Sensitivity): {tpr_lr:.2f}, Precision: {precision_lr:.2f}, TNR (Specificity): {tnr_lr:.2f}\")\n",
    "\n",
    "# Calculate metrics for Decision Tree\n",
    "tpr_dt, precision_dt, tnr_dt = calculate_metrics(best_dt, X, y, cv=5)\n",
    "print(f\"Decision Tree - TPR (Recall/Sensitivity): {tpr_dt:.2f}, Precision: {precision_dt:.2f}, TNR (Specificity): {tnr_dt:.2f}\")\n"
   ]
  },
  {
   "cell_type": "markdown",
   "metadata": {
    "id": "xWuZDoR5xtyr"
   },
   "source": [
    "Part Three: Discussion\n",
    "Suppose you have been hired by a hospital to create classification models for heart attack risk.\n",
    "\n",
    "The following questions give a possible scenario for why the hospital is interested in these models. For each one, discuss:\n",
    "\n",
    "Which metric(s) you would use for model selection and why.\n",
    "\n",
    "Which of your final models (Part One Q1-3) you would recommend to the hospital, and why.\n",
    "\n",
    "What score you should expect for your chosen metric(s) using your chosen model to predict future observations.\n",
    "\n",
    " 1. Q1\n",
    "  The hospital faces severe lawsuits if they deem a patient to be low risk, and that patient later experiences a heart attack.\n",
    "\n",
    "2. Q2\n",
    "  The hospital is overfull, and wants to only use bed space for patients most in need of monitoring due to heart attack risk.\n",
    "\n",
    "3. Q3\n",
    "  The hospital is studying root causes of heart attacks, and would like to understand which biological measures are associated with heart attack risk.\n",
    "\n",
    "4. Q4\n",
    "  The hospital is training a new batch of doctors, and they would like to compare the diagnoses of these doctors to the predictions given by the algorithm to measure the ability of new doctors to diagnose patients."
   ]
  },
  {
   "cell_type": "markdown",
   "metadata": {
    "id": "GQ7X01-tzzDQ"
   },
   "source": [
    "### Q1: Avoiding Lawsuits for Missing High-Risk Patients\n",
    "\n",
    "- **What's Important**: Making sure we don't miss patients who are at high risk of a heart attack.\n",
    "\n",
    "- **Best Metric**: We want to focus on a metric called Recall. It tells us how good the model is at finding all the high-risk patients. High Recall means fewer missed cases.\n",
    "\n",
    "- **Model Suggestion**: We recommend using the Logistic Regression model because it has the highest Recall (around 82%).\n",
    "\n",
    "- **Expected Performance**: We expect the model to correctly identify about 82% of high-risk patients in new cases.\n",
    "\n",
    "### Q2: Efficiently Allocating Beds for High-Risk Patients\n",
    "\n",
    "- **What's Important**: Using hospital beds for patients who really need them.\n",
    "\n",
    "- **Best Metric**: Precision is key. It measures how many of the patients classified as high risk are truly at high risk. We want to avoid unnecessary bed usage.\n",
    "\n",
    "- **Model Suggestion**: The Decision Tree model is the best choice because it has the highest Precision (about 79%).\n",
    "\n",
    "- **Expected Performance**: We anticipate the model to correctly identify high-risk patients for bed allocation with about 79% precision.\n",
    "\n",
    "### Q3: Understanding Factors Associated with Heart Attacks\n",
    "\n",
    "- **What's Important**: Figuring out which factors are linked to heart attack risk.\n",
    "\n",
    "- **Best Way to Explore**: We need a model that can help us understand which factors matter the most.\n",
    "\n",
    "- **Model Suggestion**: Decision Tree or Logistic Regression can be helpful. Decision Tree shows clear important factors, while Logistic Regression provides coefficients indicating factor importance.\n",
    "\n",
    "- **Expected Insights**: The model should reveal which factors contribute most to heart attack risk based on what it learned during training.\n",
    "\n",
    "### Q4: Comparing Algorithm Predictions with New Doctors' Diagnoses\n",
    "\n",
    "- **What's Important**: Measuring how well the model and new doctors agree on patient diagnoses.\n",
    "\n",
    "- **Best Metric**: We'll look at Accuracy, which tells us the overall correctness of the model compared to new doctors.\n",
    "\n",
    "- **Model Suggestion**: Any model can work, but Logistic Regression might be a good choice for a balance between understanding the model and accurate predictions.\n",
    "\n",
    "- **Expected Performance**: The model should have an accuracy similar to what we observed during training when compared to new doctors' diagnoses.\n",
    "\n",
    "In each case, we need to consider what's most important and choose the right model and metric accordingly. While cross-validated scores provide a good estimate, we should also remember that real-world results may vary slightly."
   ]
  },
  {
   "cell_type": "markdown",
   "metadata": {
    "id": "sSllhynt3_tc"
   },
   "source": [
    "Part Four: Validation\n",
    "\n",
    "\n",
    "Before sharing the dataset with you, I set aside a random 10% of the observations to serve as a final validation set.\n",
    "\n",
    "ha_validation = pd.read_csv(\"https://www.dropbox.com/s/jkwqdiyx6o6oad0/heart_attack_validation.csv?dl=1\")\n",
    "\n",
    "Use each of your final models in Part One Q1-3, predict the target variable in the validation dataset.\n",
    "\n",
    "For each, output a confusion matrix, and report the ROC AUC, the precision, and the recall.\n",
    "\n",
    "Compare these values to the cross-validated estimates you reported in Part One and Part Two. Did our measure of model success turn out to be approximately correct for the validation data?"
   ]
  },
  {
   "cell_type": "code",
   "execution_count": 93,
   "metadata": {
    "colab": {
     "base_uri": "https://localhost:8080/"
    },
    "id": "yBcvw8Am4q8n",
    "outputId": "86cdad2c-3d33-43b7-9e57-5fa19cb77a25"
   },
   "outputs": [
    {
     "name": "stdout",
     "output_type": "stream",
     "text": [
      "KNN Model:\n",
      "Confusion Matrix:\n",
      "[[ 8  3]\n",
      " [ 4 15]]\n",
      "ROC AUC: 0.7583732057416268\n",
      "Precision: 0.8333333333333334\n",
      "Recall: 0.7894736842105263\n",
      "\n",
      "Logistic Regression Model:\n",
      "Confusion Matrix:\n",
      "[[10  1]\n",
      " [ 4 15]]\n",
      "ROC AUC: 0.8492822966507177\n",
      "Precision: 0.9375\n",
      "Recall: 0.7894736842105263\n",
      "\n",
      "Decision Tree Model:\n",
      "Confusion Matrix:\n",
      "[[ 8  3]\n",
      " [ 5 14]]\n",
      "ROC AUC: 0.7320574162679426\n",
      "Precision: 0.8235294117647058\n",
      "Recall: 0.7368421052631579\n"
     ]
    }
   ],
   "source": [
    "\n",
    "ha_validation = pd.read_csv(\"https://www.dropbox.com/s/jkwqdiyx6o6oad0/heart_attack_validation.csv?dl=1\")\n",
    "\n",
    "X_val = ha_validation.drop('output', axis=1)\n",
    "y_val = ha_validation['output']\n",
    "\n",
    "knn_model = KNeighborsClassifier(n_neighbors=10, weights='distance', metric='manhattan')\n",
    "\n",
    "knn_model.fit(X_train, y_train)\n",
    "\n",
    "y_pred_knn = knn_model.predict(X_val)\n",
    "cm_knn = confusion_matrix(y_val, y_pred_knn)\n",
    "roc_auc_knn = roc_auc_score(y_val, y_pred_knn)\n",
    "precision_knn = precision_score(y_val, y_pred_knn)\n",
    "recall_knn = recall_score(y_val, y_pred_knn)\n",
    "\n",
    "print(\"KNN Model:\")\n",
    "print(\"Confusion Matrix:\")\n",
    "print(cm_knn)\n",
    "print(\"ROC AUC:\", roc_auc_knn)\n",
    "print(\"Precision:\", precision_knn)\n",
    "print(\"Recall:\", recall_knn)\n",
    "print()\n",
    "\n",
    "logreg_model = LogisticRegression(C=1, penalty='l2', solver='liblinear')\n",
    "\n",
    "logreg_model.fit(X_train, y_train)\n",
    "\n",
    "y_pred_logreg = logreg_model.predict(X_val)\n",
    "cm_logreg = confusion_matrix(y_val, y_pred_logreg)\n",
    "roc_auc_logreg = roc_auc_score(y_val, y_pred_logreg)\n",
    "precision_logreg = precision_score(y_val, y_pred_logreg)\n",
    "recall_logreg = recall_score(y_val, y_pred_logreg)\n",
    "\n",
    "print(\"Logistic Regression Model:\")\n",
    "print(\"Confusion Matrix:\")\n",
    "print(cm_logreg)\n",
    "print(\"ROC AUC:\", roc_auc_logreg)\n",
    "print(\"Precision:\", precision_logreg)\n",
    "print(\"Recall:\", recall_logreg)\n",
    "print()\n",
    "\n",
    "dt_model = DecisionTreeClassifier(max_depth=3, min_samples_split=2, min_samples_leaf=1, max_features='sqrt', criterion='gini', random_state=0)\n",
    "\n",
    "dt_model.fit(X_train, y_train)\n",
    "\n",
    "y_pred_dt = dt_model.predict(X_val)\n",
    "cm_dt = confusion_matrix(y_val, y_pred_dt)\n",
    "roc_auc_dt = roc_auc_score(y_val, y_pred_dt)\n",
    "precision_dt = precision_score(y_val, y_pred_dt)\n",
    "recall_dt = recall_score(y_val, y_pred_dt)\n",
    "\n",
    "print(\"Decision Tree Model:\")\n",
    "print(\"Confusion Matrix:\")\n",
    "print(cm_dt)\n",
    "print(\"ROC AUC:\", roc_auc_dt)\n",
    "print(\"Precision:\", precision_dt)\n",
    "print(\"Recall:\", recall_dt)\n"
   ]
  },
  {
   "cell_type": "markdown",
   "metadata": {
    "id": "wLDgDFLo7U1M"
   },
   "source": [
    "We compared how our models performed on new, unseen data to what we estimated during training. Our predictions on this new data are very close to what we expected. This means our models are doing a reliable job in identifying patients at risk of heart attacks."
   ]
  },
  {
   "cell_type": "markdown",
   "metadata": {
    "id": "YtVfbg-0_thB"
   },
   "source": [
    "Part Five: Cohen’s Kappa\n",
    "\n",
    "\n",
    "Another common metric used in classification is Cohen’s Kappa.\n",
    "\n",
    "Use online resources to research this measurement. Calculate it for the models from Part One, Q1-3, and discuss reasons or scenarios that would make us prefer to use this metric as our measure of model success. Do your conclusions from above change if you judge your models using Cohen’s Kappa instead? Does this make sense?"
   ]
  },
  {
   "cell_type": "code",
   "execution_count": 101,
   "metadata": {
    "colab": {
     "base_uri": "https://localhost:8080/"
    },
    "id": "Eh6a9XHZ71jf",
    "outputId": "67182438-fef9-471d-d1f2-7e3747045eb3"
   },
   "outputs": [
    {
     "name": "stdout",
     "output_type": "stream",
     "text": [
      "KNN Model - Cohen's Kappa: 0.5070422535211268\n",
      "Logistic Regression Model - Cohen's Kappa: 0.660633484162896\n",
      "Decision Tree Model - Cohen's Kappa: 0.4470046082949308\n"
     ]
    }
   ],
   "source": [
    "knn_kappa = cohen_kappa_score(y_val, y_pred_knn)\n",
    "lr_kappa = cohen_kappa_score(y_val, y_pred_logreg)\n",
    "dt_kappa = cohen_kappa_score(y_val, y_pred_dt)\n",
    "\n",
    "print(\"KNN Model - Cohen's Kappa:\", knn_kappa)\n",
    "print(\"Logistic Regression Model - Cohen's Kappa:\", lr_kappa)\n",
    "print(\"Decision Tree Model - Cohen's Kappa:\", dt_kappa)\n"
   ]
  },
  {
   "cell_type": "markdown",
   "metadata": {
    "id": "dlOP3O3P_-Cu"
   },
   "source": [
    "the use of Cohen's Kappa reaffirms the same model preferences that were established earlier.\n",
    "it further validates the Logistic Regression model as the most reliable choice for predicting heart attack risk"
   ]
  }
 ],
 "metadata": {
  "colab": {
   "provenance": []
  },
  "kernelspec": {
   "display_name": "Python 3 (ipykernel)",
   "language": "python",
   "name": "python3"
  },
  "language_info": {
   "codemirror_mode": {
    "name": "ipython",
    "version": 3
   },
   "file_extension": ".py",
   "mimetype": "text/x-python",
   "name": "python",
   "nbconvert_exporter": "python",
   "pygments_lexer": "ipython3",
   "version": "3.11.4"
  }
 },
 "nbformat": 4,
 "nbformat_minor": 1
}
