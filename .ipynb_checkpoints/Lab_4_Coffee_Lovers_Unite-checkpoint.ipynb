{
 "cells": [
  {
   "cell_type": "raw",
   "metadata": {},
   "source": [
    "---\n",
    "self-contained: true\n",
    "title: \"Lab 3:Singing a song\"\n",
    "author : \"Nirbhay Singh Naruka\"\n",
    "date : \"10/16/2023\"\n",
    "date-format: long\n",
    "format :\n",
    "    html:\n",
    "        mainfront: sans-serif;\n",
    "        theme : cyborg\n",
    "---"
   ]
  },
  {
   "cell_type": "markdown",
   "metadata": {
    "id": "uK-IJIsySZ5x"
   },
   "source": [
    "\n",
    "I have put text before every code to describe what exactly the code is for, but because everything is related to each other I'm getting multiple errors.\n"
   ]
  },
  {
   "cell_type": "markdown",
   "metadata": {
    "id": "QYBNWlp02-Gu"
   },
   "source": [
    "Use the beautifulsoup library to scrape the data (from menuism.com like the link above) on state names and corresponding number of store locations, for the following chains:\n",
    "Starbucks\n",
    "\n",
    "Dunkin’ Donuts\n",
    "\n",
    "Peet’s Coffee & Tea\n",
    "\n",
    "Tim Horton’s\n",
    "\n",
    "Panera Bread\n",
    "\n",
    "Caribou Coffee\n",
    "\n",
    "Au Bon Pain\n",
    "\n",
    "The Coffee Bean & Tea Leaf\n",
    "\n",
    "McDonald’s"
   ]
  },
  {
   "cell_type": "code",
   "execution_count": 59,
   "metadata": {
    "id": "8FYfAllB2pqg"
   },
   "outputs": [],
   "source": [
    "from bs4 import BeautifulSoup\n",
    "import requests\n",
    "import re\n",
    "import pandas as pd\n"
   ]
  },
  {
   "cell_type": "code",
   "execution_count": 60,
   "metadata": {
    "colab": {
     "base_uri": "https://localhost:8080/"
    },
    "id": "ArDnVQaa3DZU",
    "outputId": "c383c8db-09ea-4473-be26-d68b1a980529"
   },
   "outputs": [
    {
     "data": {
      "text/plain": [
       "502"
      ]
     },
     "execution_count": 60,
     "metadata": {},
     "output_type": "execute_result"
    }
   ],
   "source": [
    "response = requests.get('https://www.menuism.com/restaurant-locations/starbucks-coffee-39564')\n",
    "response.status_code"
   ]
  },
  {
   "cell_type": "code",
   "execution_count": 61,
   "metadata": {
    "id": "0jEiw2-O3qV_"
   },
   "outputs": [],
   "source": [
    "soup = BeautifulSoup(response.content, 'html.parser')"
   ]
  },
  {
   "cell_type": "code",
   "execution_count": 63,
   "metadata": {
    "colab": {
     "base_uri": "https://localhost:8080/",
     "height": 245
    },
    "id": "CiCVhbC7AXCd",
    "outputId": "0a789c2d-2dee-4345-a90d-956d31e09196"
   },
   "outputs": [
    {
     "ename": "NameError",
     "evalue": "ignored",
     "output_type": "error",
     "traceback": [
      "\u001b[0;31m---------------------------------------------------------------------------\u001b[0m",
      "\u001b[0;31mNameError\u001b[0m                                 Traceback (most recent call last)",
      "\u001b[0;32m<ipython-input-63-214ebec4f9db>\u001b[0m in \u001b[0;36m<cell line: 6>\u001b[0;34m()\u001b[0m\n\u001b[1;32m      4\u001b[0m   \u001b[0;32mreturn\u001b[0m \u001b[0mstates_map\u001b[0m\u001b[0;34m[\u001b[0m\u001b[0mstate\u001b[0m\u001b[0;34m]\u001b[0m\u001b[0;34m\u001b[0m\u001b[0;34m\u001b[0m\u001b[0m\n\u001b[1;32m      5\u001b[0m \u001b[0;34m\u001b[0m\u001b[0m\n\u001b[0;32m----> 6\u001b[0;31m \u001b[0mstores_df\u001b[0m \u001b[0;34m=\u001b[0m \u001b[0mpd\u001b[0m\u001b[0;34m.\u001b[0m\u001b[0mDataFrame\u001b[0m\u001b[0;34m(\u001b[0m\u001b[0mlist\u001b[0m\u001b[0;34m(\u001b[0m\u001b[0mstores\u001b[0m\u001b[0;34m.\u001b[0m\u001b[0mitems\u001b[0m\u001b[0;34m(\u001b[0m\u001b[0;34m)\u001b[0m\u001b[0;34m)\u001b[0m\u001b[0;34m,\u001b[0m \u001b[0mcolumns\u001b[0m\u001b[0;34m=\u001b[0m\u001b[0;34m[\u001b[0m\u001b[0;34m'State'\u001b[0m\u001b[0;34m,\u001b[0m \u001b[0;34m'Locations'\u001b[0m\u001b[0;34m]\u001b[0m\u001b[0;34m)\u001b[0m\u001b[0;34m\u001b[0m\u001b[0;34m\u001b[0m\u001b[0m\n\u001b[0m\u001b[1;32m      7\u001b[0m \u001b[0mstores_df\u001b[0m\u001b[0;34m[\u001b[0m\u001b[0;34m'State'\u001b[0m\u001b[0;34m]\u001b[0m \u001b[0;34m=\u001b[0m \u001b[0mstores_df\u001b[0m\u001b[0;34m[\u001b[0m\u001b[0;34m'State'\u001b[0m\u001b[0;34m]\u001b[0m\u001b[0;34m.\u001b[0m\u001b[0mapply\u001b[0m\u001b[0;34m(\u001b[0m\u001b[0mstateabb\u001b[0m\u001b[0;34m)\u001b[0m\u001b[0;34m\u001b[0m\u001b[0;34m\u001b[0m\u001b[0m\n\u001b[1;32m      8\u001b[0m \u001b[0mprint\u001b[0m\u001b[0;34m(\u001b[0m\u001b[0;34m\"Store Name = \"\u001b[0m\u001b[0;34m+\u001b[0m\u001b[0mstore_name\u001b[0m\u001b[0;34m)\u001b[0m\u001b[0;34m\u001b[0m\u001b[0;34m\u001b[0m\u001b[0m\n",
      "\u001b[0;31mNameError\u001b[0m: name 'stores' is not defined"
     ]
    }
   ],
   "source": [
    "def stateabb(state):\n",
    "  if state == 'Mississippi':\n",
    "    return 'MS'\n",
    "  return states_map[state]\n",
    "\n",
    "stores_df = pd.DataFrame(list(stores.items()), columns=['State', 'Locations'])\n",
    "stores_df['State'] = stores_df['State'].apply(stateabb)\n",
    "print(\"Store Name = \"+store_name)\n",
    "print(stores_df)"
   ]
  },
  {
   "cell_type": "markdown",
   "metadata": {
    "id": "RCY39zLEAljN"
   },
   "source": [
    "Supplemental Data\n",
    "\n",
    "Scrape the state names and populations from this wikipedia page. Convert the state names to abbreviations and merge these data with your coffee dataset.\n",
    "\n",
    "Find the revenue, stock price, or your financial metric of choice for each of the companies listed above (if you can find a website to scrape these from that’s great!…but it’s okay if you manually enter these into R). Merge these values into your big dataset. Note: these values may be repeated for each state.\n",
    "\n",
    "Create a region variable in your dataset according to the scheme on this wikipedia page: Northeast, Midwest, South, West. You do not need to scrape this information."
   ]
  },
  {
   "cell_type": "code",
   "execution_count": 64,
   "metadata": {
    "colab": {
     "base_uri": "https://localhost:8080/"
    },
    "id": "DrFAV_4EAkyf",
    "outputId": "23c6e5a9-8efe-494c-af08-f1f8bf2d5f75"
   },
   "outputs": [
    {
     "data": {
      "text/plain": [
       "200"
      ]
     },
     "execution_count": 64,
     "metadata": {},
     "output_type": "execute_result"
    }
   ],
   "source": [
    "\n",
    "response = requests.get('https://simple.wikipedia.org/wiki/List_of_U.S._states_by_population')\n",
    "\n",
    "response.status_code\n"
   ]
  },
  {
   "cell_type": "code",
   "execution_count": 65,
   "metadata": {
    "id": "cKUdPKjcA1qT"
   },
   "outputs": [],
   "source": [
    "soup = BeautifulSoup(response.content, 'html.parser')"
   ]
  },
  {
   "cell_type": "code",
   "execution_count": 66,
   "metadata": {
    "colab": {
     "base_uri": "https://localhost:8080/",
     "height": 245
    },
    "id": "GN1jYJK4BaWU",
    "outputId": "7e79ec81-7af2-41a7-8707-e7bf465f855e"
   },
   "outputs": [
    {
     "ename": "IndexError",
     "evalue": "ignored",
     "output_type": "error",
     "traceback": [
      "\u001b[0;31m---------------------------------------------------------------------------\u001b[0m",
      "\u001b[0;31mIndexError\u001b[0m                                Traceback (most recent call last)",
      "\u001b[0;32m<ipython-input-66-7780db8228f7>\u001b[0m in \u001b[0;36m<cell line: 4>\u001b[0;34m()\u001b[0m\n\u001b[1;32m      4\u001b[0m \u001b[0;32mfor\u001b[0m \u001b[0mrow\u001b[0m \u001b[0;32min\u001b[0m \u001b[0mtable\u001b[0m\u001b[0;34m.\u001b[0m\u001b[0mfind_all\u001b[0m\u001b[0;34m(\u001b[0m\u001b[0;34m'tr'\u001b[0m\u001b[0;34m)\u001b[0m\u001b[0;34m[\u001b[0m\u001b[0;36m1\u001b[0m\u001b[0;34m:\u001b[0m\u001b[0;34m]\u001b[0m\u001b[0;34m:\u001b[0m\u001b[0;34m\u001b[0m\u001b[0;34m\u001b[0m\u001b[0m\n\u001b[1;32m      5\u001b[0m     \u001b[0mcells\u001b[0m \u001b[0;34m=\u001b[0m \u001b[0mrow\u001b[0m\u001b[0;34m.\u001b[0m\u001b[0mfind_all\u001b[0m\u001b[0;34m(\u001b[0m\u001b[0;34m'href'\u001b[0m\u001b[0;34m)\u001b[0m\u001b[0;34m\u001b[0m\u001b[0;34m\u001b[0m\u001b[0m\n\u001b[0;32m----> 6\u001b[0;31m     \u001b[0mstate_name\u001b[0m \u001b[0;34m=\u001b[0m \u001b[0mcells\u001b[0m\u001b[0;34m[\u001b[0m\u001b[0;36m2\u001b[0m\u001b[0;34m]\u001b[0m\u001b[0;34m.\u001b[0m\u001b[0mget_text\u001b[0m\u001b[0;34m(\u001b[0m\u001b[0mstrip\u001b[0m\u001b[0;34m=\u001b[0m\u001b[0;32mTrue\u001b[0m\u001b[0;34m)\u001b[0m\u001b[0;34m\u001b[0m\u001b[0;34m\u001b[0m\u001b[0m\n\u001b[0m\u001b[1;32m      7\u001b[0m     \u001b[0mpopulation\u001b[0m \u001b[0;34m=\u001b[0m \u001b[0mcells\u001b[0m\u001b[0;34m[\u001b[0m\u001b[0;36m3\u001b[0m\u001b[0;34m]\u001b[0m\u001b[0;34m.\u001b[0m\u001b[0mget_text\u001b[0m\u001b[0;34m(\u001b[0m\u001b[0mstrip\u001b[0m\u001b[0;34m=\u001b[0m\u001b[0;32mTrue\u001b[0m\u001b[0;34m)\u001b[0m\u001b[0;34m\u001b[0m\u001b[0;34m\u001b[0m\u001b[0m\n\u001b[1;32m      8\u001b[0m     \u001b[0mstate_name\u001b[0m\u001b[0;34m.\u001b[0m\u001b[0mappend\u001b[0m\u001b[0;34m(\u001b[0m\u001b[0mstate_name\u001b[0m\u001b[0;34m)\u001b[0m\u001b[0;34m\u001b[0m\u001b[0;34m\u001b[0m\u001b[0m\n",
      "\u001b[0;31mIndexError\u001b[0m: list index out of range"
     ]
    }
   ],
   "source": [
    "table = soup.find_all('table', {'class': 'wikitable'})[0]\n",
    "state_name = []\n",
    "population = []\n",
    "for row in table.find_all('tr')[1:]:\n",
    "    cells = row.find_all('href')\n",
    "    state_name = cells[2].get_text(strip=True)\n",
    "    population = cells[3].get_text(strip=True)\n",
    "    state_name.append(state_name)\n",
    "    population.append(population)\n",
    "\n"
   ]
  },
  {
   "cell_type": "code",
   "execution_count": 67,
   "metadata": {
    "id": "Tyaug2_2FM0F"
   },
   "outputs": [],
   "source": [
    "table = soup.find_all('table', {'class': 'wikitable'})[0]\n",
    "state_name = {}\n",
    "population = []\n",
    "for row in table.find_all('tr'):\n",
    "    columns = row.find_all('td')\n",
    "    if len(columns) > 0:  # Ensure there's at least a second column\n",
    "        state_name[columns[2].text.replace('\\xa0', '').replace('\\n', '')] = columns[3].text.replace('\\n', '')\n"
   ]
  },
  {
   "cell_type": "code",
   "execution_count": 68,
   "metadata": {
    "colab": {
     "base_uri": "https://localhost:8080/",
     "height": 1000
    },
    "id": "By7G2SSfILwi",
    "outputId": "84a09bc1-8bc7-4495-e9d0-c0d7a1a5fe71"
   },
   "outputs": [
    {
     "data": {
      "text/html": [
       "\n",
       "  <div id=\"df-22f51f58-a0c2-4a92-acd2-84745f24b873\" class=\"colab-df-container\">\n",
       "    <div>\n",
       "<style scoped>\n",
       "    .dataframe tbody tr th:only-of-type {\n",
       "        vertical-align: middle;\n",
       "    }\n",
       "\n",
       "    .dataframe tbody tr th {\n",
       "        vertical-align: top;\n",
       "    }\n",
       "\n",
       "    .dataframe thead th {\n",
       "        text-align: right;\n",
       "    }\n",
       "</style>\n",
       "<table border=\"1\" class=\"dataframe\">\n",
       "  <thead>\n",
       "    <tr style=\"text-align: right;\">\n",
       "      <th></th>\n",
       "      <th>State</th>\n",
       "      <th>Population</th>\n",
       "    </tr>\n",
       "  </thead>\n",
       "  <tbody>\n",
       "    <tr>\n",
       "      <th>0</th>\n",
       "      <td>California</td>\n",
       "      <td>39,538,223</td>\n",
       "    </tr>\n",
       "    <tr>\n",
       "      <th>1</th>\n",
       "      <td>Texas</td>\n",
       "      <td>29,145,505</td>\n",
       "    </tr>\n",
       "    <tr>\n",
       "      <th>2</th>\n",
       "      <td>Florida</td>\n",
       "      <td>21,538,187</td>\n",
       "    </tr>\n",
       "    <tr>\n",
       "      <th>3</th>\n",
       "      <td>New York</td>\n",
       "      <td>20,201,249</td>\n",
       "    </tr>\n",
       "    <tr>\n",
       "      <th>4</th>\n",
       "      <td>Pennsylvania</td>\n",
       "      <td>13,002,700</td>\n",
       "    </tr>\n",
       "    <tr>\n",
       "      <th>5</th>\n",
       "      <td>Illinois</td>\n",
       "      <td>12,812,508</td>\n",
       "    </tr>\n",
       "    <tr>\n",
       "      <th>6</th>\n",
       "      <td>Ohio</td>\n",
       "      <td>11,799,448</td>\n",
       "    </tr>\n",
       "    <tr>\n",
       "      <th>7</th>\n",
       "      <td>Georgia</td>\n",
       "      <td>10,711,908</td>\n",
       "    </tr>\n",
       "    <tr>\n",
       "      <th>8</th>\n",
       "      <td>North Carolina</td>\n",
       "      <td>10,439,388</td>\n",
       "    </tr>\n",
       "    <tr>\n",
       "      <th>9</th>\n",
       "      <td>Michigan</td>\n",
       "      <td>10,077,331</td>\n",
       "    </tr>\n",
       "    <tr>\n",
       "      <th>10</th>\n",
       "      <td>New Jersey</td>\n",
       "      <td>9,288,994</td>\n",
       "    </tr>\n",
       "    <tr>\n",
       "      <th>11</th>\n",
       "      <td>Virginia</td>\n",
       "      <td>8,631,393</td>\n",
       "    </tr>\n",
       "    <tr>\n",
       "      <th>12</th>\n",
       "      <td>Washington</td>\n",
       "      <td>7,705,281</td>\n",
       "    </tr>\n",
       "    <tr>\n",
       "      <th>13</th>\n",
       "      <td>Arizona</td>\n",
       "      <td>7,151,502</td>\n",
       "    </tr>\n",
       "    <tr>\n",
       "      <th>14</th>\n",
       "      <td>Massachusetts</td>\n",
       "      <td>7,029,917</td>\n",
       "    </tr>\n",
       "    <tr>\n",
       "      <th>15</th>\n",
       "      <td>Tennessee</td>\n",
       "      <td>6,910,840</td>\n",
       "    </tr>\n",
       "    <tr>\n",
       "      <th>16</th>\n",
       "      <td>Indiana</td>\n",
       "      <td>6,785,528</td>\n",
       "    </tr>\n",
       "    <tr>\n",
       "      <th>17</th>\n",
       "      <td>Maryland</td>\n",
       "      <td>6,177,224</td>\n",
       "    </tr>\n",
       "    <tr>\n",
       "      <th>18</th>\n",
       "      <td>Missouri</td>\n",
       "      <td>6,154,913</td>\n",
       "    </tr>\n",
       "    <tr>\n",
       "      <th>19</th>\n",
       "      <td>Wisconsin</td>\n",
       "      <td>5,893,718</td>\n",
       "    </tr>\n",
       "    <tr>\n",
       "      <th>20</th>\n",
       "      <td>Colorado</td>\n",
       "      <td>5,773,714</td>\n",
       "    </tr>\n",
       "    <tr>\n",
       "      <th>21</th>\n",
       "      <td>Minnesota</td>\n",
       "      <td>5,706,494</td>\n",
       "    </tr>\n",
       "    <tr>\n",
       "      <th>22</th>\n",
       "      <td>South Carolina</td>\n",
       "      <td>5,118,425</td>\n",
       "    </tr>\n",
       "    <tr>\n",
       "      <th>23</th>\n",
       "      <td>Alabama</td>\n",
       "      <td>5,024,279</td>\n",
       "    </tr>\n",
       "    <tr>\n",
       "      <th>24</th>\n",
       "      <td>Louisiana</td>\n",
       "      <td>4,657,757</td>\n",
       "    </tr>\n",
       "    <tr>\n",
       "      <th>25</th>\n",
       "      <td>Kentucky</td>\n",
       "      <td>4,505,836</td>\n",
       "    </tr>\n",
       "    <tr>\n",
       "      <th>26</th>\n",
       "      <td>Oregon</td>\n",
       "      <td>4,237,256</td>\n",
       "    </tr>\n",
       "    <tr>\n",
       "      <th>27</th>\n",
       "      <td>Oklahoma</td>\n",
       "      <td>3,959,353</td>\n",
       "    </tr>\n",
       "    <tr>\n",
       "      <th>28</th>\n",
       "      <td>Connecticut</td>\n",
       "      <td>3,605,944</td>\n",
       "    </tr>\n",
       "    <tr>\n",
       "      <th>29</th>\n",
       "      <td>Utah</td>\n",
       "      <td>3,271,616</td>\n",
       "    </tr>\n",
       "    <tr>\n",
       "      <th>30</th>\n",
       "      <td>Iowa</td>\n",
       "      <td>3,190,369</td>\n",
       "    </tr>\n",
       "    <tr>\n",
       "      <th>31</th>\n",
       "      <td>Nevada</td>\n",
       "      <td>3,104,614</td>\n",
       "    </tr>\n",
       "    <tr>\n",
       "      <th>32</th>\n",
       "      <td>Arkansas</td>\n",
       "      <td>3,011,524</td>\n",
       "    </tr>\n",
       "    <tr>\n",
       "      <th>33</th>\n",
       "      <td>Mississippi</td>\n",
       "      <td>2,961,279</td>\n",
       "    </tr>\n",
       "    <tr>\n",
       "      <th>34</th>\n",
       "      <td>Kansas</td>\n",
       "      <td>2,937,880</td>\n",
       "    </tr>\n",
       "    <tr>\n",
       "      <th>35</th>\n",
       "      <td>New Mexico</td>\n",
       "      <td>2,117,522</td>\n",
       "    </tr>\n",
       "    <tr>\n",
       "      <th>36</th>\n",
       "      <td>Nebraska</td>\n",
       "      <td>1,961,504</td>\n",
       "    </tr>\n",
       "    <tr>\n",
       "      <th>37</th>\n",
       "      <td>Idaho</td>\n",
       "      <td>1,839,106</td>\n",
       "    </tr>\n",
       "    <tr>\n",
       "      <th>38</th>\n",
       "      <td>West Virginia</td>\n",
       "      <td>1,793,716</td>\n",
       "    </tr>\n",
       "    <tr>\n",
       "      <th>39</th>\n",
       "      <td>Hawaii</td>\n",
       "      <td>1,455,271</td>\n",
       "    </tr>\n",
       "    <tr>\n",
       "      <th>40</th>\n",
       "      <td>New Hampshire</td>\n",
       "      <td>1,377,529</td>\n",
       "    </tr>\n",
       "    <tr>\n",
       "      <th>41</th>\n",
       "      <td>Maine</td>\n",
       "      <td>1,362,359</td>\n",
       "    </tr>\n",
       "    <tr>\n",
       "      <th>42</th>\n",
       "      <td>Rhode Island</td>\n",
       "      <td>1,097,379</td>\n",
       "    </tr>\n",
       "    <tr>\n",
       "      <th>43</th>\n",
       "      <td>Montana</td>\n",
       "      <td>1,084,225</td>\n",
       "    </tr>\n",
       "    <tr>\n",
       "      <th>44</th>\n",
       "      <td>Delaware</td>\n",
       "      <td>989,948</td>\n",
       "    </tr>\n",
       "    <tr>\n",
       "      <th>45</th>\n",
       "      <td>South Dakota</td>\n",
       "      <td>886,667</td>\n",
       "    </tr>\n",
       "    <tr>\n",
       "      <th>46</th>\n",
       "      <td>North Dakota</td>\n",
       "      <td>779,094</td>\n",
       "    </tr>\n",
       "    <tr>\n",
       "      <th>47</th>\n",
       "      <td>Alaska</td>\n",
       "      <td>733,391</td>\n",
       "    </tr>\n",
       "    <tr>\n",
       "      <th>48</th>\n",
       "      <td>District of Columbia</td>\n",
       "      <td>689,545</td>\n",
       "    </tr>\n",
       "    <tr>\n",
       "      <th>49</th>\n",
       "      <td>Vermont</td>\n",
       "      <td>643,077</td>\n",
       "    </tr>\n",
       "    <tr>\n",
       "      <th>50</th>\n",
       "      <td>Wyoming</td>\n",
       "      <td>576,851</td>\n",
       "    </tr>\n",
       "  </tbody>\n",
       "</table>\n",
       "</div>\n",
       "    <div class=\"colab-df-buttons\">\n",
       "\n",
       "  <div class=\"colab-df-container\">\n",
       "    <button class=\"colab-df-convert\" onclick=\"convertToInteractive('df-22f51f58-a0c2-4a92-acd2-84745f24b873')\"\n",
       "            title=\"Convert this dataframe to an interactive table.\"\n",
       "            style=\"display:none;\">\n",
       "\n",
       "  <svg xmlns=\"http://www.w3.org/2000/svg\" height=\"24px\" viewBox=\"0 -960 960 960\">\n",
       "    <path d=\"M120-120v-720h720v720H120Zm60-500h600v-160H180v160Zm220 220h160v-160H400v160Zm0 220h160v-160H400v160ZM180-400h160v-160H180v160Zm440 0h160v-160H620v160ZM180-180h160v-160H180v160Zm440 0h160v-160H620v160Z\"/>\n",
       "  </svg>\n",
       "    </button>\n",
       "\n",
       "  <style>\n",
       "    .colab-df-container {\n",
       "      display:flex;\n",
       "      gap: 12px;\n",
       "    }\n",
       "\n",
       "    .colab-df-convert {\n",
       "      background-color: #E8F0FE;\n",
       "      border: none;\n",
       "      border-radius: 50%;\n",
       "      cursor: pointer;\n",
       "      display: none;\n",
       "      fill: #1967D2;\n",
       "      height: 32px;\n",
       "      padding: 0 0 0 0;\n",
       "      width: 32px;\n",
       "    }\n",
       "\n",
       "    .colab-df-convert:hover {\n",
       "      background-color: #E2EBFA;\n",
       "      box-shadow: 0px 1px 2px rgba(60, 64, 67, 0.3), 0px 1px 3px 1px rgba(60, 64, 67, 0.15);\n",
       "      fill: #174EA6;\n",
       "    }\n",
       "\n",
       "    .colab-df-buttons div {\n",
       "      margin-bottom: 4px;\n",
       "    }\n",
       "\n",
       "    [theme=dark] .colab-df-convert {\n",
       "      background-color: #3B4455;\n",
       "      fill: #D2E3FC;\n",
       "    }\n",
       "\n",
       "    [theme=dark] .colab-df-convert:hover {\n",
       "      background-color: #434B5C;\n",
       "      box-shadow: 0px 1px 3px 1px rgba(0, 0, 0, 0.15);\n",
       "      filter: drop-shadow(0px 1px 2px rgba(0, 0, 0, 0.3));\n",
       "      fill: #FFFFFF;\n",
       "    }\n",
       "  </style>\n",
       "\n",
       "    <script>\n",
       "      const buttonEl =\n",
       "        document.querySelector('#df-22f51f58-a0c2-4a92-acd2-84745f24b873 button.colab-df-convert');\n",
       "      buttonEl.style.display =\n",
       "        google.colab.kernel.accessAllowed ? 'block' : 'none';\n",
       "\n",
       "      async function convertToInteractive(key) {\n",
       "        const element = document.querySelector('#df-22f51f58-a0c2-4a92-acd2-84745f24b873');\n",
       "        const dataTable =\n",
       "          await google.colab.kernel.invokeFunction('convertToInteractive',\n",
       "                                                    [key], {});\n",
       "        if (!dataTable) return;\n",
       "\n",
       "        const docLinkHtml = 'Like what you see? Visit the ' +\n",
       "          '<a target=\"_blank\" href=https://colab.research.google.com/notebooks/data_table.ipynb>data table notebook</a>'\n",
       "          + ' to learn more about interactive tables.';\n",
       "        element.innerHTML = '';\n",
       "        dataTable['output_type'] = 'display_data';\n",
       "        await google.colab.output.renderOutput(dataTable, element);\n",
       "        const docLink = document.createElement('div');\n",
       "        docLink.innerHTML = docLinkHtml;\n",
       "        element.appendChild(docLink);\n",
       "      }\n",
       "    </script>\n",
       "  </div>\n",
       "\n",
       "\n",
       "<div id=\"df-abead2cf-ba74-40a9-ba5b-180a4142c11f\">\n",
       "  <button class=\"colab-df-quickchart\" onclick=\"quickchart('df-abead2cf-ba74-40a9-ba5b-180a4142c11f')\"\n",
       "            title=\"Suggest charts.\"\n",
       "            style=\"display:none;\">\n",
       "\n",
       "<svg xmlns=\"http://www.w3.org/2000/svg\" height=\"24px\"viewBox=\"0 0 24 24\"\n",
       "     width=\"24px\">\n",
       "    <g>\n",
       "        <path d=\"M19 3H5c-1.1 0-2 .9-2 2v14c0 1.1.9 2 2 2h14c1.1 0 2-.9 2-2V5c0-1.1-.9-2-2-2zM9 17H7v-7h2v7zm4 0h-2V7h2v10zm4 0h-2v-4h2v4z\"/>\n",
       "    </g>\n",
       "</svg>\n",
       "  </button>\n",
       "\n",
       "<style>\n",
       "  .colab-df-quickchart {\n",
       "      --bg-color: #E8F0FE;\n",
       "      --fill-color: #1967D2;\n",
       "      --hover-bg-color: #E2EBFA;\n",
       "      --hover-fill-color: #174EA6;\n",
       "      --disabled-fill-color: #AAA;\n",
       "      --disabled-bg-color: #DDD;\n",
       "  }\n",
       "\n",
       "  [theme=dark] .colab-df-quickchart {\n",
       "      --bg-color: #3B4455;\n",
       "      --fill-color: #D2E3FC;\n",
       "      --hover-bg-color: #434B5C;\n",
       "      --hover-fill-color: #FFFFFF;\n",
       "      --disabled-bg-color: #3B4455;\n",
       "      --disabled-fill-color: #666;\n",
       "  }\n",
       "\n",
       "  .colab-df-quickchart {\n",
       "    background-color: var(--bg-color);\n",
       "    border: none;\n",
       "    border-radius: 50%;\n",
       "    cursor: pointer;\n",
       "    display: none;\n",
       "    fill: var(--fill-color);\n",
       "    height: 32px;\n",
       "    padding: 0;\n",
       "    width: 32px;\n",
       "  }\n",
       "\n",
       "  .colab-df-quickchart:hover {\n",
       "    background-color: var(--hover-bg-color);\n",
       "    box-shadow: 0 1px 2px rgba(60, 64, 67, 0.3), 0 1px 3px 1px rgba(60, 64, 67, 0.15);\n",
       "    fill: var(--button-hover-fill-color);\n",
       "  }\n",
       "\n",
       "  .colab-df-quickchart-complete:disabled,\n",
       "  .colab-df-quickchart-complete:disabled:hover {\n",
       "    background-color: var(--disabled-bg-color);\n",
       "    fill: var(--disabled-fill-color);\n",
       "    box-shadow: none;\n",
       "  }\n",
       "\n",
       "  .colab-df-spinner {\n",
       "    border: 2px solid var(--fill-color);\n",
       "    border-color: transparent;\n",
       "    border-bottom-color: var(--fill-color);\n",
       "    animation:\n",
       "      spin 1s steps(1) infinite;\n",
       "  }\n",
       "\n",
       "  @keyframes spin {\n",
       "    0% {\n",
       "      border-color: transparent;\n",
       "      border-bottom-color: var(--fill-color);\n",
       "      border-left-color: var(--fill-color);\n",
       "    }\n",
       "    20% {\n",
       "      border-color: transparent;\n",
       "      border-left-color: var(--fill-color);\n",
       "      border-top-color: var(--fill-color);\n",
       "    }\n",
       "    30% {\n",
       "      border-color: transparent;\n",
       "      border-left-color: var(--fill-color);\n",
       "      border-top-color: var(--fill-color);\n",
       "      border-right-color: var(--fill-color);\n",
       "    }\n",
       "    40% {\n",
       "      border-color: transparent;\n",
       "      border-right-color: var(--fill-color);\n",
       "      border-top-color: var(--fill-color);\n",
       "    }\n",
       "    60% {\n",
       "      border-color: transparent;\n",
       "      border-right-color: var(--fill-color);\n",
       "    }\n",
       "    80% {\n",
       "      border-color: transparent;\n",
       "      border-right-color: var(--fill-color);\n",
       "      border-bottom-color: var(--fill-color);\n",
       "    }\n",
       "    90% {\n",
       "      border-color: transparent;\n",
       "      border-bottom-color: var(--fill-color);\n",
       "    }\n",
       "  }\n",
       "</style>\n",
       "\n",
       "  <script>\n",
       "    async function quickchart(key) {\n",
       "      const quickchartButtonEl =\n",
       "        document.querySelector('#' + key + ' button');\n",
       "      quickchartButtonEl.disabled = true;  // To prevent multiple clicks.\n",
       "      quickchartButtonEl.classList.add('colab-df-spinner');\n",
       "      try {\n",
       "        const charts = await google.colab.kernel.invokeFunction(\n",
       "            'suggestCharts', [key], {});\n",
       "      } catch (error) {\n",
       "        console.error('Error during call to suggestCharts:', error);\n",
       "      }\n",
       "      quickchartButtonEl.classList.remove('colab-df-spinner');\n",
       "      quickchartButtonEl.classList.add('colab-df-quickchart-complete');\n",
       "    }\n",
       "    (() => {\n",
       "      let quickchartButtonEl =\n",
       "        document.querySelector('#df-abead2cf-ba74-40a9-ba5b-180a4142c11f button');\n",
       "      quickchartButtonEl.style.display =\n",
       "        google.colab.kernel.accessAllowed ? 'block' : 'none';\n",
       "    })();\n",
       "  </script>\n",
       "</div>\n",
       "    </div>\n",
       "  </div>\n"
      ],
      "text/plain": [
       "                   State  Population\n",
       "0             California  39,538,223\n",
       "1                  Texas  29,145,505\n",
       "2                Florida  21,538,187\n",
       "3               New York  20,201,249\n",
       "4           Pennsylvania  13,002,700\n",
       "5               Illinois  12,812,508\n",
       "6                   Ohio  11,799,448\n",
       "7                Georgia  10,711,908\n",
       "8         North Carolina  10,439,388\n",
       "9               Michigan  10,077,331\n",
       "10            New Jersey   9,288,994\n",
       "11              Virginia   8,631,393\n",
       "12            Washington   7,705,281\n",
       "13               Arizona   7,151,502\n",
       "14         Massachusetts   7,029,917\n",
       "15             Tennessee   6,910,840\n",
       "16               Indiana   6,785,528\n",
       "17              Maryland   6,177,224\n",
       "18              Missouri   6,154,913\n",
       "19             Wisconsin   5,893,718\n",
       "20              Colorado   5,773,714\n",
       "21             Minnesota   5,706,494\n",
       "22        South Carolina   5,118,425\n",
       "23               Alabama   5,024,279\n",
       "24             Louisiana   4,657,757\n",
       "25              Kentucky   4,505,836\n",
       "26                Oregon   4,237,256\n",
       "27              Oklahoma   3,959,353\n",
       "28           Connecticut   3,605,944\n",
       "29                  Utah   3,271,616\n",
       "30                  Iowa   3,190,369\n",
       "31                Nevada   3,104,614\n",
       "32              Arkansas   3,011,524\n",
       "33           Mississippi   2,961,279\n",
       "34                Kansas   2,937,880\n",
       "35            New Mexico   2,117,522\n",
       "36              Nebraska   1,961,504\n",
       "37                 Idaho   1,839,106\n",
       "38         West Virginia   1,793,716\n",
       "39                Hawaii   1,455,271\n",
       "40         New Hampshire   1,377,529\n",
       "41                 Maine   1,362,359\n",
       "42          Rhode Island   1,097,379\n",
       "43               Montana   1,084,225\n",
       "44              Delaware     989,948\n",
       "45          South Dakota     886,667\n",
       "46          North Dakota     779,094\n",
       "47                Alaska     733,391\n",
       "48  District of Columbia     689,545\n",
       "49               Vermont     643,077\n",
       "50               Wyoming     576,851"
      ]
     },
     "execution_count": 68,
     "metadata": {},
     "output_type": "execute_result"
    }
   ],
   "source": [
    "not_states = [\n",
    "    'Puerto Rico', 'Guam', 'U.S. Virgin Islands', 'American Samoa',\n",
    "    'Northern Mariana Islands', 'Contiguous United States',\n",
    "    'The fifty states', 'Fifty states + D.C.',\n",
    "    'Total U.S. (including D.C. and territories)'\n",
    "]\n",
    "\n",
    "for key in not_states:\n",
    "    state_name.pop(key, None)\n",
    "state_pop_df = pd.DataFrame(list(state_name.items()), columns=['State', 'Population'])\n",
    "state_pop_df"
   ]
  },
  {
   "cell_type": "code",
   "execution_count": 70,
   "metadata": {
    "id": "Fa9IK8nUBEQG"
   },
   "outputs": [],
   "source": [
    "def region(state):\n",
    "  northeast = [\"Connecticut\", \"Maine\", \"Massachusetts\", \"New Hampshire\", \"Vermont\", \"Rhode Island\", \"New Jersey\", \"New York\", \"Pennsylvania\"]\n",
    "  midwest = [\"Illinois\", \"Indiana\", \"Michigan\", \"Ohio\", \"Wisconsin\", \"Iowa\", \"Kansas\", \"Minnesota\", \"Missouri\", \"Nebraska\", \"North Dakota\", \"South Dakota\"]\n",
    "  west = [\"Arizona\", \"Colorado\", \"Idaho\", \"Montana\", \"Nevada\", \"New Mexico\", \"Utah\", \"Wyoming\", \"Alaska\", \"California\", \"Hawaii\", \"Oregon\", \"Washington\"]\n",
    "  if state in northeast:\n",
    "    return \"Northeast\"\n",
    "  if state in midwest:\n",
    "    return \"Midwest\"\n",
    "  if state in west:\n",
    "    return \"West\"\n",
    "  return \"South\""
   ]
  },
  {
   "cell_type": "code",
   "execution_count": 69,
   "metadata": {
    "colab": {
     "base_uri": "https://localhost:8080/"
    },
    "id": "yGgCuG2JKDhH",
    "outputId": "1da42c90-e9fc-453c-8cfb-757963815974"
   },
   "outputs": [
    {
     "name": "stdout",
     "output_type": "stream",
     "text": [
      "{'symbol': 'SBUX', 'annualReports': [{'fiscalDateEnding': '2022-09-30', 'reportedCurrency': 'USD', 'grossProfit': '8371100000', 'totalRevenue': '32250300000', 'costOfRevenue': '23879200000', 'costofGoodsAndServicesSold': '23879200000', 'operatingIncome': '4617800000', 'sellingGeneralAndAdministrative': '2032000000', 'researchAndDevelopment': 'None', 'operatingExpenses': '3941400000', 'investmentIncomeNet': 'None', 'netInterestIncome': '-385900000', 'interestIncome': '97000000', 'interestExpense': '482900000', 'nonInterestIncome': 'None', 'otherNonOperatingIncome': '97000000', 'depreciation': 'None', 'depreciationAndAmortization': '1447900000', 'incomeBeforeTax': '4230100000', 'incomeTaxExpense': '948500000', 'interestAndDebtExpense': 'None', 'netIncomeFromContinuingOperations': '3283400000', 'comprehensiveIncomeNetOfTax': '2671200000', 'ebit': '4713000000', 'ebitda': '6160900000', 'netIncome': '3281600000'}, {'fiscalDateEnding': '2021-09-30', 'reportedCurrency': 'USD', 'grossProfit': '18221500000', 'totalRevenue': '29060600000', 'costOfRevenue': '10839100000', 'costofGoodsAndServicesSold': '20669600000', 'operatingIncome': '4872100000', 'sellingGeneralAndAdministrative': '2237700000', 'researchAndDevelopment': 'None', 'operatingExpenses': '3344800000', 'investmentIncomeNet': 'None', 'netInterestIncome': '-469800000', 'interestIncome': '90100000', 'interestExpense': '469800000', 'nonInterestIncome': '864500000', 'otherNonOperatingIncome': '954600000', 'depreciation': 'None', 'depreciationAndAmortization': '1441700000', 'incomeBeforeTax': '5355900000', 'incomeTaxExpense': '1156600000', 'interestAndDebtExpense': '469800000', 'netIncomeFromContinuingOperations': '4200300000', 'comprehensiveIncomeNetOfTax': '4711100000', 'ebit': '5825700000', 'ebitda': '7267400000', 'netIncome': '4199300000'}, {'fiscalDateEnding': '2020-09-30', 'reportedCurrency': 'USD', 'grossProfit': '13737700000', 'totalRevenue': '23518000000', 'costOfRevenue': '9780300000', 'costofGoodsAndServicesSold': '50000000', 'operatingIncome': '1561700000', 'sellingGeneralAndAdministrative': '1938400000', 'researchAndDevelopment': 'None', 'operatingExpenses': '3993800000', 'investmentIncomeNet': 'None', 'netInterestIncome': '-437000000', 'interestIncome': '39700000', 'interestExpense': '437000000', 'nonInterestIncome': '84900000', 'otherNonOperatingIncome': '39700000', 'depreciation': 'None', 'depreciationAndAmortization': '1431300000', 'incomeBeforeTax': '1168000000', 'incomeTaxExpense': '239700000', 'interestAndDebtExpense': '437000000', 'netIncomeFromContinuingOperations': '924700000', 'comprehensiveIncomeNetOfTax': '1062200000', 'ebit': '1605000000', 'ebitda': '3036300000', 'netIncome': '928300000'}, {'fiscalDateEnding': '2019-09-30', 'reportedCurrency': 'USD', 'grossProfit': '14398800000', 'totalRevenue': '26508600000', 'costOfRevenue': '12109800000', 'costofGoodsAndServicesSold': '8526900000', 'operatingIncome': '4077900000', 'sellingGeneralAndAdministrative': '2069800000', 'researchAndDevelopment': 'None', 'operatingExpenses': '3266500000', 'investmentIncomeNet': 'None', 'netInterestIncome': '-331000000', 'interestIncome': '96500000', 'interestExpense': '331000000', 'nonInterestIncome': '687400000', 'otherNonOperatingIncome': '719300000', 'depreciation': 'None', 'depreciationAndAmortization': '1377300000', 'incomeBeforeTax': '4470800000', 'incomeTaxExpense': '871600000', 'interestAndDebtExpense': '331000000', 'netIncomeFromContinuingOperations': '3594600000', 'comprehensiveIncomeNetOfTax': '3426200000', 'ebit': '4801800000', 'ebitda': '6179100000', 'netIncome': '3599200000'}, {'fiscalDateEnding': '2018-09-30', 'reportedCurrency': 'USD', 'grossProfit': '10973900000', 'totalRevenue': '24719500000', 'costOfRevenue': '13745600000', 'costofGoodsAndServicesSold': '7930700000', 'operatingIncome': '3883300000', 'sellingGeneralAndAdministrative': '2019300000', 'researchAndDevelopment': 'None', 'operatingExpenses': '3644000000', 'investmentIncomeNet': 'None', 'netInterestIncome': '-170300000', 'interestIncome': '191400000', 'interestExpense': '170300000', 'nonInterestIncome': '466400000', 'otherNonOperatingIncome': '2067000000', 'depreciation': 'None', 'depreciationAndAmortization': '1247000000', 'incomeBeforeTax': '5780300000', 'incomeTaxExpense': '1262000000', 'interestAndDebtExpense': '170300000', 'netIncomeFromContinuingOperations': '4518000000', 'comprehensiveIncomeNetOfTax': '4343600000', 'ebit': '5950600000', 'ebitda': '7197600000', 'netIncome': '4518300000'}], 'quarterlyReports': [{'fiscalDateEnding': '2023-06-30', 'reportedCurrency': 'USD', 'grossProfit': '6029000000', 'totalRevenue': '9168300000', 'costOfRevenue': '3139300000', 'costofGoodsAndServicesSold': '6561800000', 'operatingIncome': '1583900000', 'sellingGeneralAndAdministrative': '604300000', 'researchAndDevelopment': 'None', 'operatingExpenses': '1092300000', 'investmentIncomeNet': 'None', 'netInterestIncome': '-140900000', 'interestIncome': '21300000', 'interestExpense': '140900000', 'nonInterestIncome': 'None', 'otherNonOperatingIncome': '21300000', 'depreciation': 'None', 'depreciationAndAmortization': '342200000', 'incomeBeforeTax': '1464100000', 'incomeTaxExpense': '322400000', 'interestAndDebtExpense': '140900000', 'netIncomeFromContinuingOperations': '1141900000', 'comprehensiveIncomeNetOfTax': '886500000', 'ebit': '1605000000', 'ebitda': '1947200000', 'netIncome': '1141700000'}, {'fiscalDateEnding': '2023-03-31', 'reportedCurrency': 'USD', 'grossProfit': '2282100000', 'totalRevenue': '8719800000', 'costOfRevenue': '6437700000', 'costofGoodsAndServicesSold': '6437700000', 'operatingIncome': '1327500000', 'sellingGeneralAndAdministrative': '620400000', 'researchAndDevelopment': 'None', 'operatingExpenses': '1088500000', 'investmentIncomeNet': 'None', 'netInterestIncome': '-117900000', 'interestIncome': '18400000', 'interestExpense': '136300000', 'nonInterestIncome': 'None', 'otherNonOperatingIncome': '18400000', 'depreciation': 'None', 'depreciationAndAmortization': '341900000', 'incomeBeforeTax': '1209600000', 'incomeTaxExpense': '301300000', 'interestAndDebtExpense': 'None', 'netIncomeFromContinuingOperations': '908300000', 'comprehensiveIncomeNetOfTax': '925600000', 'ebit': '1345900000', 'ebitda': '1687800000', 'netIncome': '908300000'}, {'fiscalDateEnding': '2022-12-31', 'reportedCurrency': 'USD', 'grossProfit': '2238400000', 'totalRevenue': '8713900000', 'costOfRevenue': '6475500000', 'costofGoodsAndServicesSold': '6475500000', 'operatingIncome': '1253100000', 'sellingGeneralAndAdministrative': '580900000', 'researchAndDevelopment': 'None', 'operatingExpenses': '1037300000', 'investmentIncomeNet': 'None', 'netInterestIncome': '-118100000', 'interestIncome': '11600000', 'interestExpense': '129700000', 'nonInterestIncome': 'None', 'otherNonOperatingIncome': '11600000', 'depreciation': 'None', 'depreciationAndAmortization': '327100000', 'incomeBeforeTax': '1135000000', 'incomeTaxExpense': '279800000', 'interestAndDebtExpense': 'None', 'netIncomeFromContinuingOperations': '855200000', 'comprehensiveIncomeNetOfTax': '779500000', 'ebit': '1264700000', 'ebitda': '1591800000', 'netIncome': '855200000'}, {'fiscalDateEnding': '2022-09-30', 'reportedCurrency': 'USD', 'grossProfit': '2158500000', 'totalRevenue': '8414200000', 'costOfRevenue': '6255700000', 'costofGoodsAndServicesSold': '6255700000', 'operatingIncome': '1195500000', 'sellingGeneralAndAdministrative': '538000000', 'researchAndDevelopment': 'None', 'operatingExpenses': '1018500000', 'investmentIncomeNet': 'None', 'netInterestIncome': '-94300000', 'interestIncome': '31000000', 'interestExpense': '125300000', 'nonInterestIncome': 'None', 'otherNonOperatingIncome': '31000000', 'depreciation': 'None', 'depreciationAndAmortization': '357400000', 'incomeBeforeTax': '1100900000', 'incomeTaxExpense': '222600000', 'interestAndDebtExpense': 'None', 'netIncomeFromContinuingOperations': '878500000', 'comprehensiveIncomeNetOfTax': '480100000', 'ebit': '1226200000', 'ebitda': '1583600000', 'netIncome': '878300000'}, {'fiscalDateEnding': '2022-06-30', 'reportedCurrency': 'USD', 'grossProfit': '5309600000', 'totalRevenue': '8150100000', 'costOfRevenue': '2840500000', 'costofGoodsAndServicesSold': '5916100000', 'operatingIncome': '1295500000', 'sellingGeneralAndAdministrative': '486700000', 'researchAndDevelopment': 'None', 'operatingExpenses': '992600000', 'investmentIncomeNet': 'None', 'netInterestIncome': '-123100000', 'interestIncome': '19800000', 'interestExpense': '123100000', 'nonInterestIncome': 'None', 'otherNonOperatingIncome': '19800000', 'depreciation': 'None', 'depreciationAndAmortization': '356800000', 'incomeBeforeTax': '1191400000', 'incomeTaxExpense': '278500000', 'interestAndDebtExpense': '123100000', 'netIncomeFromContinuingOperations': '913700000', 'comprehensiveIncomeNetOfTax': '587600000', 'ebit': '1314500000', 'ebitda': '1671300000', 'netIncome': '912900000'}, {'fiscalDateEnding': '2022-03-31', 'reportedCurrency': 'USD', 'grossProfit': '4763700000', 'totalRevenue': '7635600000', 'costOfRevenue': '2871900000', 'costofGoodsAndServicesSold': '5780500000', 'operatingIncome': '948900000', 'sellingGeneralAndAdministrative': '481500000', 'researchAndDevelopment': 'None', 'operatingExpenses': '955300000', 'investmentIncomeNet': 'None', 'netInterestIncome': '-119100000', 'interestIncome': '46300000', 'interestExpense': '119100000', 'nonInterestIncome': 'None', 'otherNonOperatingIncome': '46300000', 'depreciation': 'None', 'depreciationAndAmortization': '367700000', 'incomeBeforeTax': '875600000', 'incomeTaxExpense': '201100000', 'interestAndDebtExpense': '119100000', 'netIncomeFromContinuingOperations': '675000000', 'comprehensiveIncomeNetOfTax': '681300000', 'ebit': '994700000', 'ebitda': '1362400000', 'netIncome': '674500000'}, {'fiscalDateEnding': '2021-12-31', 'reportedCurrency': 'USD', 'grossProfit': '5155400000', 'totalRevenue': '8050400000', 'costOfRevenue': '2895000000', 'costofGoodsAndServicesSold': '5926900000', 'operatingIncome': '1177800000', 'sellingGeneralAndAdministrative': '525800000', 'researchAndDevelopment': 'None', 'operatingExpenses': '986000000', 'investmentIncomeNet': 'None', 'netInterestIncome': '-115300000', 'interestIncome': 'None', 'interestExpense': '115300000', 'nonInterestIncome': 'None', 'otherNonOperatingIncome': '-100000', 'depreciation': 'None', 'depreciationAndAmortization': '366000000', 'incomeBeforeTax': '1062200000', 'incomeTaxExpense': '246300000', 'interestAndDebtExpense': '115300000', 'netIncomeFromContinuingOperations': '816100000', 'comprehensiveIncomeNetOfTax': '922200000', 'ebit': '1177500000', 'ebitda': '1543500000', 'netIncome': '815900000'}, {'fiscalDateEnding': '2021-09-30', 'reportedCurrency': 'USD', 'grossProfit': '4962800000', 'totalRevenue': '8146700000', 'costOfRevenue': '3183900000', 'costofGoodsAndServicesSold': '5764500000', 'operatingIncome': '1482200000', 'sellingGeneralAndAdministrative': '806300000', 'researchAndDevelopment': 'None', 'operatingExpenses': '665300000', 'investmentIncomeNet': 'None', 'netInterestIncome': '-120600000', 'interestIncome': '21500000', 'interestExpense': '120600000', 'nonInterestIncome': 'None', 'otherNonOperatingIncome': '885800000', 'depreciation': 'None', 'depreciationAndAmortization': '354700000', 'incomeBeforeTax': '2247400000', 'incomeTaxExpense': '483000000', 'interestAndDebtExpense': '120600000', 'netIncomeFromContinuingOperations': '1764600000', 'comprehensiveIncomeNetOfTax': '1941300000', 'ebit': '2368000000', 'ebitda': '2722700000', 'netIncome': '1764400000'}, {'fiscalDateEnding': '2021-06-30', 'reportedCurrency': 'USD', 'grossProfit': '4876800000', 'totalRevenue': '7496500000', 'costOfRevenue': '2619700000', 'costofGoodsAndServicesSold': '5172900000', 'operatingIncome': '1488700000', 'sellingGeneralAndAdministrative': '494900000', 'researchAndDevelopment': 'None', 'operatingExpenses': '940400000', 'investmentIncomeNet': 'None', 'netInterestIncome': '-113400000', 'interestIncome': '36000000', 'interestExpense': '113400000', 'nonInterestIncome': 'None', 'otherNonOperatingIncome': '36000000', 'depreciation': 'None', 'depreciationAndAmortization': '354300000', 'incomeBeforeTax': '1410500000', 'incomeTaxExpense': '257100000', 'interestAndDebtExpense': '113400000', 'netIncomeFromContinuingOperations': '1154200000', 'comprehensiveIncomeNetOfTax': '1250000000', 'ebit': '1523900000', 'ebitda': '1878200000', 'netIncome': '1153400000'}, {'fiscalDateEnding': '2021-03-31', 'reportedCurrency': 'USD', 'grossProfit': '4149000000', 'totalRevenue': '6668000000', 'costOfRevenue': '2519000000', 'costofGoodsAndServicesSold': '4815700000', 'operatingIncome': '987600000', 'sellingGeneralAndAdministrative': '464400000', 'researchAndDevelopment': 'None', 'operatingExpenses': '941800000', 'investmentIncomeNet': 'None', 'netInterestIncome': '-115000000', 'interestIncome': '17300000', 'interestExpense': '115000000', 'nonInterestIncome': 'None', 'otherNonOperatingIncome': '17300000', 'depreciation': 'None', 'depreciationAndAmortization': '366700000', 'incomeBeforeTax': '889900000', 'incomeTaxExpense': '230500000', 'interestAndDebtExpense': '115000000', 'netIncomeFromContinuingOperations': '659400000', 'comprehensiveIncomeNetOfTax': '679000000', 'ebit': '1004900000', 'ebitda': '1371600000', 'netIncome': '659400000'}, {'fiscalDateEnding': '2020-12-31', 'reportedCurrency': 'USD', 'grossProfit': '4232800000', 'totalRevenue': '6749400000', 'costOfRevenue': '2516600000', 'costofGoodsAndServicesSold': '4916400000', 'operatingIncome': '913500000', 'sellingGeneralAndAdministrative': '472100000', 'researchAndDevelopment': 'None', 'operatingExpenses': '869600000', 'investmentIncomeNet': 'None', 'netInterestIncome': '-120700000', 'interestIncome': '15500000', 'interestExpense': '120700000', 'nonInterestIncome': 'None', 'otherNonOperatingIncome': '15500000', 'depreciation': 'None', 'depreciationAndAmortization': '366100000', 'incomeBeforeTax': '808300000', 'incomeTaxExpense': '186100000', 'interestAndDebtExpense': '120700000', 'netIncomeFromContinuingOperations': '622200000', 'comprehensiveIncomeNetOfTax': '840900000', 'ebit': '929000000', 'ebitda': '1295100000', 'netIncome': '622200000'}, {'fiscalDateEnding': '2020-09-30', 'reportedCurrency': 'USD', 'grossProfit': '6203100000', 'totalRevenue': '6203100000', 'costOfRevenue': '2704000000', 'costofGoodsAndServicesSold': '4660200000', 'operatingIncome': '558300000', 'sellingGeneralAndAdministrative': '697800000', 'researchAndDevelopment': 'None', 'operatingExpenses': '1395500000', 'investmentIncomeNet': 'None', 'netInterestIncome': '-124900000', 'interestIncome': '9000000', 'interestExpense': '124900000', 'nonInterestIncome': '84900000', 'otherNonOperatingIncome': '9100000', 'depreciation': 'None', 'depreciationAndAmortization': '363000000', 'incomeBeforeTax': '442300000', 'incomeTaxExpense': '49700000', 'interestAndDebtExpense': '124900000', 'netIncomeFromContinuingOperations': '558300000', 'comprehensiveIncomeNetOfTax': '557900000', 'ebit': '567200000', 'ebitda': '930200000', 'netIncome': '392600000'}, {'fiscalDateEnding': '2020-06-30', 'reportedCurrency': 'USD', 'grossProfit': '1905400000', 'totalRevenue': '4222100000', 'costOfRevenue': '2316700000', 'costofGoodsAndServicesSold': '4021800000', 'operatingIncome': '-703900000', 'sellingGeneralAndAdministrative': '399900000', 'researchAndDevelopment': 'None', 'operatingExpenses': '972600000', 'investmentIncomeNet': 'None', 'netInterestIncome': '-120800000', 'interestIncome': '12700000', 'interestExpense': '120800000', 'nonInterestIncome': '0', 'otherNonOperatingIncome': '12700000', 'depreciation': 'None', 'depreciationAndAmortization': '361000000', 'incomeBeforeTax': '-812300000', 'incomeTaxExpense': '-133900000', 'interestAndDebtExpense': '120800000', 'netIncomeFromContinuingOperations': '-678100000', 'comprehensiveIncomeNetOfTax': '-686500000', 'ebit': '-691500000', 'ebitda': '-330500000', 'netIncome': '-678400000'}, {'fiscalDateEnding': '2020-03-31', 'reportedCurrency': 'USD', 'grossProfit': '3235900000', 'totalRevenue': '5995700000', 'costOfRevenue': '2759800000', 'costofGoodsAndServicesSold': '1997700000', 'operatingIncome': '487400000', 'sellingGeneralAndAdministrative': '406500000', 'researchAndDevelopment': 'None', 'operatingExpenses': '857100000', 'investmentIncomeNet': 'None', 'netInterestIncome': '-99200000', 'interestIncome': '2000000', 'interestExpense': '99200000', 'nonInterestIncome': '0', 'otherNonOperatingIncome': '2000000', 'depreciation': 'None', 'depreciationAndAmortization': '356300000', 'incomeBeforeTax': '393800000', 'incomeTaxExpense': '65400000', 'interestAndDebtExpense': '99200000', 'netIncomeFromContinuingOperations': '324800000', 'comprehensiveIncomeNetOfTax': '194000000', 'ebit': '493000000', 'ebitda': '849300000', 'netIncome': '328400000'}, {'fiscalDateEnding': '2019-12-31', 'reportedCurrency': 'USD', 'grossProfit': '4069200000', 'totalRevenue': '7097100000', 'costOfRevenue': '3027900000', 'costofGoodsAndServicesSold': '2236400000', 'operatingIncome': '1219800000', 'sellingGeneralAndAdministrative': '434200000', 'researchAndDevelopment': 'None', 'operatingExpenses': '893300000', 'investmentIncomeNet': 'None', 'netInterestIncome': '-91900000', 'interestIncome': '15900000', 'interestExpense': '91900000', 'nonInterestIncome': 'None', 'otherNonOperatingIncome': '15900000', 'depreciation': 'None', 'depreciationAndAmortization': '351000000', 'incomeBeforeTax': '1144200000', 'incomeTaxExpense': '258500000', 'interestAndDebtExpense': '91900000', 'netIncomeFromContinuingOperations': '885300000', 'comprehensiveIncomeNetOfTax': '996800000', 'ebit': '1236100000', 'ebitda': '1587100000', 'netIncome': '885700000'}, {'fiscalDateEnding': '2019-09-30', 'reportedCurrency': 'USD', 'grossProfit': '6747000000', 'totalRevenue': '6747000000', 'costOfRevenue': '1363100000', 'costofGoodsAndServicesSold': '355800000', 'operatingIncome': '1083300000', 'sellingGeneralAndAdministrative': '650600000', 'researchAndDevelopment': 'None', 'operatingExpenses': '1048500000', 'investmentIncomeNet': 'None', 'netInterestIncome': '-95700000', 'interestIncome': '16300000', 'interestExpense': '95700000', 'nonInterestIncome': '64600000', 'otherNonOperatingIncome': '16300000', 'depreciation': 'None', 'depreciationAndAmortization': '344800000', 'incomeBeforeTax': '1004400000', 'incomeTaxExpense': '201500000', 'interestAndDebtExpense': '95700000', 'netIncomeFromContinuingOperations': '1083300000', 'comprehensiveIncomeNetOfTax': '648500000', 'ebit': '1100100000', 'ebitda': '1444900000', 'netIncome': '802900000'}, {'fiscalDateEnding': '2019-06-30', 'reportedCurrency': 'USD', 'grossProfit': '3153400000', 'totalRevenue': '6823000000', 'costOfRevenue': '3669600000', 'costofGoodsAndServicesSold': '2808600000', 'operatingIncome': '1121300000', 'sellingGeneralAndAdministrative': '480200000', 'researchAndDevelopment': 'None', 'operatingExpenses': '348800000', 'investmentIncomeNet': 'None', 'netInterestIncome': '-86400000', 'interestIncome': '40200000', 'interestExpense': '86400000', 'nonInterestIncome': '601800000', 'otherNonOperatingIncome': '642000000', 'depreciation': 'None', 'depreciationAndAmortization': '343100000', 'incomeBeforeTax': '1676500000', 'incomeTaxExpense': '303700000', 'interestAndDebtExpense': '86400000', 'netIncomeFromContinuingOperations': '1373200000', 'comprehensiveIncomeNetOfTax': '1295300000', 'ebit': '1762900000', 'ebitda': '2106000000', 'netIncome': '1372800000'}, {'fiscalDateEnding': '2019-03-31', 'reportedCurrency': 'USD', 'grossProfit': '2827300000', 'totalRevenue': '6305900000', 'costOfRevenue': '3478600000', 'costofGoodsAndServicesSold': '2012000000', 'operatingIncome': '857700000', 'sellingGeneralAndAdministrative': '475600000', 'researchAndDevelopment': 'None', 'operatingExpenses': '936100000', 'investmentIncomeNet': 'None', 'netInterestIncome': '-73900000', 'interestIncome': '15200000', 'interestExpense': '73900000', 'nonInterestIncome': '21000000', 'otherNonOperatingIncome': '36200000', 'depreciation': 'None', 'depreciationAndAmortization': '356200000', 'incomeBeforeTax': '824400000', 'incomeTaxExpense': '161200000', 'interestAndDebtExpense': '73900000', 'netIncomeFromContinuingOperations': '658800000', 'comprehensiveIncomeNetOfTax': '734900000', 'ebit': '898300000', 'ebitda': '1254500000', 'netIncome': '663200000'}, {'fiscalDateEnding': '2018-12-31', 'reportedCurrency': 'USD', 'grossProfit': '3034100000', 'totalRevenue': '6632700000', 'costOfRevenue': '3598600000', 'costofGoodsAndServicesSold': '2175800000', 'operatingIncome': '1015700000', 'sellingGeneralAndAdministrative': '463300000', 'researchAndDevelopment': 'None', 'operatingExpenses': '933100000', 'investmentIncomeNet': 'None', 'netInterestIncome': '-75000000', 'interestIncome': 'None', 'interestExpense': '75000000', 'nonInterestIncome': '0', 'otherNonOperatingIncome': '24800000', 'depreciation': 'None', 'depreciationAndAmortization': '333400000', 'incomeBeforeTax': '965700000', 'incomeTaxExpense': '205100000', 'interestAndDebtExpense': '75000000', 'netIncomeFromContinuingOperations': '760400000', 'comprehensiveIncomeNetOfTax': '747700000', 'ebit': '1040700000', 'ebitda': '1374100000', 'netIncome': '760600000'}, {'fiscalDateEnding': '2018-09-30', 'reportedCurrency': 'USD', 'grossProfit': '6303600000', 'totalRevenue': '6303600000', 'costOfRevenue': '3777200000', 'costofGoodsAndServicesSold': '360900000', 'operatingIncome': '956600000', 'sellingGeneralAndAdministrative': '720300000', 'researchAndDevelopment': 'None', 'operatingExpenses': '1359200000', 'investmentIncomeNet': 'None', 'netInterestIncome': '-63900000', 'interestIncome': 'None', 'interestExpense': '63900000', 'nonInterestIncome': '-29900000', 'otherNonOperatingIncome': '39100000', 'depreciation': 'None', 'depreciationAndAmortization': '326600000', 'incomeBeforeTax': '931300000', 'incomeTaxExpense': '175500000', 'interestAndDebtExpense': '63900000', 'netIncomeFromContinuingOperations': '956600000', 'comprehensiveIncomeNetOfTax': '627900000', 'ebit': '995200000', 'ebitda': '1321800000', 'netIncome': '755800000'}]}\n"
     ]
    }
   ],
   "source": [
    "url = 'https://www.alphavantage.co/query?function=INCOME_STATEMENT&symbol=SBUX&interval=5min&apikey=XFYGY6J374NSETZP'\n",
    "r = requests.get(url)\n",
    "data = r.json()\n",
    "\n",
    "print(data)\n"
   ]
  },
  {
   "cell_type": "markdown",
   "metadata": {
    "id": "4MFqiiRFKWB-"
   },
   "source": [
    "\n",
    "Analyze\n",
    "\n",
    "Assess and comment on the prevalence of each chain. Some questions to consider (you don’t need to answer all of these and you may come up with your own):\n",
    "Are some of these chains more prevalent in certain states than others? Possibly despite having less stores overall? Same questions for regions instead of states.\n",
    "\n",
    "How does your chosen financial metric change by state and region for each chain? For example, having 5 stores in California is very different from having 5 stores in Wyoming.\n",
    "\n",
    "Does the distribution of each chain’s stores match population distribution, by both state/region?\n",
    "\n",
    "Do the financial data match what you’d expect based on the number and locations of the stores? Why or why not?"
   ]
  },
  {
   "cell_type": "code",
   "execution_count": 71,
   "metadata": {
    "colab": {
     "base_uri": "https://localhost:8080/",
     "height": 331
    },
    "id": "YNqZrMTnKM1V",
    "outputId": "90cd19c2-c1df-43e7-9582-3608d8ac66e2"
   },
   "outputs": [
    {
     "ename": "AttributeError",
     "evalue": "ignored",
     "output_type": "error",
     "traceback": [
      "\u001b[0;31m---------------------------------------------------------------------------\u001b[0m",
      "\u001b[0;31mAttributeError\u001b[0m                            Traceback (most recent call last)",
      "\u001b[0;32m<ipython-input-71-7b8d932d057d>\u001b[0m in \u001b[0;36m<cell line: 31>\u001b[0;34m()\u001b[0m\n\u001b[1;32m     30\u001b[0m \u001b[0;31m# Process each store URL\u001b[0m\u001b[0;34m\u001b[0m\u001b[0;34m\u001b[0m\u001b[0m\n\u001b[1;32m     31\u001b[0m \u001b[0;32mfor\u001b[0m \u001b[0mURLs\u001b[0m \u001b[0;32min\u001b[0m \u001b[0mURLs\u001b[0m\u001b[0;34m:\u001b[0m\u001b[0;34m\u001b[0m\u001b[0;34m\u001b[0m\u001b[0m\n\u001b[0;32m---> 32\u001b[0;31m     \u001b[0mscrape_website\u001b[0m\u001b[0;34m(\u001b[0m\u001b[0mURLs\u001b[0m\u001b[0;34m)\u001b[0m\u001b[0;34m\u001b[0m\u001b[0;34m\u001b[0m\u001b[0m\n\u001b[0m",
      "\u001b[0;32m<ipython-input-56-d840c4159086>\u001b[0m in \u001b[0;36mscrape_website\u001b[0;34m(soup)\u001b[0m\n\u001b[1;32m      1\u001b[0m \u001b[0;32mdef\u001b[0m \u001b[0mscrape_website\u001b[0m\u001b[0;34m(\u001b[0m\u001b[0msoup\u001b[0m\u001b[0;34m)\u001b[0m\u001b[0;34m:\u001b[0m\u001b[0;34m\u001b[0m\u001b[0;34m\u001b[0m\u001b[0m\n\u001b[1;32m      2\u001b[0m \u001b[0;34m\u001b[0m\u001b[0m\n\u001b[0;32m----> 3\u001b[0;31m   \u001b[0mstore_name\u001b[0m \u001b[0;34m=\u001b[0m \u001b[0msoup\u001b[0m\u001b[0;34m.\u001b[0m\u001b[0mfind\u001b[0m\u001b[0;34m(\u001b[0m\u001b[0;34m'h1'\u001b[0m\u001b[0;34m)\u001b[0m\u001b[0;34m.\u001b[0m\u001b[0mfind\u001b[0m\u001b[0;34m(\u001b[0m\u001b[0;34m'span'\u001b[0m\u001b[0;34m,\u001b[0m \u001b[0;34m{\u001b[0m\u001b[0;34m'itemprop'\u001b[0m\u001b[0;34m:\u001b[0m \u001b[0;34m'name'\u001b[0m\u001b[0;34m}\u001b[0m\u001b[0;34m)\u001b[0m\u001b[0;34m.\u001b[0m\u001b[0mtext\u001b[0m\u001b[0;34m\u001b[0m\u001b[0;34m\u001b[0m\u001b[0m\n\u001b[0m\u001b[1;32m      4\u001b[0m   \u001b[0ma_titles\u001b[0m \u001b[0;34m=\u001b[0m \u001b[0msoup\u001b[0m\u001b[0;34m.\u001b[0m\u001b[0mfind_all\u001b[0m\u001b[0;34m(\u001b[0m\u001b[0;34m'a'\u001b[0m\u001b[0;34m,\u001b[0m \u001b[0mtitle\u001b[0m \u001b[0;34m=\u001b[0m \u001b[0;32mlambda\u001b[0m \u001b[0mtitle\u001b[0m\u001b[0;34m:\u001b[0m \u001b[0mtitle\u001b[0m \u001b[0;32mand\u001b[0m \u001b[0mtitle\u001b[0m\u001b[0;34m.\u001b[0m\u001b[0mendswith\u001b[0m\u001b[0;34m(\u001b[0m\u001b[0;34m', us'\u001b[0m\u001b[0;34m)\u001b[0m\u001b[0;34m)\u001b[0m\u001b[0;34m\u001b[0m\u001b[0;34m\u001b[0m\u001b[0m\n\u001b[1;32m      5\u001b[0m   \u001b[0mstores\u001b[0m \u001b[0;34m=\u001b[0m \u001b[0;34m{\u001b[0m\u001b[0;34m}\u001b[0m\u001b[0;34m\u001b[0m\u001b[0;34m\u001b[0m\u001b[0m\n",
      "\u001b[0;31mAttributeError\u001b[0m: 'int' object has no attribute 'find'"
     ]
    }
   ],
   "source": [
    "URLs = ('https://www.menuism.com/restaurant-locations/starbucks-coffee-39564','https://www.menuism.com/restaurant-locations/dunkin-donuts-181624','https://www.menuism.com/restaurant-locations/peets-coffee-tea-84051','https://www.menuism.com/restaurant-locations/tim-hortons-190025','https://www.menuism.com/restaurant-locations/panera-bread-4258','https://www.menuism.com/restaurant-locations/caribou-coffee-164861','https://www.menuism.com/restaurant-locations/au-bon-pain-69342','https://www.menuism.com/restaurant-locations/the-coffee-bean-tea-leaf-165988','https://www.menuism.com/restaurant-locations/mcdonalds-21019')\n",
    "def get_state_abbreviation(state, states_map):\n",
    "    return states_map.get(state, \"\")\n",
    "\n",
    "def One_Function(URLs):\n",
    "    response = requests.get(URLs)\n",
    "    response.status_code\n",
    "    soup = BeautifulSoup(response.content, 'html.parser')\n",
    "    store_name = soup.find('h1').find_all('span', {'itemprop': 'name'}).get_text(strip=True)[0]\n",
    "    a_titles = soup.find_all('a', title=lambda title: title and title.endswith(', us'))\n",
    "\n",
    "    stores = {}\n",
    "    states_map = {}\n",
    "    for title in a_titles:\n",
    "        code = title.get('href')[-2:].upper()\n",
    "        splits = title.text.split(' ')\n",
    "        ignore_list = store_name.split(' ')\n",
    "        state = ' '.join(filter(lambda x: x not in ignore_list and x != 'locations' and x[0] != '(', splits))\n",
    "        locations = splits[-1][1:-1]\n",
    "        stores[state] = locations\n",
    "        states_map[state] = code\n",
    "\n",
    "    stores_df = pd.DataFrame(list(stores.items()), columns=['State', 'Locations'])\n",
    "    stores_df['State'] = stores_df['State'].apply(lambda state: get_state_abbreviation(state, states_map))\n",
    "    stores_df['Company'] = store_name\n",
    "\n",
    "    print(f\"Store Name = {store_name}\")\n",
    "    print(stores_df)\n",
    "\n",
    "# Process each store URL\n",
    "for URLs in URLs:\n",
    "    scrape_website(URLs)\n"
   ]
  },
  {
   "cell_type": "markdown",
   "metadata": {
    "id": "czYuTZlINH5F"
   },
   "source": [
    "Automate\n",
    "\n",
    "Convert your code for Exercises 1-3 above to a function that takes a single argument: the menuism URL. This function should\n",
    "\n",
    "Scrape the information on state names and corresponding number of store locations on the webpage specified\n",
    "\n",
    "Extract the name of the company from either the URL specified or the webpage\n",
    "\n",
    "Return a clean, organized dataset that has three columns: state abbreviation, location count, company name. Company name will likely be repeated on every row."
   ]
  },
  {
   "cell_type": "code",
   "execution_count": 74,
   "metadata": {
    "colab": {
     "base_uri": "https://localhost:8080/",
     "height": 338
    },
    "id": "s8CvmmB3Mypt",
    "outputId": "4bb103e6-5574-450b-c965-0b1a199538f7"
   },
   "outputs": [
    {
     "ename": "AttributeError",
     "evalue": "ignored",
     "output_type": "error",
     "traceback": [
      "\u001b[0;31m---------------------------------------------------------------------------\u001b[0m",
      "\u001b[0;31mAttributeError\u001b[0m                            Traceback (most recent call last)",
      "\u001b[0;32m<ipython-input-74-7827479a3f31>\u001b[0m in \u001b[0;36m<cell line: 1>\u001b[0;34m()\u001b[0m\n\u001b[0;32m----> 1\u001b[0;31m \u001b[0mOne_Function\u001b[0m\u001b[0;34m(\u001b[0m\u001b[0;34m'https://www.menuism.com/restaurant-locations/dunkin-donuts-181624'\u001b[0m\u001b[0;34m)\u001b[0m\u001b[0;34m\u001b[0m\u001b[0;34m\u001b[0m\u001b[0m\n\u001b[0m",
      "\u001b[0;32m<ipython-input-71-7b8d932d057d>\u001b[0m in \u001b[0;36mOne_Function\u001b[0;34m(URLs)\u001b[0m\n\u001b[1;32m      7\u001b[0m     \u001b[0mresponse\u001b[0m\u001b[0;34m.\u001b[0m\u001b[0mstatus_code\u001b[0m\u001b[0;34m\u001b[0m\u001b[0;34m\u001b[0m\u001b[0m\n\u001b[1;32m      8\u001b[0m     \u001b[0msoup\u001b[0m \u001b[0;34m=\u001b[0m \u001b[0mBeautifulSoup\u001b[0m\u001b[0;34m(\u001b[0m\u001b[0mresponse\u001b[0m\u001b[0;34m.\u001b[0m\u001b[0mcontent\u001b[0m\u001b[0;34m,\u001b[0m \u001b[0;34m'html.parser'\u001b[0m\u001b[0;34m)\u001b[0m\u001b[0;34m\u001b[0m\u001b[0;34m\u001b[0m\u001b[0m\n\u001b[0;32m----> 9\u001b[0;31m     \u001b[0mstore_name\u001b[0m \u001b[0;34m=\u001b[0m \u001b[0msoup\u001b[0m\u001b[0;34m.\u001b[0m\u001b[0mfind\u001b[0m\u001b[0;34m(\u001b[0m\u001b[0;34m'h1'\u001b[0m\u001b[0;34m)\u001b[0m\u001b[0;34m.\u001b[0m\u001b[0mfind_all\u001b[0m\u001b[0;34m(\u001b[0m\u001b[0;34m'span'\u001b[0m\u001b[0;34m,\u001b[0m \u001b[0;34m{\u001b[0m\u001b[0;34m'itemprop'\u001b[0m\u001b[0;34m:\u001b[0m \u001b[0;34m'name'\u001b[0m\u001b[0;34m}\u001b[0m\u001b[0;34m)\u001b[0m\u001b[0;34m.\u001b[0m\u001b[0mget_text\u001b[0m\u001b[0;34m(\u001b[0m\u001b[0mstrip\u001b[0m\u001b[0;34m=\u001b[0m\u001b[0;32mTrue\u001b[0m\u001b[0;34m)\u001b[0m\u001b[0;34m[\u001b[0m\u001b[0;36m0\u001b[0m\u001b[0;34m]\u001b[0m\u001b[0;34m\u001b[0m\u001b[0;34m\u001b[0m\u001b[0m\n\u001b[0m\u001b[1;32m     10\u001b[0m     \u001b[0ma_titles\u001b[0m \u001b[0;34m=\u001b[0m \u001b[0msoup\u001b[0m\u001b[0;34m.\u001b[0m\u001b[0mfind_all\u001b[0m\u001b[0;34m(\u001b[0m\u001b[0;34m'a'\u001b[0m\u001b[0;34m,\u001b[0m \u001b[0mtitle\u001b[0m\u001b[0;34m=\u001b[0m\u001b[0;32mlambda\u001b[0m \u001b[0mtitle\u001b[0m\u001b[0;34m:\u001b[0m \u001b[0mtitle\u001b[0m \u001b[0;32mand\u001b[0m \u001b[0mtitle\u001b[0m\u001b[0;34m.\u001b[0m\u001b[0mendswith\u001b[0m\u001b[0;34m(\u001b[0m\u001b[0;34m', us'\u001b[0m\u001b[0;34m)\u001b[0m\u001b[0;34m)\u001b[0m\u001b[0;34m\u001b[0m\u001b[0;34m\u001b[0m\u001b[0m\n\u001b[1;32m     11\u001b[0m \u001b[0;34m\u001b[0m\u001b[0m\n",
      "\u001b[0;32m/usr/local/lib/python3.10/dist-packages/bs4/element.py\u001b[0m in \u001b[0;36m__getattr__\u001b[0;34m(self, key)\u001b[0m\n\u001b[1;32m   2306\u001b[0m     \u001b[0;32mdef\u001b[0m \u001b[0m__getattr__\u001b[0m\u001b[0;34m(\u001b[0m\u001b[0mself\u001b[0m\u001b[0;34m,\u001b[0m \u001b[0mkey\u001b[0m\u001b[0;34m)\u001b[0m\u001b[0;34m:\u001b[0m\u001b[0;34m\u001b[0m\u001b[0;34m\u001b[0m\u001b[0m\n\u001b[1;32m   2307\u001b[0m         \u001b[0;34m\"\"\"Raise a helpful exception to explain a common code fix.\"\"\"\u001b[0m\u001b[0;34m\u001b[0m\u001b[0;34m\u001b[0m\u001b[0m\n\u001b[0;32m-> 2308\u001b[0;31m         raise AttributeError(\n\u001b[0m\u001b[1;32m   2309\u001b[0m             \u001b[0;34m\"ResultSet object has no attribute '%s'. You're probably treating a list of elements like a single element. Did you call find_all() when you meant to call find()?\"\u001b[0m \u001b[0;34m%\u001b[0m \u001b[0mkey\u001b[0m\u001b[0;34m\u001b[0m\u001b[0;34m\u001b[0m\u001b[0m\n\u001b[1;32m   2310\u001b[0m         )\n",
      "\u001b[0;31mAttributeError\u001b[0m: ResultSet object has no attribute 'get_text'. You're probably treating a list of elements like a single element. Did you call find_all() when you meant to call find()?"
     ]
    }
   ],
   "source": [
    "One_Function('https://www.menuism.com/restaurant-locations/dunkin-donuts-181624')"
   ]
  },
  {
   "cell_type": "code",
   "execution_count": 73,
   "metadata": {
    "colab": {
     "base_uri": "https://localhost:8080/",
     "height": 210
    },
    "id": "KdFzS02wNkvA",
    "outputId": "47366d11-faf6-4149-b01e-acd72825a677"
   },
   "outputs": [
    {
     "ename": "FileNotFoundError",
     "evalue": "ignored",
     "output_type": "error",
     "traceback": [
      "\u001b[0;31m---------------------------------------------------------------------------\u001b[0m",
      "\u001b[0;31mFileNotFoundError\u001b[0m                         Traceback (most recent call last)",
      "\u001b[0;32m<ipython-input-73-f0616144ca34>\u001b[0m in \u001b[0;36m<cell line: 2>\u001b[0;34m()\u001b[0m\n\u001b[1;32m      1\u001b[0m \u001b[0murl\u001b[0m \u001b[0;34m=\u001b[0m \u001b[0;34m\"/content/Starbucks Coffee Locations Near Me + Reviews & Menu.html\"\u001b[0m\u001b[0;34m\u001b[0m\u001b[0;34m\u001b[0m\u001b[0m\n\u001b[0;32m----> 2\u001b[0;31m \u001b[0mresponse\u001b[0m \u001b[0;34m=\u001b[0m \u001b[0mopen\u001b[0m\u001b[0;34m(\u001b[0m\u001b[0murl\u001b[0m\u001b[0;34m)\u001b[0m\u001b[0;34m\u001b[0m\u001b[0;34m\u001b[0m\u001b[0m\n\u001b[0m\u001b[1;32m      3\u001b[0m \u001b[0msoup1\u001b[0m \u001b[0;34m=\u001b[0m \u001b[0mBeautifulSoup\u001b[0m\u001b[0;34m(\u001b[0m\u001b[0mpage\u001b[0m\u001b[0;34m.\u001b[0m\u001b[0mread\u001b[0m\u001b[0;34m(\u001b[0m\u001b[0;34m)\u001b[0m\u001b[0;34m)\u001b[0m\u001b[0;34m\u001b[0m\u001b[0;34m\u001b[0m\u001b[0m\n",
      "\u001b[0;31mFileNotFoundError\u001b[0m: [Errno 2] No such file or directory: '/content/Starbucks Coffee Locations Near Me + Reviews & Menu.html'"
     ]
    }
   ],
   "source": [
    "url = \"/content/Starbucks Coffee Locations Near Me + Reviews & Menu.html\"\n",
    "response = open(url)\n",
    "soup1 = BeautifulSoup(page.read())"
   ]
  },
  {
   "cell_type": "code",
   "execution_count": 75,
   "metadata": {
    "id": "kapyngnJNRYR"
   },
   "outputs": [],
   "source": [
    "def scrape_website(soup):\n",
    "\n",
    "  store_name = soup.find('h1').find('span', {'itemprop': 'name'}).text\n",
    "  a_titles = soup.find_all('a', title = lambda title: title and title.endswith(', us'))\n",
    "  stores = {}\n",
    "  states_map = {}\n",
    "  for title in a_titles:\n",
    "      code = title.get('href')[-2:].upper()\n",
    "      splits = title.text.split(' ')\n",
    "      ignore_list = store_name.split(' ')\n",
    "      state = ' '.join(filter(lambda x : x not in ignore_list and x!='locations' and x[0]!='(', splits))\n",
    "      locations = splits[-1][1:-1]\n",
    "      stores[state] = locations\n",
    "      states_map[state] = code\n",
    "\n",
    "  def stateabb(state):\n",
    "    return states_map[state]\n",
    "\n",
    "  stores_df = pd.DataFrame(list(stores.items()), columns=['State', 'Locations'])\n",
    "  stores_df['State'] = stores_df['State'].apply(stateabb)\n",
    "  stores_df['Company'] = store_name\n",
    "  print(\"Store Name = \"+store_name)\n",
    "  print(stores_df)"
   ]
  },
  {
   "cell_type": "code",
   "execution_count": 76,
   "metadata": {
    "colab": {
     "base_uri": "https://localhost:8080/",
     "height": 175
    },
    "id": "_KkoYlgpNdZp",
    "outputId": "e59a3167-3e98-41ea-f85e-733f6e3831f0"
   },
   "outputs": [
    {
     "ename": "NameError",
     "evalue": "ignored",
     "output_type": "error",
     "traceback": [
      "\u001b[0;31m---------------------------------------------------------------------------\u001b[0m",
      "\u001b[0;31mNameError\u001b[0m                                 Traceback (most recent call last)",
      "\u001b[0;32m<ipython-input-76-8a8661012d4f>\u001b[0m in \u001b[0;36m<cell line: 1>\u001b[0;34m()\u001b[0m\n\u001b[0;32m----> 1\u001b[0;31m \u001b[0mscrape_website\u001b[0m\u001b[0;34m(\u001b[0m\u001b[0msoup1\u001b[0m\u001b[0;34m)\u001b[0m\u001b[0;34m\u001b[0m\u001b[0;34m\u001b[0m\u001b[0m\n\u001b[0m",
      "\u001b[0;31mNameError\u001b[0m: name 'soup1' is not defined"
     ]
    }
   ],
   "source": [
    "scrape_website(soup1)"
   ]
  }
 ],
 "metadata": {
  "colab": {
   "provenance": []
  },
  "kernelspec": {
   "display_name": "Python 3 (ipykernel)",
   "language": "python",
   "name": "python3"
  },
  "language_info": {
   "codemirror_mode": {
    "name": "ipython",
    "version": 3
   },
   "file_extension": ".py",
   "mimetype": "text/x-python",
   "name": "python",
   "nbconvert_exporter": "python",
   "pygments_lexer": "ipython3",
   "version": "3.11.4"
  }
 },
 "nbformat": 4,
 "nbformat_minor": 1
}
